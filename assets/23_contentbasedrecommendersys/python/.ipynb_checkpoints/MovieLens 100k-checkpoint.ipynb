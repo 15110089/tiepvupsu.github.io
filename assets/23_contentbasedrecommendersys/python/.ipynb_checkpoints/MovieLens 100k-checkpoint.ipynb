{
 "cells": [
  {
   "cell_type": "code",
   "execution_count": 315,
   "metadata": {
    "collapsed": true
   },
   "outputs": [],
   "source": [
    "import pandas as pd \n",
    "\n",
    "# Reading user file:\n",
    "u_cols =  ['user_id', 'age', 'sex', 'occupation', 'zip_code']\n",
    "users = pd.read_csv('ml-100k/u.user', sep='|', names=u_cols,\n",
    " encoding='latin-1')"
   ]
  },
  {
   "cell_type": "code",
   "execution_count": 316,
   "metadata": {
    "collapsed": true
   },
   "outputs": [],
   "source": [
    "#Reading ratings file:\n",
    "r_cols = ['user_id', 'movie_id', 'rating', 'unix_timestamp']\n",
    "ratings = pd.read_csv('ml-100k/u.data', sep='\\t', names=r_cols,\n",
    " encoding='latin-1')\n",
    "\n",
    "#Reading items file:\n",
    "i_cols = ['movie id', 'movie title' ,'release date','video release date', 'IMDb URL', 'unknown', 'Action', 'Adventure',\n",
    " 'Animation', 'Children\\'s', 'Comedy', 'Crime', 'Documentary', 'Drama', 'Fantasy',\n",
    " 'Film-Noir', 'Horror', 'Musical', 'Mystery', 'Romance', 'Sci-Fi', 'Thriller', 'War', 'Western']\n",
    "items = pd.read_csv('ml-100k/u.item', sep='|', names=i_cols,\n",
    " encoding='latin-1')\n",
    "\n",
    "n_users = users.shape[0]\n",
    "n_items = items.shape[0]"
   ]
  },
  {
   "cell_type": "code",
   "execution_count": 317,
   "metadata": {},
   "outputs": [
    {
     "data": {
      "text/plain": [
       "((90570, 4), (9430, 4))"
      ]
     },
     "execution_count": 317,
     "metadata": {},
     "output_type": "execute_result"
    }
   ],
   "source": [
    "ratings_base = pd.read_csv('ml-100k/ua.base', sep='\\t', names=r_cols, encoding='latin-1')\n",
    "ratings_test = pd.read_csv('ml-100k/ua.test', sep='\\t', names=r_cols, encoding='latin-1')\n",
    "ratings_base.shape, ratings_test.shape"
   ]
  },
  {
   "cell_type": "code",
   "execution_count": 318,
   "metadata": {
    "collapsed": true
   },
   "outputs": [],
   "source": [
    "rate_train = ratings_base.as_matrix()\n",
    "rate_test = ratings_test.as_matrix()"
   ]
  },
  {
   "cell_type": "code",
   "execution_count": 319,
   "metadata": {},
   "outputs": [],
   "source": [
    "import numpy as np\n",
    "def get_items_rated_by_user(rates, user_id):\n",
    "    \"\"\"\n",
    "    return (item_ids, scores)\n",
    "    \"\"\"\n",
    "    y = rates[:,0] # all users\n",
    "    ids = np.where(y == user_id +1)[0] # item indices rated by user_id\n",
    "    scores = rates[ids, 2]\n",
    "    item_ids = rates[ids, 1] - 1 # index starts from 0 \n",
    "    return (item_ids, scores)\n",
    "    "
   ]
  },
  {
   "cell_type": "code",
   "execution_count": 320,
   "metadata": {},
   "outputs": [],
   "source": [
    "X0 = items.as_matrix()\n",
    "X_train_counts = X0[:, 5:]\n",
    "# print X0"
   ]
  },
  {
   "cell_type": "code",
   "execution_count": 321,
   "metadata": {},
   "outputs": [],
   "source": [
    "#tfidf\n",
    "from sklearn.feature_extraction.text import TfidfTransformer\n",
    "transformer = TfidfTransformer(smooth_idf=False)\n",
    "tfidf = transformer.fit_transform(X_train_counts.tolist()).toarray()\n",
    "# tfidf = X_train_counts"
   ]
  },
  {
   "cell_type": "code",
   "execution_count": 322,
   "metadata": {},
   "outputs": [
    {
     "name": "stdout",
     "output_type": "stream",
     "text": [
      "[5 3 5 4 4 4 4 4 4 3 4 5 4 1 3 4 5 5 3 5 4 4 5 2 3 4 5 2 5 4 4 2 5 5 4 3 1\n",
      " 3 5 3 1 4 4 2 4 5 4 4 5 5 2 5 4 4 5 4 5 4 5 2 3 5 4 4 3 4 4 4 1 3 2 1 2 5\n",
      " 3 4 5 3 4 5 2 3 4 3 4 1 2 2 1 1 2 4 4 3 2 1 2 2 3 4 4 4 2 1 1 2 4 5 5 5 5\n",
      " 4 4 4 1 4 4 3 2 4 4 1 2 2 5 3 4 5 4 4 1 5 3 1 4 4 2 4 3 2 3 3 4 4 3 2 4 5\n",
      " 1 5 2 2 3 2 4 3 3 3]\n"
     ]
    }
   ],
   "source": [
    "from sklearn.linear_model import Ridge\n",
    "\n",
    "d = tfidf.shape[1] # data dimension\n",
    "\n",
    "#bias trick\n",
    "Xbar = np.concatenate((tfidf, np.ones((n_items, 1))), axis = 1)\n",
    "W = np.zeros((d + 1, n_users))\n",
    "\n",
    "for n in range(n_users):    \n",
    "    ids, scores = get_items_rated_by_user(rate_train, n)\n",
    "    clf = Ridge(alpha=.001)\n",
    "    Xhat = Xbar[ids, :]\n",
    "    clf.fit(Xhat, scores) \n",
    "    W[:, n] = clf.coef_\n"
   ]
  },
  {
   "cell_type": "code",
   "execution_count": 323,
   "metadata": {},
   "outputs": [],
   "source": [
    "# predicted scores\n",
    "Yhat = W.T.dot(Xbar.T)"
   ]
  },
  {
   "cell_type": "code",
   "execution_count": 324,
   "metadata": {},
   "outputs": [
    {
     "name": "stdout",
     "output_type": "stream",
     "text": [
      "[ 4.28269834  3.49810493  1.67314687  6.55191428  4.04046711  4.07617154\n",
      "  2.94292545  7.41634765  4.07617154  2.75639798]\n"
     ]
    }
   ],
   "source": [
    "print Yhat[1, :10]"
   ]
  },
  {
   "cell_type": "code",
   "execution_count": 325,
   "metadata": {},
   "outputs": [
    {
     "name": "stdout",
     "output_type": "stream",
     "text": [
      "(1682, 20)\n"
     ]
    }
   ],
   "source": [
    "print Xbar.shape"
   ]
  },
  {
   "cell_type": "code",
   "execution_count": 326,
   "metadata": {},
   "outputs": [],
   "source": [
    "# evaluate \n",
    "\n",
    "# rate test \n",
    "ids0, scores = get_items_rated_by_user(rate_test, 0)\n",
    "ids1, scores1 = get_items_rated_by_user(rate_train, 0)"
   ]
  },
  {
   "cell_type": "code",
   "execution_count": 330,
   "metadata": {},
   "outputs": [
    {
     "name": "stdout",
     "output_type": "stream",
     "text": [
      "(array([4, 5, 2, 2, 5, 4, 3, 3, 5, 3, 3, 3, 3, 4, 4, 3, 3, 4, 2, 3, 3, 4, 4,\n",
      "       5, 4, 3, 2, 3, 4, 2, 4, 4, 3, 2, 3, 3, 4, 4, 3, 5, 3, 3, 2, 4, 3, 4,\n",
      "       4, 5, 4, 3, 4, 3, 4, 3, 3, 3, 3, 4, 4, 4, 3, 4, 4, 5, 3, 1, 5, 3, 5,\n",
      "       5, 3, 4, 3, 4, 4, 4, 5, 1, 5, 4, 4, 5, 3, 3, 3, 4, 3, 2, 3, 4, 2, 3,\n",
      "       3, 4, 3, 3, 5, 4, 4, 5, 3, 2, 4, 4, 4, 3, 2, 3, 3, 4, 2, 2, 4, 3, 4,\n",
      "       4, 4, 2, 3, 3, 5, 2, 4, 3, 4, 3, 5, 3, 3, 4, 4, 4, 4, 5, 2, 5, 4, 3,\n",
      "       3, 2, 5, 3, 1, 3, 3, 3, 3, 3, 3, 4, 3, 4, 4, 3, 3, 4, 4, 3, 3, 5, 3,\n",
      "       2, 4, 5, 4, 3, 1, 5, 5, 2, 4]), array([ 1.54561049,  1.86651435,  1.62530574,  1.62530574,  1.86651435,\n",
      "        1.93529482,  3.21512875,  1.68338939,  1.4080381 ,  3.60091222,\n",
      "        1.93062729,  1.68338939,  1.68338939,  2.48865825,  1.37913049,\n",
      "        1.86651435,  1.4080381 ,  2.67296566,  1.86651435,  1.86651435,\n",
      "        1.90427918,  1.7625979 ,  0.70581066,  1.7625979 ,  1.86651435,\n",
      "        1.7625979 ,  1.37896926,  0.87453136,  1.81784035,  0.9978278 ,\n",
      "        2.19165659,  1.86651435,  1.09869852,  2.629559  ,  1.28259496,\n",
      "        1.49253841,  1.78903379,  1.65864196,  1.68338939,  3.02865397,\n",
      "        0.29617831,  1.16540886,  1.65711028,  1.00687618,  1.65711028,\n",
      "        2.13137555,  2.629559  ,  1.86651435,  0.        ,  1.09869852,\n",
      "        1.49253841,  1.65921595,  1.78903379,  1.86651435,  1.7625979 ,\n",
      "        2.08446354,  2.08446354,  2.08446354,  2.08446354,  1.78903379,\n",
      "        1.68338939,  2.17172891,  1.66508323,  1.07851696,  0.87453136,\n",
      "        1.49766254,  1.78903379,  1.7625979 ,  1.86651435,  1.90110531,\n",
      "        1.68338939,  1.26076926,  0.70581066,  1.68338939,  3.35001786,\n",
      "        1.86651435,  1.65711028,  1.52096229,  2.19165659,  1.58859965,\n",
      "        1.81139845,  1.86651435,  1.86651435,  1.68338939,  0.9978278 ,\n",
      "        1.68338939,  2.48865825,  0.87453136,  1.68338939,  1.68338939,\n",
      "        1.68338939,  2.95497856,  1.68338939,  1.37896926,  2.83863246,\n",
      "        1.68338939,  0.59181353,  1.86651435,  1.68338939,  1.07851696,\n",
      "        1.65921595,  2.46864318,  1.68338939,  0.29617831,  1.05074278,\n",
      "        2.08446354,  0.98472233,  1.00076353,  2.67296566,  1.86651435,\n",
      "        2.41378938,  1.65711028,  1.68338939,  2.98772254,  1.86651435,\n",
      "        2.72716912,  1.90110531,  1.48709536,  0.66421574,  1.09869852,\n",
      "        1.7625979 ,  0.70581066,  1.26076926,  0.        ,  2.48865825,\n",
      "        0.52716585,  1.81746149,  1.86651435,  1.78903379,  1.68338939,\n",
      "        1.65711028,  2.41378938,  1.86651435,  1.86651435,  1.68338939,\n",
      "        1.86651435,  1.78903379,  2.48865825,  1.78903379,  0.9978278 ,\n",
      "        1.68338939,  1.65921595,  3.04811811,  1.68338939,  1.68338939,\n",
      "        1.78903379,  0.84562612,  1.78903379,  1.09869852,  1.86651435,\n",
      "        1.78903379,  2.41378938,  1.78903379,  1.68338939,  1.86651435,\n",
      "        1.78903379,  2.48865825,  1.7625979 ,  1.7625979 ,  0.9978278 ,\n",
      "        0.9978278 ,  0.70581066,  1.65711028,  1.68338939,  1.68338939,\n",
      "        1.7625979 ,  1.11855855,  1.7625979 ,  1.86651435,  1.11855855,\n",
      "        0.70581066]))\n"
     ]
    }
   ],
   "source": [
    "n = 2\n",
    "ids, scores = get_items_rated_by_user(rate_train, 10)\n",
    "Yhat[n, ids]\n",
    "print(scores, Yhat[ n, ids])"
   ]
  },
  {
   "cell_type": "code",
   "execution_count": null,
   "metadata": {
    "collapsed": true
   },
   "outputs": [],
   "source": []
  }
 ],
 "metadata": {
  "kernelspec": {
   "display_name": "Python 2",
   "language": "python",
   "name": "python2"
  },
  "language_info": {
   "codemirror_mode": {
    "name": "ipython",
    "version": 2
   },
   "file_extension": ".py",
   "mimetype": "text/x-python",
   "name": "python",
   "nbconvert_exporter": "python",
   "pygments_lexer": "ipython2",
   "version": "2.7.13"
  }
 },
 "nbformat": 4,
 "nbformat_minor": 2
}
