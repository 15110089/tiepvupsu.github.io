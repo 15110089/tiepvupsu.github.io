{
 "cells": [
  {
   "cell_type": "code",
   "execution_count": 53,
   "metadata": {
    "collapsed": true
   },
   "outputs": [],
   "source": [
    "from matplotlib import rc\n",
    "rc('font',**{'family':'sans-serif','sans-serif':['Helvetica']})\n",
    "## for Palatino and other serif fonts use:\n",
    "#rc('font',**{'family':'serif','serif':['Palatino']})\n",
    "rc('text', usetex=True)\n",
    "\n"
   ]
  },
  {
   "cell_type": "markdown",
   "metadata": {},
   "source": [
    "# Random boundary"
   ]
  },
  {
   "cell_type": "code",
   "execution_count": 61,
   "metadata": {},
   "outputs": [
    {
     "data": {
      "image/png": "[encoded data removed]",
      "text/plain": [
       "<matplotlib.figure.Figure at 0x10a5cad10>"
      ]
     },
     "metadata": {},
     "output_type": "display_data"
    }
   ],
   "source": [
    "# generate data\n",
    "# list of points \n",
    "import numpy as np \n",
    "import matplotlib.pyplot as plt\n",
    "from scipy.spatial.distance import cdist\n",
    "np.random.seed(21)\n",
    "from matplotlib.backends.backend_pdf import PdfPages\n",
    "\n",
    "means = [[2, 2], [4, 1]]\n",
    "cov = [[.3, .2], [.2, .3]]\n",
    "N = 10\n",
    "X0 = np.random.multivariate_normal(means[0], cov, N)\n",
    "X1 = np.random.multivariate_normal(means[1], cov, N)\n",
    "X1[-1, :] = [3, 2]\n",
    "X = np.concatenate((X0.T, X1.T), axis = 1)\n",
    "y = np.concatenate((np.ones((1, N)), -1*np.ones((1, N))), axis = 1)\n",
    "\n",
    "with PdfPages('ssvm1.pdf') as pdf:\n",
    "    # plot points\n",
    "    plt.plot(X0[:, 0], X0[:, 1], 'bs', markersize = 8, alpha = .8)\n",
    "    plt.plot(X1[:, 0], X1[:, 1], 'ro', markersize = 8, alpha = .8)\n",
    "    # plt.plot([3.5], [2.5], 'k^', markersize = 10, alpha = .8)\n",
    "    plt.axis('equal')\n",
    "    # axis limits\n",
    "    plt.ylim(0, 3)\n",
    "    plt.xlim(2, 4)\n",
    "\n",
    "    # hide tikcs \n",
    "    cur_axes = plt.gca()\n",
    "    cur_axes.axes.get_xaxis().set_ticks([])\n",
    "    cur_axes.axes.get_yaxis().set_ticks([])\n",
    "\n",
    "    plt.xlabel('$x_1$', fontsize = 20)\n",
    "    plt.ylabel('$x_2$', fontsize = 20)\n",
    "    pdf.savefig()\n",
    "#     plt.savefig('svm1.png', bbox_inches='tight', dpi = 600)\n",
    "    plt.show()"
   ]
  },
  {
   "cell_type": "code",
   "execution_count": 62,
   "metadata": {},
   "outputs": [
    {
     "name": "stdout",
     "output_type": "stream",
     "text": [
      "('w = ', array([[-3.02583266,  1.31848276]]))\n",
      "('b = ', array([ 5.44080461]))\n"
     ]
    }
   ],
   "source": [
    "from sklearn.svm import SVC\n",
    "\n",
    "# y1 = y.reshape((2*N,))\n",
    "# X1 = X.T # each sample is one row\n",
    "clf = SVC(kernel = 'linear', C = 1e5) # just a big number \n",
    "\n",
    "clf.fit(X.T, y.reshape((2*N,))) \n",
    "\n",
    "w = clf.coef_\n",
    "b = clf.intercept_\n",
    "print('w = ', w)\n",
    "print('b = ', b)"
   ]
  },
  {
   "cell_type": "code",
   "execution_count": 63,
   "metadata": {},
   "outputs": [
    {
     "name": "stdout",
     "output_type": "stream",
     "text": [
      "[[-3.02583266  1.31848276]]\n"
     ]
    }
   ],
   "source": [
    "print(w)\n",
    "w0 = w[0, 0]\n",
    "w1 = w[0, 1]\n",
    "b = b[0]"
   ]
  },
  {
   "cell_type": "code",
   "execution_count": 69,
   "metadata": {},
   "outputs": [
    {
     "data": {
      "image/png": "[encoded data removed]",
      "text/plain": [
       "<matplotlib.figure.Figure at 0x1092a7810>"
      ]
     },
     "metadata": {},
     "output_type": "display_data"
    }
   ],
   "source": [
    "with PdfPages('svm4.pdf') as pdf:\n",
    "    # draw\n",
    "    # plot points\n",
    "    fig, ax = plt.subplots()\n",
    "\n",
    "#     x1 = np.arange(-10, 10, 0.1)\n",
    "#     y1 = -w0/w1*x1 - b/w1\n",
    "#     y2 = -w0/w1*x1 - (b-1)/w1\n",
    "#     y3 = -w0/w1*x1 - (b+1)/w1\n",
    "#     plt.plot(x1, y1, 'k', linewidth = 3)\n",
    "#     plt.plot(x1, y2, 'k')\n",
    "#     plt.plot(x1, y3, 'k')\n",
    "\n",
    "    plt.plot(X0[:, 0], X0[:, 1], 'bs', markersize = 8, alpha = .8)\n",
    "    plt.plot(X1[:, 0], X1[:, 1], 'r^', markersize = 8, alpha = .8)\n",
    "    \n",
    "    # equal axis and lim\n",
    "    plt.axis('equal')\n",
    "    plt.ylim(0, 3)\n",
    "    plt.xlim(2, 4)\n",
    "\n",
    "    # hide tikcs \n",
    "    cur_axes = plt.gca()\n",
    "    cur_axes.axes.get_xaxis().set_ticks([])\n",
    "    cur_axes.axes.get_yaxis().set_ticks([])\n",
    "\n",
    "    # add circles around support vectors \n",
    "#     for m in S:\n",
    "#         circle = plt.Circle((X[0, m], X[1, m] ), 0.1, color='k', fill = False)\n",
    "#         ax.add_artist(circle)\n",
    "\n",
    "\n",
    "    plt.xlabel('$x_1$', fontsize = 20)\n",
    "    plt.ylabel('$x_2$', fontsize = 20)\n",
    "#     plt.savefig('svm4.png', bbox_inches='tight', dpi = 300)\n",
    "    pdf.savefig()\n",
    "    plt.show()"
   ]
  },
  {
   "cell_type": "code",
   "execution_count": null,
   "metadata": {
    "collapsed": true
   },
   "outputs": [],
   "source": []
  }
 ],
 "metadata": {
  "kernelspec": {
   "display_name": "Python 2",
   "language": "python",
   "name": "python2"
  },
  "language_info": {
   "codemirror_mode": {
    "name": "ipython",
    "version": 2
   },
   "file_extension": ".py",
   "mimetype": "text/x-python",
   "name": "python",
   "nbconvert_exporter": "python",
   "pygments_lexer": "ipython2",
   "version": "2.7.13"
  }
 },
 "nbformat": 4,
 "nbformat_minor": 2
}
