{
 "cells": [
  {
   "cell_type": "code",
   "execution_count": 19,
   "metadata": {
    "collapsed": true
   },
   "outputs": [],
   "source": [
    "from matplotlib import rc\n",
    "rc('font',**{'family':'sans-serif','sans-serif':['Helvetica']})\n",
    "## for Palatino and other serif fonts use:\n",
    "#rc('font',**{'family':'serif','serif':['Palatino']})\n",
    "rc('text', usetex=True)\n",
    "\n"
   ]
  },
  {
   "cell_type": "markdown",
   "metadata": {},
   "source": [
    "# Random boundary"
   ]
  },
  {
   "cell_type": "code",
   "execution_count": 25,
   "metadata": {},
   "outputs": [
    {
     "data": {
      "image/png": "[encoded data removed]",
      "text/plain": [
       "<matplotlib.figure.Figure at 0x10aacdd90>"
      ]
     },
     "metadata": {},
     "output_type": "display_data"
    }
   ],
   "source": [
    "# To support both python 2 and python 3\n",
    "from __future__ import division, print_function, unicode_literals\n",
    "# list of points \n",
    "import numpy as np \n",
    "import matplotlib.pyplot as plt\n",
    "from scipy.spatial.distance import cdist\n",
    "from matplotlib.backends.backend_pdf import PdfPages\n",
    "np.random.seed(22)\n",
    "\n",
    "means = [[2, 2], [4, 2]]\n",
    "cov = [[.7, 0], [0, .7]]\n",
    "N = 20\n",
    "X0 = np.random.multivariate_normal(means[0], cov, N) # each row is a data point \n",
    "X1 = np.random.multivariate_normal(means[1], cov, N)\n",
    "\n",
    "plt.plot(X0[:, 0], X0[:, 1], 'bs', markersize = 8, alpha = 1)\n",
    "plt.plot(X1[:, 0], X1[:, 1], 'ro', markersize = 8, alpha = 1)\n",
    "plt.axis('equal')\n",
    "plt.ylim(0, 4)\n",
    "plt.xlim(0, 5)\n",
    "\n",
    "# hide tikcs \n",
    "cur_axes = plt.gca()\n",
    "cur_axes.axes.get_xaxis().set_ticks([])\n",
    "cur_axes.axes.get_yaxis().set_ticks([])\n",
    "\n",
    "plt.xlabel('$x_1$', fontsize = 20)\n",
    "plt.ylabel('$x_2$', fontsize = 20)\n",
    "# plt.savefig('logistic_2d.png', bbox_inches='tight', dpi = 300)\n",
    "plt.show()"
   ]
  },
  {
   "cell_type": "code",
   "execution_count": 26,
   "metadata": {
    "collapsed": true
   },
   "outputs": [],
   "source": [
    "X = np.vstack((X0, X1))\n",
    "y = np.vstack((np.ones((N,1 )), -np.ones((N,1 )))).reshape((2*N,))"
   ]
  },
  {
   "cell_type": "code",
   "execution_count": 53,
   "metadata": {},
   "outputs": [
    {
     "name": "stdout",
     "output_type": "stream",
     "text": [
      "[[-1.87461946 -1.80697358]]\n",
      "[ 8.4969119]\n"
     ]
    }
   ],
   "source": [
    "from sklearn.svm import SVC\n",
    "C = 100\n",
    "# def smSVM_sklearn(X, y, C):\n",
    "clf = SVC(kernel = 'linear', C = C) # just a big number \n",
    "\n",
    "clf.fit(X, y) \n",
    "\n",
    "print(clf.coef_)\n",
    "print(clf.intercept_)\n",
    "w0 = clf.coef_[0, 0]\n",
    "w1 = clf.coef_[0, 1]\n",
    "b = b = clf.intercept_[0]\n",
    "\n",
    "w_sklearn = clf.coef_.reshape(-1, 1)\n",
    "b_sklearn = clf.intercept_[0]\n",
    "# S = clf.support_"
   ]
  },
  {
   "cell_type": "markdown",
   "metadata": {},
   "source": [
    "# By dual problems"
   ]
  },
  {
   "cell_type": "code",
   "execution_count": 54,
   "metadata": {},
   "outputs": [
    {
     "name": "stdout",
     "output_type": "stream",
     "text": [
      "lambda = \n",
      " [[  1.11381472e-06   9.99999967e+01   1.10533113e-06   6.70163541e-06\n",
      "    3.40838760e+01   4.73972851e-06   9.99999978e+01   3.13320447e-06\n",
      "    9.99999985e+01   5.06729333e+01   9.99999929e+01   3.23564235e-06\n",
      "    9.99999984e+01   9.99999948e+01   1.37977626e-06   9.99997155e+01\n",
      "    3.45005661e-06   1.46190314e-06   5.50601998e-06   1.45062544e-06\n",
      "    1.85373848e-06   1.14181647e-06   8.47565685e+01   9.99999966e+01\n",
      "    9.99999971e+01   8.00764710e-07   2.65537194e-06   1.45230729e-06\n",
      "    4.15737085e-06   9.99999887e+01   9.99999761e+01   8.98414772e-07\n",
      "    9.99999979e+01   1.75651608e-06   8.27947898e-07   1.04289117e-06\n",
      "    9.99999969e+01   9.07920761e-07   8.83138297e-07   9.99999971e+01]]\n"
     ]
    }
   ],
   "source": [
    "\n",
    "from cvxopt import matrix, solvers\n",
    "# build K\n",
    "V = np.concatenate((X0.T, -X1.T), axis = 1)\n",
    "K = matrix(V.T.dot(V))\n",
    "\n",
    "p = matrix(-np.ones((2*N, 1)))\n",
    "# build A, b, G, h \n",
    "G = matrix(np.vstack((-np.eye(2*N), np.eye(2*N))))\n",
    "\n",
    "h = np.vstack((np.zeros((2*N, 1)), C*np.ones((2*N, 1))))\n",
    "h = matrix(np.vstack((np.zeros((2*N, 1)), C*np.ones((2*N, 1)))))\n",
    "A = matrix(y.reshape((-1, 2*N))) \n",
    "b = matrix(np.zeros((1, 1))) \n",
    "solvers.options['show_progress'] = False\n",
    "sol = solvers.qp(K, p, G, h, A, b)\n",
    "\n",
    "l = np.array(sol['x'])\n",
    "print('lambda = \\n', l.T)"
   ]
  },
  {
   "cell_type": "code",
   "execution_count": 55,
   "metadata": {},
   "outputs": [],
   "source": [
    "S = np.where(l > 1e-5)[0]\n",
    "S2 = np.where(l < .99*C)[0]\n",
    "\n",
    "M = [val for val in S if val in S2] # intersection of two lists"
   ]
  },
  {
   "cell_type": "code",
   "execution_count": 56,
   "metadata": {},
   "outputs": [],
   "source": [
    "XT = X.T \n",
    "VS = V[:, S]\n",
    "XS = XT[:, S]\n",
    "yS = y[ S]\n",
    "lS = l[S]\n",
    "lM = l[M]\n",
    "yM = y[M]\n",
    "XM = XT[:, M]\n",
    "w_dual = VS.dot(lS).reshape(-1, 1)\n",
    "b_dual = np.mean(yM.T - w_dual.T.dot(XM))\n"
   ]
  },
  {
   "cell_type": "markdown",
   "metadata": {},
   "source": [
    "# Hinge loss"
   ]
  },
  {
   "cell_type": "code",
   "execution_count": 84,
   "metadata": {},
   "outputs": [
    {
     "name": "stdout",
     "output_type": "stream",
     "text": [
      "Gradient different: 0.000000\n"
     ]
    }
   ],
   "source": [
    "X0_ext = np.vstack((X0.T, np.ones((1, N))))\n",
    "X1_ext = np.vstack((X1.T, np.ones((1, N))))\n",
    "\n",
    "Z = np.hstack((X0_ext, - X1_ext))\n",
    "lam = 1./C\n",
    "\n",
    "def cost(w):\n",
    "    u = w.T.dot(Z)\n",
    "    return (np.sum(np.maximum(0, 1 - u)) + .5*lam*np.sum(w*w)) #- .5*lam*w[-1]*w[-1]\n",
    "\n",
    "def grad(w):\n",
    "    u = w.T.dot(Z) \n",
    "    H = np.where(u < 1)[1]\n",
    "    ZS = Z[:, H]\n",
    "    g = (-np.sum(ZS, axis = 1, keepdims = True) + lam*w)\n",
    "#     g[-1] -= lam*w[-1]\n",
    "    return g\n",
    "\n",
    "eps = 1e-6\n",
    "def num_grad(w):\n",
    "    g = np.zeros_like(w)\n",
    "    for i in xrange(len(w)):\n",
    "        wp = w.copy()\n",
    "        wm = w.copy()\n",
    "        wp[i] += eps \n",
    "        wm[i] -= eps \n",
    "        g[i] = (cost(wp) - cost(wm))/(2*eps)\n",
    "    return g \n",
    "\n",
    "w0 = np.random.randn(X0_ext.shape[0], 1) \n",
    "g1 = grad(w0)\n",
    "g2 = num_grad(w0)\n",
    "diff = np.linalg.norm(g1 - g2)\n",
    "print('Gradient different: %f' %diff)"
   ]
  },
  {
   "cell_type": "code",
   "execution_count": 92,
   "metadata": {},
   "outputs": [
    {
     "name": "stdout",
     "output_type": "stream",
     "text": [
      "iter 1 cost: 15.950679\n",
      "iter 10001 cost: 15.953117\n",
      "iter 20001 cost: 15.952893\n",
      "iter 30001 cost: 15.951808\n",
      "iter 40001 cost: 15.952062\n",
      "iter 50001 cost: 15.951009\n",
      "iter 60001 cost: 15.950786\n",
      "iter 70001 cost: 15.950599\n",
      "iter 80001 cost: 15.953210\n",
      "iter 90001 cost: 15.952125\n",
      "[[-1.30716314]\n",
      " [-1.26023933]\n",
      " [ 6.22887336]]\n"
     ]
    }
   ],
   "source": [
    "def grad_descent(w0, eta):\n",
    "    w = w0\n",
    "    it = 0 \n",
    "    while it < 100000:\n",
    "        it = it + 1\n",
    "        g = grad(w)\n",
    "        w -= eta*g\n",
    "        if (it % 10000) == 1:\n",
    "            print('iter %d' %it + ' cost: %f' %cost(w))\n",
    "        if np.linalg.norm(g) < 1e-5:\n",
    "            break \n",
    "    return w \n",
    "\n",
    "w = grad_descent(w0, 0.0003)\n",
    "w_hinge = w[:-1].reshape(-1, 1)\n",
    "b_hinge = w[-1]\n",
    "print(w)"
   ]
  },
  {
   "cell_type": "code",
   "execution_count": 88,
   "metadata": {},
   "outputs": [
    {
     "data": {
      "image/png": "[encoded data removed]",
      "text/plain": [
       "<matplotlib.figure.Figure at 0x10b63de50>"
      ]
     },
     "metadata": {},
     "output_type": "display_data"
    },
    {
     "data": {
      "image/png": "[encoded data removed]",
      "text/plain": [
       "<matplotlib.figure.Figure at 0x10b48e650>"
      ]
     },
     "metadata": {},
     "output_type": "display_data"
    },
    {
     "data": {
      "image/png": "[encoded data removed]",
      "text/plain": [
       "<matplotlib.figure.Figure at 0x10b19f310>"
      ]
     },
     "metadata": {},
     "output_type": "display_data"
    }
   ],
   "source": [
    "def myplot(X0, X1, w, b, filename):\n",
    "    with PdfPages(filename) as pdf:\n",
    "        fig, ax = plt.subplots()\n",
    "\n",
    "        w0 = w[0]\n",
    "        w1 = w[1]\n",
    "        x1 = np.arange(-10, 10, 0.1)\n",
    "        y1 = -w0/w1*x1 - b/w1\n",
    "        y2 = -w0/w1*x1 - (b-1)/w1\n",
    "        y3 = -w0/w1*x1 - (b+1)/w1\n",
    "        plt.plot(x1, y1, 'k', linewidth = 3)\n",
    "        plt.plot(x1, y2, 'k')\n",
    "        plt.plot(x1, y3, 'k')\n",
    "\n",
    "        # equal axis and lim\n",
    "        plt.axis('equal')\n",
    "        plt.ylim(0, 3)\n",
    "        plt.xlim(2, 4)\n",
    "\n",
    "        # hide tikcs \n",
    "        cur_axes = plt.gca()\n",
    "        cur_axes.axes.get_xaxis().set_ticks([])\n",
    "        cur_axes.axes.get_yaxis().set_ticks([])\n",
    "\n",
    "        # fill two regions\n",
    "        y4 = 10*x1\n",
    "        plt.plot(x1, y1, 'k')\n",
    "        plt.fill_between(x1, y1, color='blue', alpha='0.1')\n",
    "        plt.fill_between(x1, y1, y4, color = 'red', alpha = '.1')\n",
    "\n",
    "        plt.xlabel('$x_1$', fontsize = 20)\n",
    "        plt.ylabel('$x_2$', fontsize = 20)\n",
    "\n",
    "\n",
    "        plt.plot(X0[:, 0], X0[:, 1], 'bs', markersize = 8, alpha = .8)\n",
    "        plt.plot(X1[:, 0], X1[:, 1], 'ro', markersize = 8, alpha = .8)\n",
    "        pdf.savefig()\n",
    "        plt.show()\n",
    "\n",
    "myplot(X0, X1, w_sklearn, b_sklearn)\n",
    "myplot(X0, X1, w_dual, b_dual)\n",
    "myplot(X0, X1, w_hinge, b_hinge)"
   ]
  },
  {
   "cell_type": "code",
   "execution_count": 83,
   "metadata": {},
   "outputs": [
    {
     "name": "stdout",
     "output_type": "stream",
     "text": [
      "[[-1.87461946]\n",
      " [-1.80697358]] 8.49691190196\n",
      "[[-1.87457279]\n",
      " [-1.80695039]] 8.49672109814\n",
      "[[-1.87431769]\n",
      " [-1.8066135 ]] [ 8.49527829]\n"
     ]
    }
   ],
   "source": [
    "print(w_sklearn, b_sklearn)\n",
    "print(w_dual, b_dual) \n",
    "print(w_hinge, b_hinge)"
   ]
  },
  {
   "cell_type": "code",
   "execution_count": 73,
   "metadata": {},
   "outputs": [
    {
     "name": "stdout",
     "output_type": "stream",
     "text": [
      "[22 23 24 29 30 32 36 39  1  4  6  8  9 10 12 13 15]\n"
     ]
    }
   ],
   "source": [
    "print(clf.support_)"
   ]
  },
  {
   "cell_type": "code",
   "execution_count": 74,
   "metadata": {},
   "outputs": [
    {
     "name": "stdout",
     "output_type": "stream",
     "text": [
      "[[ -84.7566663  -100.         -100.         -100.         -100.         -100.\n",
      "  -100.         -100.          100.           34.08426691  100.          100.\n",
      "    50.67239939  100.          100.          100.          100.        ]]\n"
     ]
    }
   ],
   "source": [
    "print(clf.dual_coef_)"
   ]
  },
  {
   "cell_type": "code",
   "execution_count": null,
   "metadata": {
    "collapsed": true
   },
   "outputs": [],
   "source": []
  }
 ],
 "metadata": {
  "kernelspec": {
   "display_name": "Python 2",
   "language": "python",
   "name": "python2"
  },
  "language_info": {
   "codemirror_mode": {
    "name": "ipython",
    "version": 2
   },
   "file_extension": ".py",
   "mimetype": "text/x-python",
   "name": "python",
   "nbconvert_exporter": "python",
   "pygments_lexer": "ipython2",
   "version": "2.7.13"
  }
 },
 "nbformat": 4,
 "nbformat_minor": 2
}
