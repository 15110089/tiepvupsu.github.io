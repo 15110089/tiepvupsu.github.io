{
 "cells": [
  {
   "cell_type": "code",
   "execution_count": 30,
   "metadata": {
    "collapsed": false
   },
   "outputs": [
    {
     "ename": "IndentationError",
     "evalue": "unexpected indent (<ipython-input-30-40cb48a2b513>, line 23)",
     "output_type": "error",
     "traceback": [
      "\u001b[0;36m  File \u001b[0;32m\"<ipython-input-30-40cb48a2b513>\"\u001b[0;36m, line \u001b[0;32m23\u001b[0m\n\u001b[0;31m    plt.plot([-0, -0], [-50, 120], 'k-')\u001b[0m\n\u001b[0m    ^\u001b[0m\n\u001b[0;31mIndentationError\u001b[0m\u001b[0;31m:\u001b[0m unexpected indent\n"
     ]
    }
   ],
   "source": [
    "# To support both python 2 and python 3\n",
    "from __future__ import division, print_function, unicode_literals\n",
    "import math\n",
    "import numpy as np \n",
    "from matplotlib.backends.backend_pdf import PdfPages\n",
    "\n",
    "import matplotlib.pyplot as plt\n",
    "\n",
    "x = np.linspace(-1, 5, 1000)\n",
    "\n",
    "\n",
    "def f0(x):\n",
    "    return x**2 + 10*np.sin(x) + 2\n",
    "def f1(x):\n",
    "    return (x - 2)**2 - 4\n",
    "\n",
    "y = f0(x)\n",
    "\n",
    "z = f1(x)\n",
    "\n",
    "with PdfPages('dual_func.pdf') as pdf:\n",
    "    fig = plt.figure(figsize=(8, 6)) \n",
    "\tplt.plot([-0, -0], [-50, 120], 'k-')\n",
    "\tplt.plot([4, 4], [-50, 120], 'k-')\n",
    "\tfor l in np.linspace(0.2, 10, 10):\n",
    "\t    y1 = y + l*z;\n",
    "\t    plt.plot(x, y1, 'r:')\n",
    "\t    \n",
    "\t \n",
    "\tplt.plot(x, y, 'b-', linewidth = 4, label = '$f_0(x)$')\n",
    "\tplt.plot(x, z, 'g--', linewidth = 2, label = '$f_1(x)$')\n",
    "\n",
    "\n",
    "\tplt.plot(x, y1, 'r:', label = '$f_0(x) + \\lambda f_1(x)$')   \n",
    "\tplt.ylim([-30, 20])\n",
    "\tplt.legend(loc = \"best\")\n",
    "\tpdf.savefig()  # saves the current figure into a pdf page \n",
    "\n",
    "\tplt.show()\n",
    "\tplt.close()"
   ]
  },
  {
   "cell_type": "code",
   "execution_count": 29,
   "metadata": {
    "collapsed": false
   },
   "outputs": [
    {
     "data": {
      "image/png": "[encoded data removed]",
      "text/plain": [
       "<matplotlib.figure.Figure at 0x10f22f390>"
      ]
     },
     "metadata": {},
     "output_type": "display_data"
    },
    {
     "name": "stdout",
     "output_type": "stream",
     "text": [
      "0\n",
      "0\n"
     ]
    }
   ],
   "source": [
    "def grad(l, x):\n",
    "    return 2*x + 10*np.cos(x)+2*l*(x-2)\n",
    "\n",
    "def Lagrange(l, x):\n",
    "    return x**2 + 10*np.sin(x) + 2 + l*((x - 2)**2 - 4)\n",
    "def sol(l, x0, eta):\n",
    "    max_iter = 1000;\n",
    "    it = 0\n",
    "    x = x0  \n",
    "    while it < max_iter:\n",
    "        it += 1 \n",
    "        x -= eta*grad(l, x);\n",
    "#         if x < 0:\n",
    "#             x = 0\n",
    "#         elif x> 4:\n",
    "#             x = 4\n",
    "        if grad(l, x)**2 < 1e-12:\n",
    "            break\n",
    "    return x \n",
    "\n",
    "p = Lagrange(0, 0)\n",
    "\n",
    "l = np.linspace(0, 10, 1000);\n",
    "yl = []\n",
    "for i in range(len(l)):\n",
    "    x0 = sol(l[i], 1, 0.001)\n",
    "    yl.append(Lagrange(l[i], x0))\n",
    "\n",
    "with PdfPages('dual_func2.pdf') as pdf:   \n",
    "    plt.plot(l, yl, 'r', linewidth = 2, label = '$g(\\lambda)$')\n",
    "    plt.plot([0, 10], [p, p], 'b--', linewidth = 4, label = '$p^*$')\n",
    "    plt.legend(loc = \"best\")\n",
    "    pdf.savefig() \n",
    "    plt.show()    \n",
    "    plt.close()             \n",
    "                     \n",
    "print(sol(0, -4, 0.01))\n",
    "print(sol(1, -4, 0.01))"
   ]
  },
  {
   "cell_type": "code",
   "execution_count": 26,
   "metadata": {
    "collapsed": false
   },
   "outputs": [
    {
     "name": "stdout",
     "output_type": "stream",
     "text": [
      "0\n"
     ]
    }
   ],
   "source": [
    "p = Lagrange(0, sol(0, 1, 0.01))\n",
    "x0 = sol(0, 1, 0.01)\n",
    "print(x0)"
   ]
  },
  {
   "cell_type": "code",
   "execution_count": null,
   "metadata": {
    "collapsed": true
   },
   "outputs": [],
   "source": []
  }
 ],
 "metadata": {
  "kernelspec": {
   "display_name": "Python 2",
   "language": "python",
   "name": "python2"
  },
  "language_info": {
   "codemirror_mode": {
    "name": "ipython",
    "version": 2
   },
   "file_extension": ".py",
   "mimetype": "text/x-python",
   "name": "python",
   "nbconvert_exporter": "python",
   "pygments_lexer": "ipython2",
   "version": "2.7.13"
  }
 },
 "nbformat": 4,
 "nbformat_minor": 2
}
