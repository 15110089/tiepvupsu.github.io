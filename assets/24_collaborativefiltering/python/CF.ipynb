{
 "cells": [
  {
   "cell_type": "code",
   "execution_count": 7,
   "metadata": {},
   "outputs": [
    {
     "name": "stdout",
     "output_type": "stream",
     "text": [
      "[  0.00000000e+00   0.00000000e+00   0.00000000e+00   0.00000000e+00\n",
      "   0.00000000e+00   0.00000000e+00  -2.22044605e-16]\n"
     ]
    }
   ],
   "source": [
    "import numpy as np \n",
    "\n",
    "Ybar = np.array([[2., 9./4, -1./2, -4./3, -3./2, 0., 0.], \n",
    "                 [0., 0., 0., -4./3, 0., 1., 0.], \n",
    "                 [0., 5./4, -3./2, 0., 0., -1., -5./3],\n",
    "                 [-1., -3./4, 1./2, 8./3, 3./2, 0., 1./3], \n",
    "                 [-1., -11./4, 3./2, 0., 0., 0., 4./3]])\n",
    "\n",
    "print Ybar.sum(axis =0)"
   ]
  },
  {
   "cell_type": "code",
   "execution_count": 17,
   "metadata": {},
   "outputs": [
    {
     "name": "stdout",
     "output_type": "stream",
     "text": [
      "[[  6.           8.          -3.          -5.33333333  -4.5          0.\n",
      "   -1.66666667]\n",
      " [  8.          14.75        -7.5         -5.          -4.5         -1.25\n",
      "   -6.        ]\n",
      " [ -3.          -7.5          5.           2.           1.5          1.5\n",
      "    4.66666667]\n",
      " [ -5.33333333  -5.           2.          10.66666667   6.          -1.33333333\n",
      "    0.88888889]\n",
      " [ -4.5         -4.5          1.5          6.           4.5          0.\n",
      "    0.5       ]\n",
      " [  0.          -1.25         1.5         -1.33333333   0.           2.\n",
      "    1.66666667]\n",
      " [ -1.66666667  -6.           4.66666667   0.88888889   0.5          1.66666667\n",
      "    4.66666667]]\n"
     ]
    }
   ],
   "source": [
    "print Ybar.T.dot(Ybar)"
   ]
  },
  {
   "cell_type": "code",
   "execution_count": 18,
   "metadata": {},
   "outputs": [
    {
     "name": "stdout",
     "output_type": "stream",
     "text": [
      "[  6.          14.75         5.          10.66666667   4.5          2.\n",
      "   4.66666667]\n"
     ]
    }
   ],
   "source": [
    "print (Ybar*Ybar).sum(axis = 0)"
   ]
  },
  {
   "cell_type": "code",
   "execution_count": 19,
   "metadata": {},
   "outputs": [],
   "source": [
    "from sklearn.metrics.pairwise import cosine_similarity\n",
    "\n",
    "S = cosine_similarity(Ybar.T, Ybar.T)"
   ]
  },
  {
   "cell_type": "code",
   "execution_count": 20,
   "metadata": {},
   "outputs": [
    {
     "name": "stdout",
     "output_type": "stream",
     "text": [
      "[[ -2.22044605e-16  -2.22044605e-16   1.11022302e-16   1.11022302e-16\n",
      "    2.22044605e-16   0.00000000e+00   5.55111512e-17]\n",
      " [ -2.22044605e-16  -2.22044605e-16   0.00000000e+00  -5.55111512e-17\n",
      "    1.11022302e-16   0.00000000e+00   0.00000000e+00]\n",
      " [  1.11022302e-16   0.00000000e+00   0.00000000e+00   5.55111512e-17\n",
      "    0.00000000e+00   0.00000000e+00  -1.11022302e-16]\n",
      " [  1.11022302e-16  -5.55111512e-17   5.55111512e-17   0.00000000e+00\n",
      "    0.00000000e+00   0.00000000e+00   0.00000000e+00]\n",
      " [  2.22044605e-16   1.11022302e-16   0.00000000e+00  -1.11022302e-16\n",
      "   -2.22044605e-16   0.00000000e+00   1.38777878e-17]\n",
      " [  0.00000000e+00   0.00000000e+00   0.00000000e+00   0.00000000e+00\n",
      "    0.00000000e+00   2.22044605e-16   0.00000000e+00]\n",
      " [  5.55111512e-17   0.00000000e+00  -1.11022302e-16   0.00000000e+00\n",
      "    1.38777878e-17   0.00000000e+00   2.22044605e-16]]\n"
     ]
    }
   ],
   "source": [
    "def cosine_similarity_naive(X, Y):\n",
    "    \"\"\"\n",
    "    X shape (n_samples, n_features)\n",
    "    Y shape (n_samples, n_features)\n",
    "    \"\"\"\n",
    "    n1 = X.shape[0]\n",
    "    n2 = Y.shape[0]\n",
    "    res = np.zeros((n1, n2))\n",
    "    for i in range(n1):\n",
    "        for j in range(n2):\n",
    "            xi = X[i, :]\n",
    "            yj = Y[j, :]\n",
    "            res[i, j] = (xi.T.dot(yj))/np.sqrt((xi.T.dot(xi))*yj.T.dot(yj))\n",
    "    return res \n",
    "\n",
    "print cosine_similarity_naive(Ybar.T, Ybar.T)-cosine_similarity(Ybar.T, Ybar.T)"
   ]
  },
  {
   "cell_type": "code",
   "execution_count": null,
   "metadata": {
    "collapsed": true
   },
   "outputs": [],
   "source": []
  },
  {
   "cell_type": "code",
   "execution_count": 30,
   "metadata": {},
   "outputs": [
    {
     "name": "stdout",
     "output_type": "stream",
     "text": [
      "[-0.54772256 -0.87333376  1.          0.27386128  0.31622777  0.47434165\n",
      "  0.96609178]\n"
     ]
    }
   ],
   "source": [
    "print S[:, 2\n",
    "       ]"
   ]
  },
  {
   "cell_type": "code",
   "execution_count": 47,
   "metadata": {},
   "outputs": [
    {
     "name": "stdout",
     "output_type": "stream",
     "text": [
      "0.553921568627\n"
     ]
    }
   ],
   "source": [
    "s1 = .13\n",
    "s2 = .55\n",
    "r1 = -4./3\n",
    "r2 = 1 \n",
    "\n",
    "print (s1 *r1  + s2*r2)/(abs(s1) + abs(s2))"
   ]
  },
  {
   "cell_type": "code",
   "execution_count": null,
   "metadata": {
    "collapsed": true
   },
   "outputs": [],
   "source": []
  }
 ],
 "metadata": {
  "kernelspec": {
   "display_name": "Python 2",
   "language": "python",
   "name": "python2"
  },
  "language_info": {
   "codemirror_mode": {
    "name": "ipython",
    "version": 2
   },
   "file_extension": ".py",
   "mimetype": "text/x-python",
   "name": "python",
   "nbconvert_exporter": "python",
   "pygments_lexer": "ipython2",
   "version": "2.7.13"
  }
 },
 "nbformat": 4,
 "nbformat_minor": 2
}
