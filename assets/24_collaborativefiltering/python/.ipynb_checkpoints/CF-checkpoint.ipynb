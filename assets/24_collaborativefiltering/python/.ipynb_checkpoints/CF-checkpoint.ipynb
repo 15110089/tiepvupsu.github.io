{
 "cells": [
  {
   "cell_type": "markdown",
   "metadata": {},
   "source": [
    "# Collaborative Filtering example \n"
   ]
  },
  {
   "cell_type": "code",
   "execution_count": 315,
   "metadata": {},
   "outputs": [
    {
     "name": "stdout",
     "output_type": "stream",
     "text": [
      "Number of users:  7\n",
      "Number of items:  5\n"
     ]
    }
   ],
   "source": [
    "import pandas as pd \n",
    "import numpy as np\n",
    "\n",
    "# data file \n",
    "r_cols = ['user_id', 'item_id', 'rating']\n",
    "\n",
    "ratings = pd.read_csv('ex.dat', sep = ' ', names = r_cols, encoding='latin-1')\n",
    "\n",
    "Y_data = ratings.as_matrix()#.astype(np.float32)\n",
    "n_users = int(np.max(Y_data[:, 0]))\n",
    "n_items = int(np.max(Y_data[:, 1]))\n",
    "\n",
    "# since indices in python start from 0, we need to -1\n",
    "Y_data[:, 0] -= 1\n",
    "Y_data[:, 1] -= 1\n",
    "\n",
    "print 'Number of users: ', n_users\n",
    "print 'Number of items: ', n_items"
   ]
  },
  {
   "cell_type": "code",
   "execution_count": 313,
   "metadata": {},
   "outputs": [],
   "source": [
    "import numpy as np\n",
    "# Find mean rating of each user \n",
    "# and normalize the rating matrix\n",
    "\n",
    "def normalize(rating_data):\n",
    "    y = rating_data[:, 0] # all users\n",
    "    normalized_rating_data = rating_data.copy()\n",
    "    mu = np.zeros((n_users,))\n",
    "    for n in xrange(n_users):\n",
    "        # row indices of rating done by user n\n",
    "        ids = np.where(y == n)[0].astype(np.int32)\n",
    "        # indices of all items rated by user n\n",
    "        item_ids = rating_data[ids, 1] \n",
    "        # and the corresponding ratings \n",
    "        ratings = rating_data[ids, 2]\n",
    "        # take mean\n",
    "        mu[n] = np.mean(ratings) \n",
    "        # normalize\n",
    "        normalized_rating_data[ids, 2] = ratings - mu[n]\n",
    "        \n",
    "    return normalized_rating_data, mu\n",
    "\n",
    "\n",
    "Ybar_data, mu = normalize(rating_data)\n",
    "# print Ybar_data, mu"
   ]
  },
  {
   "cell_type": "code",
   "execution_count": 302,
   "metadata": {},
   "outputs": [],
   "source": [
    "# form the rating matrix as a sparse matrix \n",
    "# the sparsity is important for both memory and computing \n",
    "# efficient. For example, if #user = 1M, #item = 100k\n",
    "# then shape of the rating matrix would be (100k, 1M), you may not\n",
    "# have enough memory to store this. \n",
    "# Then, instead, we store nonzeros only, \n",
    "# and, of course, their locations\n",
    "from scipy import sparse \n",
    "Ybar = sparse.coo_matrix((Ybar_data[:, 2],\n",
    "            (Ybar_data[:, 1], Ybar_data[:, 0])), (n_items, n_users))"
   ]
  },
  {
   "cell_type": "code",
   "execution_count": 314,
   "metadata": {},
   "outputs": [
    {
     "name": "stdout",
     "output_type": "stream",
     "text": [
      "[[ 1.    0.85 -0.55 -0.67 -0.87  0.   -0.31]\n",
      " [ 0.85  1.   -0.87 -0.4  -0.55 -0.23 -0.72]\n",
      " [-0.55 -0.87  1.    0.27  0.32  0.47  0.97]\n",
      " [-0.67 -0.4   0.27  1.    0.87 -0.29  0.13]\n",
      " [-0.87 -0.55  0.32  0.87  1.    0.    0.11]\n",
      " [ 0.   -0.23  0.47 -0.29  0.    1.    0.55]\n",
      " [-0.31 -0.72  0.97  0.13  0.11  0.55  1.  ]]\n"
     ]
    }
   ],
   "source": [
    "# cosine similarity matrix \n",
    "# If number of users is small, we can calculate all at once. \n",
    "# If not, we calculate cosine similarity of one user with others\n",
    "# one by one. Note: the cosine_similarity function takes inputdata\n",
    "# in form of row by row (each row is a datapoint). Then we need to \n",
    "# transpose the normalized raring matrix\n",
    "from sklearn.metrics.pairwise import cosine_similarity\n",
    "S = cosine_similarity(Ybar.T, Ybar.T)\n",
    "\n",
    "# print S. For simplicity, we need only 2 digits after \n",
    "# the decimal point, \n",
    "np.set_printoptions(precision=2)\n",
    "print S\n"
   ]
  },
  {
   "cell_type": "code",
   "execution_count": 304,
   "metadata": {},
   "outputs": [
    {
     "name": "stdout",
     "output_type": "stream",
     "text": [
      "[1 2 5 6]\n"
     ]
    }
   ],
   "source": [
    "# d) \n",
    "Y_data = rating_data\n",
    "# Ybar_data = normalized_rating_data\n",
    "# example first u = 0, i = 2 \n",
    "u = 0 \n",
    "i = 2 \n",
    "# Step 1: find all users who rated i_2 \n",
    "ids = np.where(Y_data[:, 1] == i)[0].astype(np.int32)\n",
    "# print Y_data[users_rated_i, :]\n",
    "users_rated_i = (Y_data[ids, 0]).astype(np.int32)\n",
    "\n",
    "print users_rated_i\n",
    "# print Y_data"
   ]
  },
  {
   "cell_type": "code",
   "execution_count": 305,
   "metadata": {},
   "outputs": [
    {
     "name": "stdout",
     "output_type": "stream",
     "text": [
      "[ 0.85 -0.55  0.   -0.31]\n"
     ]
    }
   ],
   "source": [
    "sim = S[u, users_rated_i]\n",
    "print sim\n",
    "# print Y_data[users_rated_i, 0]"
   ]
  },
  {
   "cell_type": "code",
   "execution_count": 306,
   "metadata": {},
   "outputs": [
    {
     "name": "stdout",
     "output_type": "stream",
     "text": [
      "[ 0.    0.85]\n"
     ]
    }
   ],
   "source": [
    "k = 2\n",
    "a = np.argsort(sim)[-k:] \n",
    "nearest_s = sim[a]\n",
    "print nearest_s"
   ]
  },
  {
   "cell_type": "code",
   "execution_count": 307,
   "metadata": {},
   "outputs": [
    {
     "name": "stdout",
     "output_type": "stream",
     "text": [
      "1.06298800691\n",
      "0.850390405524\n",
      "[ 1.25]\n"
     ]
    }
   ],
   "source": [
    "# find rated \n",
    "Ybar = Ybar.tocsr()\n",
    "# print Ybar[i, users_rated_i[0]], a, users_rated_i[a]\n",
    "r = Ybar[i, users_rated_i[a]]\n",
    "# print r[0, 0]\n",
    "print r[0,0]*nearest_s[0] + r[0, 1]*nearest_s[1]\n",
    "print np.abs(nearest_s).sum()\n",
    "print r*nearest_s/np.abs(nearest_s).sum()"
   ]
  },
  {
   "cell_type": "code",
   "execution_count": 308,
   "metadata": {
    "collapsed": true
   },
   "outputs": [],
   "source": [
    "def CF_pred(s, r):\n",
    "    return r*s/np.abs(s).sum()"
   ]
  },
  {
   "cell_type": "code",
   "execution_count": 310,
   "metadata": {},
   "outputs": [
    {
     "name": "stdout",
     "output_type": "stream",
     "text": [
      "3.91084877375\n"
     ]
    }
   ],
   "source": [
    "def pred(i, u):\n",
    "    # Step 1: find all users who rated i_2 \n",
    "    ids = np.where(Y_data[:, 1] == i)[0].astype(np.int32)\n",
    "    # Step 2 \n",
    "    users_rated_i = (Y_data[ids, 0]).astype(np.int32)\n",
    "    sim = S[u, users_rated_i]\n",
    "    a = np.argsort(sim)[-k:] \n",
    "    nearest_s = sim[a]\n",
    "    \n",
    "    r = Ybar[i, users_rated_i[a]]\n",
    "#     print r, nearest_s\n",
    "    return (r*nearest_s)[0]/np.abs(nearest_s).sum()\n",
    "\n",
    "Ybar = Ybar.tocsr()\n",
    "print pred(4, 5) + mu[4]\n",
    "    "
   ]
  },
  {
   "cell_type": "code",
   "execution_count": 311,
   "metadata": {},
   "outputs": [
    {
     "name": "stdout",
     "output_type": "stream",
     "text": [
      "user item   rating\n",
      "0     2    4.25\n",
      "1     1    2.53700934751\n",
      "2     1    2.6459407245\n",
      "3     2    -0.219181499415\n",
      "3     4    2.78081850058\n",
      "4     1    1.16666666667\n",
      "4     2    0.957246050693\n",
      "4     4    3.95724605069\n",
      "5     0    1.5\n",
      "5     3    2.41084877375\n",
      "5     4    3.41084877375\n",
      "6     0    3.07052889554\n",
      "6     1    4.22890349047\n"
     ]
    }
   ],
   "source": [
    "print 'user item   rating'\n",
    "for u in xrange(n_users):\n",
    "    ids = np.where(Y_data[:, 0] == u)[0]\n",
    "    items_rated_by_u = Y_data[ids, 1].tolist()\n",
    "    for i in xrange(n_items):\n",
    "        if i not in items_rated_by_u:\n",
    "            \n",
    "            print u,'   ', i, '  ', pred(i, u) + mu[u]"
   ]
  },
  {
   "cell_type": "markdown",
   "metadata": {},
   "source": [
    "# Class for hanlding data easier "
   ]
  },
  {
   "cell_type": "code",
   "execution_count": null,
   "metadata": {
    "collapsed": true
   },
   "outputs": [],
   "source": [
    "from scipy import sparse \n",
    "import pandas as pd \n",
    "import numpy as np\n",
    "\n",
    "class CF(object):\n",
    "    def _int_(self, Y_data, k, dist_fuc = cosine_similarity):\n",
    "        self.Y_data = Y_data # a numpy array of shape (N, 3)\n",
    "                    # each row is a (user, item, rating) data\n",
    "        self.k = k  # number of nearest points\n",
    "        self.distance = distance # similarity\n",
    "        self.Ybar_data = None\n",
    "        self.n_users = int(np.max(self.Y_data[:, 0]))\n",
    "        self.n_items = int(np.max(self.Y_data[:, 1]))\n",
    "    \n",
    "    def add(self, new_data):\n",
    "        \"\"\"\n",
    "        Update Y_data matrix when new ratings come.\n",
    "        For simplicity, suppose that there is no new user or item.\n",
    "        \"\"\"\n",
    "        self.Y_data = np.concatenate((self.Y_data, new_data), axis = 0)\n",
    "    \n",
    "    def normalize_Y(self):\n",
    "        users = self.Y_data[:, 0] # all users - first col of the Y_data\n",
    "        self.Ybar_data = self.Y_data.copy()\n",
    "        self.mu = np.zeros((self.n_users,))\n",
    "        for n in xrange(self.n_users):\n",
    "            # row indices of rating done by user n\n",
    "            # since indices need to be integers, we need to convert\n",
    "            ids = np.where(users == n)[0].astype(np.int32)\n",
    "            # indices of all ratings associated with user n\n",
    "            item_ids = rating_data[ids, 1] \n",
    "            # and the corresponding ratings \n",
    "            ratings = rating_data[ids, 2]\n",
    "            # take mean\n",
    "            mu[n] = np.mean(ratings) \n",
    "            # normalize\n",
    "            self.Ybar_data[ids, 2] = ratings - mu[n]\n",
    "        ################################################\n",
    "        # form the rating matrix as a sparse matrix \n",
    "        # the sparsity is important for both memory and computing \n",
    "        # efficient. For example, if #user = 1M, #item = 100k\n",
    "        # then shape of the rating matrix would be (100k, 1M), you may not\n",
    "        # have enough memory to store this. \n",
    "        # Then, instead, we store nonzeros only, \n",
    "        # and, of course, their locations\n",
    "        self.Ybar = sparse.coo_matrix((self.Ybar_data[:, 2],\n",
    "            (self.Ybar_data[:, 1], self.Ybar_data[:, 0])), (n_items, n_users))\n",
    "        self.Ybar = self.Ybar.tocsr()\n",
    "\n",
    "    def similarity(self):\n",
    "        self.S = dist_func(self.Ybar.T, self.Ybar.T)\n",
    "        \n",
    "    def fit(self):\n",
    "        \"\"\"\n",
    "        Normalize data and calculate similarity matrix again (after\n",
    "        some few ratings added)\n",
    "        \"\"\"\n",
    "        self.normalized_Y()\n",
    "        self.similairity() \n",
    "        \n",
    "    def pred(self, u, i):\n",
    "        # Step 1: find all users who rated i\n",
    "        ids = np.where(self.Y_data[:, 1] == i)[0].astype(np.int32)\n",
    "        # Step 2: \n",
    "        users_rated_i = (self.Y_data[ids, 0]).astype(np.int32)\n",
    "        # Step 3: find similarity btw the current user and others \n",
    "        # who already rated i\n",
    "        sim = S[u, users_rated_i]\n",
    "        # Step 4: find the k most similarity users\n",
    "        a = np.argsort(sim)[-k:] \n",
    "        # and the corresponding similarity levels\n",
    "        nearest_s = sim[a]\n",
    "        # How did each of 'near' users rate item i\n",
    "        r = Ybar[i, users_rated_i[a]]\n",
    "        return (r*nearest_s)[0]/np.abs(nearest_s).sum()\n",
    "    \n",
    "    def recommend(self, u):\n",
    "        \"\"\"\n",
    "        Determine all items should be recommended for user u.\n",
    "        The decision is made based on all i such that:\n",
    "        self.pred(u, i) > 0. Suppose we are considering items which \n",
    "        have not been rated by u yet. \n",
    "        \"\"\"\n",
    "        # Find all rows corresponding to user u\n",
    "        ids = np.where(Y_data[:, 0] == u)[0]\n",
    "        items_rated_by_u = self.Y_data[ids, 1].tolist() \n",
    "        recommended_items = []\n",
    "        for i in xrange(self.n_items):\n",
    "            if i not in items_rated_by_u:\n",
    "                rating = pred(u, i)\n",
    "                if rating > 0: \n",
    "                    recommended_items.append(i)\n",
    "        \n",
    "        return recommended_items "
   ]
  },
  {
   "cell_type": "code",
   "execution_count": 316,
   "metadata": {},
   "outputs": [
    {
     "name": "stdout",
     "output_type": "stream",
     "text": [
      "[[1 2]\n",
      " [3 4]\n",
      " [5 6]]\n"
     ]
    }
   ],
   "source": [
    "\n",
    "\n",
    "# data file \n",
    "r_cols = ['user_id', 'item_id', 'rating']\n",
    "\n",
    "ratings = pd.read_csv('ex.dat', sep = ' ', names = r_cols, encoding='latin-1')\n",
    "\n",
    "Y_data = ratings.as_matrix()#.astype(np.float32)\n",
    "n_users = int(np.max(Y_data[:, 0]))\n",
    "n_items = int(np.max(Y_data[:, 1]))\n",
    "\n",
    "\n",
    "rs = CF(Y_data, k = 2)"
   ]
  },
  {
   "cell_type": "code",
   "execution_count": null,
   "metadata": {
    "collapsed": true
   },
   "outputs": [],
   "source": [
    "print 'user item   rating'\n",
    "for u in xrange(n_users):\n",
    "    ids = np.where(Y_data[:, 0] == u)[0]\n",
    "    items_rated_by_u = Y_data[ids, 1].tolist()\n",
    "    for i in xrange(n_items):\n",
    "        if i not in items_rated_by_u:\n",
    "            \n",
    "            print u,'   ', i, '  ', pred(i, u) + mu[u]"
   ]
  }
 ],
 "metadata": {
  "kernelspec": {
   "display_name": "Python 2",
   "language": "python",
   "name": "python2"
  },
  "language_info": {
   "codemirror_mode": {
    "name": "ipython",
    "version": 2
   },
   "file_extension": ".py",
   "mimetype": "text/x-python",
   "name": "python",
   "nbconvert_exporter": "python",
   "pygments_lexer": "ipython2",
   "version": "2.7.13"
  }
 },
 "nbformat": 4,
 "nbformat_minor": 2
}
