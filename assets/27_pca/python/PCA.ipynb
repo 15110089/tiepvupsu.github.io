{
 "cells": [
  {
   "cell_type": "markdown",
   "metadata": {},
   "source": [
    "# Chuyển trục "
   ]
  },
  {
   "cell_type": "code",
   "execution_count": 1,
   "metadata": {
    "collapsed": true
   },
   "outputs": [],
   "source": [
    "from matplotlib import rc\n",
    "rc('font',**{'family':'sans-serif','sans-serif':['Helvetica']})\n",
    "## for Palatino and other serif fonts use:\n",
    "#rc('font',**{'family':'serif','serif':['Palatino']})\n",
    "rc('text', usetex=True)"
   ]
  },
  {
   "cell_type": "code",
   "execution_count": 19,
   "metadata": {},
   "outputs": [
    {
     "data": {
      "image/png": "[encoded data removed]",
      "text/plain": [
       "<matplotlib.figure.Figure at 0x10a79df50>"
      ]
     },
     "metadata": {},
     "output_type": "display_data"
    }
   ],
   "source": [
    "# generate data\n",
    "# list of points \n",
    "from __future__ import print_function\n",
    "import numpy as np \n",
    "import matplotlib.pyplot as plt\n",
    "from scipy.spatial.distance import cdist\n",
    "np.random.seed(22)\n",
    "\n",
    "means = [[4, 2], [4, 2]]\n",
    "cov = [[1, .2], [.2, .1]]\n",
    "N = 30\n",
    "X0 = np.random.multivariate_normal(means[0], cov, N)\n",
    "X1 = np.random.multivariate_normal(means[1], cov, N)\n",
    "X = np.concatenate((X0.T, X1.T), axis = 1)\n",
    "y = np.concatenate((np.ones((1, N)), -1*np.ones((1, N))), axis = 1)\n",
    "\n",
    "# plot points\n",
    "plt.plot(X0[:, 0], X0[:, 1], 'bo', markersize = 8, alpha = .8)\n",
    "# plt.plot(X1[:, 0], X1[:, 1], 'ro', markersize = 8, alpha = .8)\n",
    "plt.axis('equal')\n",
    "# axis limits\n",
    "plt.ylim(0, 3)\n",
    "plt.xlim(2, 4)\n",
    "\n",
    "x1 = np.arange(0, 10, 0.1)\n",
    "y1 = .5*x1 \n",
    "\n",
    "plt.plot(x1, y1, 'r', linewidth = 3)\n",
    "\n",
    "\n",
    "# hide tikcs \n",
    "cur_axes = plt.gca()\n",
    "cur_axes.axes.get_xaxis().set_ticks([])\n",
    "cur_axes.axes.get_yaxis().set_ticks([])\n",
    "\n",
    "plt.xlabel('$x_1$', fontsize = 20)\n",
    "plt.ylabel('$x_2$', fontsize = 20)\n",
    "# pdf.savefig()\n",
    "plt.show()"
   ]
  },
  {
   "cell_type": "code",
   "execution_count": 52,
   "metadata": {},
   "outputs": [
    {
     "name": "stdout",
     "output_type": "stream",
     "text": [
      "0.91/1.64, \n",
      "0.83/1.48, \n",
      "0.79/1.35, \n",
      "0.67/1.20, \n",
      "0.98/1.90, \n",
      "0.81/1.50, \n",
      "0.29/0.45, \n",
      "0.57/0.98, \n",
      "0.83/1.40, \n",
      "0.19/0.24, \n",
      "0.62/1.10, \n",
      "0.50/0.91, \n",
      "0.89/1.63, \n",
      "0.72/1.15, \n",
      "0.90/1.76, \n",
      "0.72/1.40, \n",
      "0.12/0.12, \n",
      "0.79/1.47, \n",
      "0.13/0.01, \n",
      "0.73/1.31, \n",
      "0.30/0.55, \n",
      "0.80/1.37, \n",
      "0.47/0.69, \n",
      "0.77/1.26, \n",
      "0.52/1.03, \n",
      "0.84/1.56, \n",
      "0.26/0.23, \n",
      "0.46/0.65, \n",
      "0.95/1.87, \n",
      "0.25/0.47, \n"
     ]
    }
   ],
   "source": [
    "x = np.random.rand(30) + .1\n",
    "\n",
    "y = 2*x + (np.random.rand(30) - 1)*0.3\n",
    "\n",
    "\n",
    "for n in range(30):\n",
    "    print('%.2f/%.2f, ' %(x[n], y[n])),"
   ]
  },
  {
   "cell_type": "code",
   "execution_count": 49,
   "metadata": {},
   "outputs": [
    {
     "data": {
      "image/png": "[encoded data removed]",
      "text/plain": [
       "<matplotlib.figure.Figure at 0x10a67d410>"
      ]
     },
     "metadata": {},
     "output_type": "display_data"
    }
   ],
   "source": [
    "\n"
   ]
  },
  {
   "cell_type": "code",
   "execution_count": null,
   "metadata": {
    "collapsed": true
   },
   "outputs": [],
   "source": []
  }
 ],
 "metadata": {
  "kernelspec": {
   "display_name": "Python 2",
   "language": "python",
   "name": "python2"
  },
  "language_info": {
   "codemirror_mode": {
    "name": "ipython",
    "version": 2
   },
   "file_extension": ".py",
   "mimetype": "text/x-python",
   "name": "python",
   "nbconvert_exporter": "python",
   "pygments_lexer": "ipython2",
   "version": "2.7.13"
  }
 },
 "nbformat": 4,
 "nbformat_minor": 2
}
