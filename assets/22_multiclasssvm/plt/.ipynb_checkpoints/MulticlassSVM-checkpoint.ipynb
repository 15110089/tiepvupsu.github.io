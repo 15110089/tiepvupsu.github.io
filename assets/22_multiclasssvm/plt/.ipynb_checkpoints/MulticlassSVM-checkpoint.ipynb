{
 "cells": [
  {
   "cell_type": "code",
   "execution_count": 35,
   "metadata": {},
   "outputs": [
    {
     "name": "stdout",
     "output_type": "stream",
     "text": [
      "3.93219694434\n",
      "4.47205302218\n"
     ]
    }
   ],
   "source": [
    "import numpy as np\n",
    "from random import shuffle\n",
    "\n",
    "def svm_loss_naive(W, X, y, reg):\n",
    "    d, C = W.shape \n",
    "    _, N = X.shape \n",
    "    \n",
    "    ## naive loss and grad\n",
    "    loss = 0 \n",
    "    dW = np.zeros_like(W)\n",
    "    for n in xrange(N):\n",
    "        xn = X[:, n]\n",
    "        score = W.T.dot(xn)\n",
    "        for j in xrange(C):\n",
    "            if j == y[n]:\n",
    "                continue \n",
    "            margin = 1 - score[y[n]] + score[j]\n",
    "            if margin > 0:\n",
    "                loss += margin \n",
    "                dW[:, j] += xn \n",
    "                dW[:, y[n]] -= xn\n",
    "    \n",
    "    loss /= N \n",
    "    loss += 0.5*reg*np.sum(W * W) \n",
    "    \n",
    "    dW /= N \n",
    "    dW += reg*W\n",
    "    ## \n",
    "    return loss, dW\n",
    "    \n",
    "N, C, d = 10, 3, 5\n",
    "reg = .1 \n",
    "W = np.random.randn(d, C)\n",
    "X = np.random.randn(d, N)\n",
    "y = np.random.randint(C, size = N)\n",
    "\n",
    "# sanity check\n",
    "print svm_loss_naive(W, X, y, 0)[0]\n",
    "print svm_loss_naive(W, X, y, .1)[0]"
   ]
  },
  {
   "cell_type": "code",
   "execution_count": 44,
   "metadata": {},
   "outputs": [
    {
     "name": "stdout",
     "output_type": "stream",
     "text": [
      "gradient difference: 0.000000\n"
     ]
    }
   ],
   "source": [
    "f = lambda W: svm_loss_naive(W, X, y, .1)[0]\n",
    "\n",
    "def numerical_grad_general(W, f):\n",
    "    eps = 1e-6\n",
    "    g = np.zeros_like(W)\n",
    "    # flatening variable -> 1d. Then we need \n",
    "    # only one for loop\n",
    "    W_flattened = W.flatten()\n",
    "    g_flattened = np.zeros_like(W_flattened)\n",
    "    \n",
    "    for i in xrange(W.size):\n",
    "        W_p = W_flattened.copy()\n",
    "        W_n = W_flattened.copy()\n",
    "        W_p[i] += eps \n",
    "        W_n[i] -= eps \n",
    "        \n",
    "        # back to shape of W \n",
    "        W_p = W_p.reshape(W.shape)\n",
    "        W_n = W_n.reshape(W.shape)\n",
    "        g_flattened[i] = (f(W_p) - f(W_n))/(2*eps)\n",
    "        \n",
    "    # convert back to original shape\n",
    "    return g_flattened.reshape(W.shape) \n",
    "\n",
    "\n",
    "\n",
    "# compare two ways of computing gradient\n",
    "g1 = svm_loss_naive(W, X, y, .1)[1]\n",
    "g2 = numerical_grad_general(W, f)\n",
    "print 'gradient difference: %f' %np.linalg.norm(g1 - g2) # this should be very small"
   ]
  },
  {
   "cell_type": "code",
   "execution_count": 30,
   "metadata": {
    "collapsed": true
   },
   "outputs": [],
   "source": [
    "# more efficient way to compute loss and grad\n",
    "def svm_loss_vectorized(W, X, y, reg):\n",
    "    d, C = W.shape \n",
    "    _, N = X.shape \n",
    "    loss = 0 \n",
    "    dW = np.zeros_like(W)\n",
    "    \n",
    "    Z = W.T.dot(X)     \n",
    "    \n",
    "    correct_class_score = np.choose(y, Z).reshape(N,1).T     \n",
    "    margins = np.maximum(0, Z - correct_class_score + 1) \n",
    "    margins[y, np.arange(margins.shape[1])] = 0\n",
    "    loss = np.sum(margins, axis = (0, 1))\n",
    "    loss /= N \n",
    "    loss += 0.5 * reg * np.sum(W * W)\n",
    "    \n",
    "    F = (margins > 0).astype(int)\n",
    "    F[y, np.arange(F.shape[1])] = np.sum(-F, axis = 0)\n",
    "    dW = X.dot(F.T)/N + reg*W\n",
    "    return loss, dW"
   ]
  },
  {
   "cell_type": "code",
   "execution_count": 33,
   "metadata": {},
   "outputs": [
    {
     "name": "stdout",
     "output_type": "stream",
     "text": [
      "33.8276689053\n",
      "0.205482959747\n",
      "1.102260616e-09\n",
      "2.74113060511e-14\n"
     ]
    }
   ],
   "source": [
    "N, C, d = 49000, 10, 3073\n",
    "reg = .1 \n",
    "W = np.random.randn(d, C)\n",
    "X = np.random.randn(d, N)\n",
    "y = np.random.randint(C, size = N)\n",
    "\n",
    "import time \n",
    "t1 = time.time()\n",
    "l1, dW1 = svm_loss_naive(W, X, y, reg)\n",
    "t2 = time.time()\n",
    "print t2 - t1\n",
    "\n",
    "t1 = time.time()\n",
    "l2, dW2 = svm_loss_vectorized(W, X, y, reg)\n",
    "t2 = time.time()\n",
    "print t2 - t1\n",
    "print np.linalg.norm(g1 - g2)\n",
    "print np.linalg.norm(dW1 - dW2)"
   ]
  },
  {
   "cell_type": "code",
   "execution_count": null,
   "metadata": {
    "collapsed": true
   },
   "outputs": [],
   "source": [
    "# Mini-batch gradient descent\n",
    "def multiclass_svm_GD(X, y, Winit, reg, lr=.1, batch_size = 1000, epoches = 1000):\n",
    "    "
   ]
  }
 ],
 "metadata": {
  "kernelspec": {
   "display_name": "Python 2",
   "language": "python",
   "name": "python2"
  },
  "language_info": {
   "codemirror_mode": {
    "name": "ipython",
    "version": 2
   },
   "file_extension": ".py",
   "mimetype": "text/x-python",
   "name": "python",
   "nbconvert_exporter": "python",
   "pygments_lexer": "ipython2",
   "version": "2.7.13"
  }
 },
 "nbformat": 4,
 "nbformat_minor": 2
}
