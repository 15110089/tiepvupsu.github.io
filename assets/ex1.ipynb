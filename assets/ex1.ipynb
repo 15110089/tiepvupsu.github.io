{
 "cells": [
  {
   "cell_type": "markdown",
   "metadata": {},
   "source": [
    "# Tổng hợp các câu hỏi xác suất thường gặp "
   ]
  },
  {
   "cell_type": "markdown",
   "metadata": {},
   "source": [
    "Một vài đẳng thức cần nhớ trong xác suất. Với $0 < p < 1$: \n",
    "\n",
    "1. $$ \\sum_{k=0}^{\\infty} p^k = \\frac{1}{1-p} $$\n",
    "2. $$\\sum_{k=1}^{\\infty} k p^{k-1} = \\sum_{k=1}^{\\infty} \\frac{dp^k}{dp} = \\frac{d}{dp} \\sum_{k=1}^{\\infty} p^k = \\frac{d}{dp}\\left(\\frac{1}{1-p} - 1\\right) = \\frac{1}{(1-p)^2}$$ "
   ]
  },
  {
   "cell_type": "markdown",
   "metadata": {},
   "source": [
    "***Câu 1:** *Cho một đồng xu không đều, xác xuất ra mặt xấp là p khác 0.5 (0 < p < 1). Hãy tạo ra một sự kiện có xác suất xảy ra là 0.5 bằng đồng xu này.*\n",
    "\n",
    "**Trả lời:** \n",
    "Xét sự kiện tung đồng xu đó 2 lần. Có bốn khả năng xảy ra: \n",
    "+ Xấp và xấp: xác suất $p^2$\n",
    "+ Ngửa và ngửa: xác suất $(1-p)^2$ \n",
    "+ Xấp và ngửa: xác suất $p(1-p)$ \n",
    "+ Ngửa và xấp: xác suất $(1-p)p$\n",
    "\n",
    "Nhận thấy rằng hai sự kiện cuối cùng có xác suất xảy ra như nhau, ta có thể thực hiện công việc sau để tạo ra một sự kiện có xác suất 0.5. Tung đồng xu hai lần tới khi hai lần cho kết quả khác nhau. Tức là nếu hai mặt giống nhau thì ta tung lại tới khi khác nhau thì dừng. Nếu kết quả là 'xấp và ngửa', ta có sự kiện A, nếu kết quả là 'ngửa và xấp', ta có sự kiện B. Mỗi sự kiện này xảy ra với xác suất như nhau, và vì vậy bằng 0.5. \n",
    "\n",
    "Có thể tiết kiệm số lần tung bằng cách không nhất thiết tung lại cả hai lần. Ta chỉ cần tung cho tới khi nào kết quả ở hai lần liên tiếp là khác nhau. Xác suất để hai lần liên tiếp khác nhau đều là $p(1-p)$. \n",
    "\n",
    "**Câu hỏi phụ:** *Nếu làm theo cách trên thì trung bình cần bao nhiêu lần tung để xác định được một sự kiện?* \n",
    "\n",
    "**Trả lời:**\n",
    "\n",
    "Đặt $q = 1 - p$ là xác suất để được một mặt ngửa. \n",
    "\n",
    "*Xin nhắc lại công thức tính kỳ vọng của một biến ngẫu nhiên rời rạc:*\n",
    "\n",
    "$E[x] = \\sum_{x} xp(x)$\n",
    "\n",
    "*với $p(x)$ là xác suất xảy ra sự kiện $x$*. \n",
    "\n",
    "Quy trình nêu trên sẽ dừng sau:\n",
    " + 2 lần tung với xác suất $pq + qp$, tương ứng với *xấp ngửa* hoặc *ngửa xấp*. \n",
    " + 3 lần tung với xác suất $p^2q + pq^2$, tương ứng với *xấp xấp ngửa* hoặc *ngửa ngửa xấp*. \n",
    " + ...\n",
    " + $k$ lần tung với xác suất $p^{k-1}q + pq^{k-1}$. \n",
    " \n",
    " Như vậy, kỳ vọng của số lần tung nếu lần đầu là *xấp* là: \n",
    " $$\\sum_{k = 2}^{\\infty} k(p^{k-1}q + pq^{k-1}) = q\\sum_{k=2}^{\\infty}kp^{k-1} + p \\sum_{k=2}^{\\infty} kq^{k-1} = q(\\sum_{k=1}^{\\infty}kp^{k-1} - 1) + p(\\sum_{k=1}^{\\infty}kq^{q-1} - 1)$$\n",
    " $$= q\\left(\\frac{1}{(1-p)^2} - 1\\right) + p\\left(\\frac{1}{(1-q)^2} - 1\\right) = \\frac{1}{p} + \\frac{1}{q} - 1$$\n",
    " \n",
    " Nếu $p = \\frac{1}{3}$, số lần tung trung bình sẽ là $3 + \\frac{3}{2} - 1 = 3.5$ lần. \n",
    " "
   ]
  },
  {
   "cell_type": "code",
   "execution_count": 12,
   "metadata": {
    "collapsed": true
   },
   "outputs": [],
   "source": [
    "import random "
   ]
  },
  {
   "cell_type": "markdown",
   "metadata": {},
   "source": [
    "**Câu 2:** Một chuyến bay có 100 hành khách. Hành khách đầu tiên vào và làm rơi mất vé nên không nhớ vị trí của mình. Người này ngồi ngẫu nhiên một vị trí bất kỳ. Những người còn lại đều còn vé và biết ghế của mình. Lần lượt người thứ hai, thứ ba, cho tới người thứ 100 vào. Nếu ghế của một người chưa bị chiếm, người đó sẽ ngồi vào đó. Ngược lại, người đó sẽ ngồi vào một chỗ bất kỳ khác chưa bị chiếm. Tính xác suất để người thứ 100 ngồi đúng vị trí trong vé của người đó.\n",
    "\n",
    "**Trả lời:** Cập nhật sau. \n",
    "Kết quả của bài toán có thể được dự đoán thông qua đoạn code dưới đây."
   ]
  },
  {
   "cell_type": "code",
   "execution_count": 13,
   "metadata": {},
   "outputs": [
    {
     "name": "stdout",
     "output_type": "stream",
     "text": [
      "0.4918\n"
     ]
    }
   ],
   "source": [
    "# Bai toan 100 nguoi len may bay\n",
    "N = 10000\n",
    "res = 0 \n",
    "for n in range(N):\n",
    "    avai = set(range(100))\n",
    "    first = random.randint(0, 99)\n",
    "    avai.discard(first) \n",
    "    for i in range(1, 99):\n",
    "        if i in avai: # the i-th seat is not occupied \n",
    "            avai.discard(i) \n",
    "        else: \n",
    "            while True: \n",
    "                r = random.randint(0, 99) \n",
    "                if r in avai: \n",
    "                    avai.discard(r) \n",
    "                    break \n",
    "    res += +(99 in avai) # the last one is available \n",
    "print(res/float(N))"
   ]
  },
  {
   "cell_type": "markdown",
   "metadata": {},
   "source": [
    "**Câu 3:** Một người tung xúc xắc 6 mặt đều và tính tổng các lần tung cho tới khi tổng này bằng hoặc vượt 100. Hỏi ngay trước lần tung cuối, xác suất để tổng đó bằng bao nhiêu là lớn nhất (94, 95, 96, 97, 98, hay 99)?\n",
    "\n",
    "**Trả lời:** Cập nhật sau.\n",
    "\n",
    "Kết quả của bài toán có thể được dự đoán thông qua đoạn code dưới đây. "
   ]
  },
  {
   "cell_type": "code",
   "execution_count": 11,
   "metadata": {},
   "outputs": [
    {
     "name": "stdout",
     "output_type": "stream",
     "text": [
      "[(100, 0.285796), (101, 0.237669), (102, 0.190893), (103, 0.14301), (104, 0.094971), (105, 0.047661)]\n"
     ]
    }
   ],
   "source": [
    "N = 1000000\n",
    "\n",
    "from collections import defaultdict\n",
    "res = defaultdict(int) # a dictionary with default init = 0 \n",
    "for n in range(N):\n",
    "    s = 0 \n",
    "    while True: \n",
    "        p = random.randint(1, 6)\n",
    "        s += p \n",
    "        if s >= 100: \n",
    "            res[s] += 1 \n",
    "            break \n",
    "        \n",
    "print [(a, res[a]/float(N)) for a in res.keys()]"
   ]
  }
 ],
 "metadata": {
  "kernelspec": {
   "display_name": "Python 2",
   "language": "python",
   "name": "python2"
  },
  "language_info": {
   "codemirror_mode": {
    "name": "ipython",
    "version": 2
   },
   "file_extension": ".py",
   "mimetype": "text/x-python",
   "name": "python",
   "nbconvert_exporter": "python",
   "pygments_lexer": "ipython2",
   "version": "2.7.13"
  },
  "latex_envs": {
   "LaTeX_envs_menu_present": true,
   "autoclose": false,
   "autocomplete": true,
   "bibliofile": "biblio.bib",
   "cite_by": "apalike",
   "current_citInitial": 1,
   "eqLabelWithNumbers": true,
   "eqNumInitial": 1,
   "hotkeys": {
    "equation": "Ctrl-E",
    "itemize": "Ctrl-I"
   },
   "labels_anchors": false,
   "latex_user_defs": false,
   "report_style_numbering": false,
   "user_envs_cfg": false
  },
  "toc": {
   "nav_menu": {},
   "number_sections": true,
   "sideBar": true,
   "skip_h1_title": false,
   "title_cell": "Table of Contents",
   "title_sidebar": "Contents",
   "toc_cell": false,
   "toc_position": {},
   "toc_section_display": true,
   "toc_window_display": true
  }
 },
 "nbformat": 4,
 "nbformat_minor": 2
}
