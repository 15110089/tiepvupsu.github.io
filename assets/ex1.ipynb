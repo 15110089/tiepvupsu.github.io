{
 "cells": [
  {
   "cell_type": "code",
   "execution_count": 23,
   "metadata": {},
   "outputs": [
    {
     "name": "stdout",
     "output_type": "stream",
     "text": [
      "[0.14171, 0.18971, 0.24094, 0.2857, 0.04717, 0.09477]\n",
      "{96: 14171, 97: 18971, 98: 24094, 99: 28570, 94: 4717, 95: 9477}\n",
      "100000\n"
     ]
    }
   ],
   "source": [
    "N = 100000\n",
    "import random \n",
    "res = {99:0, 98:0, 97:0, 96:0, 95:0, 94:0}\n",
    "for n in range(N):\n",
    "    s = 0 \n",
    "    while True: \n",
    "        p = random.randint(1, 6)\n",
    "        s += p \n",
    "        if s >= 100: \n",
    "            res[s-p] += 1 \n",
    "            break \n",
    "        \n",
    "print [res[a]/float(N) for a in res]\n",
    "print res \n",
    "print sum([res[a] for a in res])"
   ]
  },
  {
   "cell_type": "code",
   "execution_count": null,
   "metadata": {
    "collapsed": true
   },
   "outputs": [],
   "source": []
  }
 ],
 "metadata": {
  "kernelspec": {
   "display_name": "Python 2",
   "language": "python",
   "name": "python2"
  },
  "language_info": {
   "codemirror_mode": {
    "name": "ipython",
    "version": 2
   },
   "file_extension": ".py",
   "mimetype": "text/x-python",
   "name": "python",
   "nbconvert_exporter": "python",
   "pygments_lexer": "ipython2",
   "version": "2.7.13"
  },
  "latex_envs": {
   "LaTeX_envs_menu_present": true,
   "autoclose": false,
   "autocomplete": true,
   "bibliofile": "biblio.bib",
   "cite_by": "apalike",
   "current_citInitial": 1,
   "eqLabelWithNumbers": true,
   "eqNumInitial": 1,
   "hotkeys": {
    "equation": "Ctrl-E",
    "itemize": "Ctrl-I"
   },
   "labels_anchors": false,
   "latex_user_defs": false,
   "report_style_numbering": false,
   "user_envs_cfg": false
  },
  "toc": {
   "nav_menu": {},
   "number_sections": true,
   "sideBar": true,
   "skip_h1_title": false,
   "title_cell": "Table of Contents",
   "title_sidebar": "Contents",
   "toc_cell": false,
   "toc_position": {},
   "toc_section_display": true,
   "toc_window_display": true
  }
 },
 "nbformat": 4,
 "nbformat_minor": 2
}
