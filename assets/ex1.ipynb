{
 "cells": [
  {
   "cell_type": "markdown",
   "metadata": {},
   "source": [
    "Một người tung xúc xắc 6 mặt đều và tính tổng các lần tung cho tới khi tổng này bằng hoặc vượt 100. Hỏi ngay trước lần tung cuối, xác suất để tổng đó bằng bao nhiêu là lớn nhất (94, 95, 96, 97, 98, hay 99)?"
   ]
  },
  {
   "cell_type": "code",
   "execution_count": 5,
   "metadata": {},
   "outputs": [
    {
     "name": "stdout",
     "output_type": "stream",
     "text": [
      "[(94, 0.04837), (95, 0.09706), (96, 0.14137), (97, 0.19054), (98, 0.23696), (99, 0.2857)]\n"
     ]
    }
   ],
   "source": [
    "# Ba\n",
    "N = 100000\n",
    "import random \n",
    "from collections import defaultdict\n",
    "res = defaultdict(int) # a dictionary with default init = 0 \n",
    "for n in range(N):\n",
    "    s = 0 \n",
    "    while True: \n",
    "        p = random.randint(1, 6)\n",
    "        s += p \n",
    "        if s >= 100: \n",
    "            res[s-p] += 1 \n",
    "            break \n",
    "        \n",
    "print [(a, res[a]/float(N)) for a in range(94, 100)]"
   ]
  },
  {
   "cell_type": "markdown",
   "metadata": {},
   "source": [
    "Một chuyến bay có 100 hành khách. Hành khách đầu tiên vào và làm rơi mất vé nên không nhớ vị trí của mình. Người này ngồi ngẫu nhiên một vị trí bất kỳ. Những người còn lại đều còn vé và biết ghế của mình. Lần lượt người thứ hai, thứ ba, cho tới người thứ 100 vào. Nếu ghế của một người chưa bị chiếm, người đó sẽ ngồi vào đó. Ngược lại, người đó sẽ ngồi vào một chỗ bất kỳ khác chưa bị chiếm. Tính xác suất để người thứ 100 ngồi đúng vị trí trong vé của người đó."
   ]
  },
  {
   "cell_type": "code",
   "execution_count": 10,
   "metadata": {},
   "outputs": [
    {
     "name": "stdout",
     "output_type": "stream",
     "text": [
      "0.49884\n"
     ]
    }
   ],
   "source": [
    "# Bai toan 100 nguoi len may bay\n",
    "N = 100000\n",
    "res = 0 \n",
    "for n in range(N):\n",
    "    avai = set(range(100))\n",
    "    first = random.randint(0, 99)\n",
    "    avai.discard(first) \n",
    "    for i in range(1, 99):\n",
    "        if i in avai: # the i-th seat is not occupied \n",
    "            avai.discard(i) \n",
    "        else: \n",
    "            while True: \n",
    "                r = random.randint(0, 99) \n",
    "                if r in avai: \n",
    "                    avai.discard(r) \n",
    "                    break \n",
    "    if 99 in avai: \n",
    "        res += 1 \n",
    "print(res/float(N))"
   ]
  },
  {
   "cell_type": "code",
   "execution_count": null,
   "metadata": {
    "collapsed": true
   },
   "outputs": [],
   "source": []
  }
 ],
 "metadata": {
  "kernelspec": {
   "display_name": "Python 2",
   "language": "python",
   "name": "python2"
  },
  "language_info": {
   "codemirror_mode": {
    "name": "ipython",
    "version": 2
   },
   "file_extension": ".py",
   "mimetype": "text/x-python",
   "name": "python",
   "nbconvert_exporter": "python",
   "pygments_lexer": "ipython2",
   "version": "2.7.13"
  },
  "latex_envs": {
   "LaTeX_envs_menu_present": true,
   "autoclose": false,
   "autocomplete": true,
   "bibliofile": "biblio.bib",
   "cite_by": "apalike",
   "current_citInitial": 1,
   "eqLabelWithNumbers": true,
   "eqNumInitial": 1,
   "hotkeys": {
    "equation": "Ctrl-E",
    "itemize": "Ctrl-I"
   },
   "labels_anchors": false,
   "latex_user_defs": false,
   "report_style_numbering": false,
   "user_envs_cfg": false
  },
  "toc": {
   "nav_menu": {},
   "number_sections": true,
   "sideBar": true,
   "skip_h1_title": false,
   "title_cell": "Table of Contents",
   "title_sidebar": "Contents",
   "toc_cell": false,
   "toc_position": {},
   "toc_section_display": true,
   "toc_window_display": true
  }
 },
 "nbformat": 4,
 "nbformat_minor": 2
}
