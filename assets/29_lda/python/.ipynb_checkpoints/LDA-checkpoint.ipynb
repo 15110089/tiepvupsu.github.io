{
 "cells": [
  {
   "cell_type": "code",
   "execution_count": 1,
   "metadata": {
    "collapsed": true
   },
   "outputs": [],
   "source": [
    "from matplotlib import rc\n",
    "rc('font',**{'family':'sans-serif','sans-serif':['Helvetica']})\n",
    "## for Palatino and other serif fonts use:\n",
    "#rc('font',**{'family':'serif','serif':['Palatino']})\n",
    "rc('text', usetex=True)"
   ]
  },
  {
   "cell_type": "code",
   "execution_count": 73,
   "metadata": {},
   "outputs": [
    {
     "data": {
      "image/png": "[encoded data removed]",
      "text/plain": [
       "<matplotlib.figure.Figure at 0x109a67b50>"
      ]
     },
     "metadata": {},
     "output_type": "display_data"
    }
   ],
   "source": [
    "# To support both python 2 and python 3\n",
    "from __future__ import division, print_function, unicode_literals\n",
    "# list of points \n",
    "import numpy as np \n",
    "import matplotlib.pyplot as plt\n",
    "from matplotlib.backends.backend_pdf import PdfPages\n",
    "np.random.seed(22)\n",
    "\n",
    "means = [[0, 5], [5, 0]]\n",
    "cov0 = [[4, 3], [3, 4]]\n",
    "cov1 = [[3, 1], [1, 1]]\n",
    "N0 = 50\n",
    "N1 = 40\n",
    "N = N0 + N1\n",
    "X0 = np.random.multivariate_normal(means[0], cov0, N0) # each row is a data point \n",
    "X1 = np.random.multivariate_normal(means[1], cov1, N1)\n",
    "\n",
    "# display\n",
    "with PdfPages('data.pdf') as pdf:\n",
    "    plt.plot(X0[:, 0], X0[:, 1], 'bs', markersize = 5, alpha = 1)\n",
    "    plt.plot(X1[:, 0], X1[:, 1], 'ro', markersize = 5, alpha = 1)\n",
    "    \n",
    "    # hide ticks\n",
    "    cur_axes = plt.gca()\n",
    "    cur_axes.axes.get_xaxis().set_ticks([])\n",
    "    cur_axes.axes.get_yaxis().set_ticks([])\n",
    "    plt.xlim([0, 1])\n",
    "    plt.ylim([-10, 10])\n",
    "    plt.axis('equal')\n",
    "\n",
    "    pdf.savefig()\n",
    "\n",
    "    plt.show()"
   ]
  },
  {
   "cell_type": "code",
   "execution_count": 76,
   "metadata": {},
   "outputs": [],
   "source": [
    "# Build S_B\n",
    "m0 = np.mean(X0.T, axis = 1, keepdims = True)\n",
    "m1 = np.mean(X1.T, axis = 1, keepdims = True)\n",
    "\n",
    "a = (m0 - m1)\n",
    "S_B = a.dot(a.T)\n",
    "\n",
    "# Build S_W\n",
    "A = X0.T - np.tile(m0, (1, N0))\n",
    "B = X1.T - np.tile(m1, (1, N1))\n",
    "\n",
    "S_W = A.dot(A.T) + B.dot(B.T)"
   ]
  },
  {
   "cell_type": "code",
   "execution_count": 77,
   "metadata": {},
   "outputs": [],
   "source": [
    "_, W = np.linalg.eig(np.linalg.inv(S_W).dot(S_B))\n",
    "w = W[:,0]"
   ]
  },
  {
   "cell_type": "code",
   "execution_count": 89,
   "metadata": {},
   "outputs": [
    {
     "data": {
      "image/png": "[encoded data removed]",
      "text/plain": [
       "<matplotlib.figure.Figure at 0x109445fd0>"
      ]
     },
     "metadata": {},
     "output_type": "display_data"
    }
   ],
   "source": [
    "with PdfPages('res.pdf') as pdf:\n",
    "    plt.plot(X0[:, 0], X0[:, 1], 'bs', markersize = 5, alpha = .8)\n",
    "    plt.plot(X1[:, 0], X1[:, 1], 'ro', markersize = 5, alpha = .8)\n",
    "    \n",
    "    cur_axes = plt.gca()\n",
    "    cur_axes.axes.get_xaxis().set_ticks([])\n",
    "    cur_axes.axes.get_yaxis().set_ticks([])\n",
    "    plt.xlim([0, 1])\n",
    "    plt.ylim([-10, 10])\n",
    "    plt.axis('equal')\n",
    "#     plt.arrow(5*w[0],5*w[1],-10*w[0],-10*w[1], shape='full', lw=1, length_includes_head=True, head_width=.31)\n",
    "    plt.plot([-5*w[0], 6*w[0]], [-5*w[1], 6*w[1]], 'g')\n",
    "    pdf.savefig()\n",
    "    plt.show()"
   ]
  },
  {
   "cell_type": "code",
   "execution_count": 79,
   "metadata": {},
   "outputs": [
    {
     "name": "stdout",
     "output_type": "stream",
     "text": [
      "[[ 0.75091074 -0.66040371]]\n"
     ]
    }
   ],
   "source": [
    "from sklearn.discriminant_analysis import LinearDiscriminantAnalysis\n",
    "X = np.concatenate((X0, X1))\n",
    "y = np.array([0]*N0 + [1]*N1)\n",
    "clf = LinearDiscriminantAnalysis()\n",
    "clf.fit(X, y)\n",
    "\n",
    "print(clf.coef_/np.linalg.norm(clf.coef_)) # normalize"
   ]
  },
  {
   "cell_type": "code",
   "execution_count": 80,
   "metadata": {},
   "outputs": [
    {
     "name": "stdout",
     "output_type": "stream",
     "text": [
      "[ 0.75091074 -0.66040371]\n"
     ]
    }
   ],
   "source": [
    "print(w)"
   ]
  },
  {
   "cell_type": "markdown",
   "metadata": {},
   "source": [
    "# Iris"
   ]
  },
  {
   "cell_type": "code",
   "execution_count": 135,
   "metadata": {},
   "outputs": [
    {
     "name": "stdout",
     "output_type": "stream",
     "text": [
      "LDA classifier 97.00\n",
      "LDA + SVM accuracy: 95.00 %\n",
      "PCA + SVM accuracy: 97.00 %\n"
     ]
    }
   ],
   "source": [
    "from sklearn import neighbors, datasets\n",
    "iris = datasets.load_iris()\n",
    "iris_X = iris.data\n",
    "iris_y = iris.target\n",
    "\n",
    "from sklearn.model_selection import train_test_split\n",
    "X_train, X_test, y_train, y_test = train_test_split(\n",
    "     iris_X, iris_y, test_size=100)\n",
    "\n",
    "# dimensionality reduction by LDA \n",
    "clf = LinearDiscriminantAnalysis()\n",
    "clf.fit(X_train, y_train)\n",
    "\n",
    "y_pred = clf.predict(X_test)\n",
    "\n",
    "# print('Acc = %f/%f' %())\n",
    "\n",
    "from sklearn.metrics import accuracy_score\n",
    "print(\"LDA classifier %.2f\" %(100*accuracy_score(y_test, y_pred)))\n",
    "\n",
    "# Train a kernel SVM on projected data by LDA\n",
    "X_train_new = clf.transform(X_train)\n",
    "X_test_new = clf.transform(X_test)\n",
    "\n",
    "from sklearn import svm\n",
    "svm1 = svm.SVC(kernel='linear', gamma=1)\n",
    "svm1.fit(X_train_new, y_train)\n",
    "\n",
    "y_pred1= svm1.predict(X_test_new)\n",
    "\n",
    "\n",
    "\n",
    "print(\"LDA + SVM accuracy: %.2f %%\" %(100*accuracy_score(y_test, y_pred1)))\n",
    "\n",
    "# Train a kernel SVM on projected data by PCA\n",
    "from sklearn.decomposition import PCA\n",
    "pca = PCA(n_components=2) # K = 100\n",
    "pca.fit(X_train)\n",
    "\n",
    "X_train_new = pca.transform(X_train)\n",
    "X_test_new = pca.transform(X_test)\n",
    "\n",
    "svm1 = svm.SVC(kernel='linear', gamma=1)\n",
    "svm1.fit(X_train_new, y_train)\n",
    "\n",
    "y_pred2 = svm1.predict(X_test_new)\n",
    "\n",
    "print(\"PCA + SVM accuracy: %.2f %%\" %(100*accuracy_score(y_test, y_pred2)))"
   ]
  },
  {
   "cell_type": "code",
   "execution_count": null,
   "metadata": {
    "collapsed": true
   },
   "outputs": [],
   "source": []
  },
  {
   "cell_type": "code",
   "execution_count": 136,
   "metadata": {
    "collapsed": true
   },
   "outputs": [],
   "source": [
    "from sklearn import neighbors, datasets\n",
    "from mnist import MNIST # require `pip install python-mnist`\n",
    "# https://pypi.python.org/pypi/python-mnist/\n",
    "\n",
    "# you need to download the MNIST dataset first\n",
    "# at: http://yann.lecun.com/exdb/mnist/\n",
    "mndata = MNIST('../MNIST/') # path to your MNIST folder \n",
    "mndata.load_testing()\n",
    "mndata.load_training()\n",
    "X_test = mndata.test_images\n",
    "X_train = mndata.train_images\n",
    "y_test = np.asarray(mndata.test_labels)\n",
    "y_train = np.asarray(mndata.train_labels)"
   ]
  },
  {
   "cell_type": "code",
   "execution_count": null,
   "metadata": {},
   "outputs": [
    {
     "name": "stderr",
     "output_type": "stream",
     "text": [
      "/Library/Frameworks/Python.framework/Versions/2.7/lib/python2.7/site-packages/sklearn/discriminant_analysis.py:455: UserWarning: The priors do not sum to 1. Renormalizing\n",
      "  UserWarning)\n",
      "/Library/Frameworks/Python.framework/Versions/2.7/lib/python2.7/site-packages/sklearn/discriminant_analysis.py:387: UserWarning: Variables are collinear.\n",
      "  warnings.warn(\"Variables are collinear.\")\n"
     ]
    },
    {
     "name": "stdout",
     "output_type": "stream",
     "text": [
      "LDA classifier 87.30\n",
      "LDA + SVM accuracy: 89.33 %\n"
     ]
    }
   ],
   "source": [
    "from sklearn.metrics import accuracy_score\n",
    "# dimensionality reduction by LDA \n",
    "clf = LinearDiscriminantAnalysis()\n",
    "clf.fit(X_train, y_train)\n",
    "\n",
    "# LDA classifier\n",
    "y_pred = clf.predict(X_test)\n",
    "\n",
    "print(\"LDA classifier accuracy: %.2f %%\" %(100*accuracy_score(y_test, y_pred)))\n",
    "\n",
    "# Train a kernel SVM on projected data by LDA\n",
    "X_train_new = clf.transform(X_train)\n",
    "X_test_new = clf.transform(X_test)\n",
    "\n",
    "from sklearn import svm\n",
    "svm1 = svm.SVC(kernel='rbf')\n",
    "svm1.fit(X_train_new, y_train)\n",
    "\n",
    "y_pred1= svm1.predict(X_test_new)\n",
    "\n",
    "print(\"LDA + SVM accuracy     : %.2f %%\" %(100*accuracy_score(y_test, y_pred1)))\n",
    "\n",
    "# Train a kernel SVM on projected data by PCA\n",
    "from sklearn.decomposition import PCA\n",
    "pca = PCA(n_components=9) # K = 100\n",
    "pca.fit(X_train)\n",
    "\n",
    "X_train_new = pca.transform(X_train)\n",
    "X_test_new = pca.transform(X_test)\n",
    "\n",
    "svm1 = svm.SVC(kernel='rbf')\n",
    "svm1.fit(X_train_new, y_train)\n",
    "\n",
    "y_pred2 = svm1.predict(X_test_new)\n",
    "\n",
    "print(\"PCA + SVM accuracy    : %.2f %%\" %(100*accuracy_score(y_test, y_pred2)))"
   ]
  },
  {
   "cell_type": "code",
   "execution_count": null,
   "metadata": {
    "collapsed": true
   },
   "outputs": [],
   "source": []
  }
 ],
 "metadata": {
  "kernelspec": {
   "display_name": "Python 2",
   "language": "python",
   "name": "python2"
  },
  "language_info": {
   "codemirror_mode": {
    "name": "ipython",
    "version": 2
   },
   "file_extension": ".py",
   "mimetype": "text/x-python",
   "name": "python",
   "nbconvert_exporter": "python",
   "pygments_lexer": "ipython2",
   "version": "2.7.13"
  }
 },
 "nbformat": 4,
 "nbformat_minor": 2
}
