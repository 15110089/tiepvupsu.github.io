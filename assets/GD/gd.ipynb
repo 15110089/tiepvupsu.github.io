{
 "cells": [
  {
   "cell_type": "markdown",
   "metadata": {},
   "source": [
    "<div class=\"imgcap\">\n",
    " <img src =\"https://github.com/tiepvupsu/tiepvupsu.github.io/blob/master/assets/GD/gradient_descent.png?raw=true\" align = \"center\" width = \"600\">\n",
    "</div>"
   ]
  },
  {
   "cell_type": "markdown",
   "metadata": {},
   "source": [
    "<div class=\"imgcap\">\n",
    " <img src =\"https://github.com/tiepvupsu/tiepvupsu.github.io/blob/master/assets/GD/gd_1.gif?raw=true\" align = \"center\" width = \"500\">\n",
    "</div>\n",
    "\n",
    "<div class=\"imgcap\">\n",
    " <img src =\"https://github.com/tiepvupsu/tiepvupsu.github.io/blob/master/assets/GD/gd_0.gif?raw=true\" align = \"center\" width = \"500\">\n",
    "</div>\n",
    "\n",
    "<div class=\"imgcap\">\n",
    " <img src =\"https://github.com/tiepvupsu/tiepvupsu.github.io/blob/master/assets/GD/gd_2.gif?raw=true\" align = \"center\" width = \"500\">\n",
    "</div>\n",
    "\n",
    "<div class=\"imgcap\">\n",
    " <img src =\"https://github.com/tiepvupsu/tiepvupsu.github.io/blob/master/assets/GD/gd_13.gif?raw=true\" align = \"center\" width = \"500\">\n",
    "</div>\n",
    "\n",
    "\n",
    "<div class=\"imgcap\">\n",
    " <img src =\"https://github.com/tiepvupsu/tiepvupsu.github.io/blob/master/assets/GD/gd_10.gif?raw=true\" align = \"center\" width = \"500\">\n",
    "</div>\n",
    "\n",
    "\n",
    "### GD cho bài toán Linear Regression \n",
    "\n"
   ]
  },
  {
   "cell_type": "code",
   "execution_count": 1,
   "metadata": {
    "collapsed": true
   },
   "outputs": [],
   "source": [
    "# To support both python 2 and python 3\n",
    "from __future__ import division, print_function, unicode_literals\n",
    "import numpy as np \n",
    "import matplotlib.pyplot as plt"
   ]
  },
  {
   "cell_type": "code",
   "execution_count": 2,
   "metadata": {
    "collapsed": true
   },
   "outputs": [],
   "source": [
    "\n",
    "X = 2 * np.random.rand(100, 1)\n",
    "y = 4 + 3 * X + np.random.randn(100, 1)\n",
    "\n",
    "# Building Xbar \n",
    "one = np.ones((X.shape[0],1))\n",
    "Xbar = np.concatenate((one, X), axis = 1)\n",
    "\n",
    "A = np.dot(Xbar.T, Xbar)\n",
    "b = np.dot(Xbar.T, y)\n",
    "w_exact = np.dot(np.linalg.pinv(A), b)"
   ]
  },
  {
   "cell_type": "code",
   "execution_count": 3,
   "metadata": {
    "collapsed": false
   },
   "outputs": [
    {
     "name": "stdout",
     "output_type": "stream",
     "text": [
      "Checking gradient... True\n",
      "906 114 999\n"
     ]
    }
   ],
   "source": [
    "\n",
    "def cost(w):\n",
    "\t# return .5/Xbar.shape[0]*np.linalg.norm(y - Xbar.dot(w), 2)**2;\n",
    "\treturn .5/Xbar.shape[0]*np.linalg.norm(y - Xbar.dot(w), 2)**2;\n",
    "\n",
    "# print('The exact solution w = ', w, '; cost = %.5f'% cost(w))\n",
    "\n",
    "\n",
    "def grad(w):\n",
    "\treturn 1/Xbar.shape[0] * Xbar.T.dot(Xbar.dot(w) - y)\n",
    "\n",
    "\n",
    "def numerical_grad(w, cost):\n",
    "\teps = 1e-4\n",
    "\tg = np.zeros_like(w)\n",
    "\tfor i in range(len(w)):\n",
    "\t\tw_p = w.copy()\n",
    "\t\tw_n = w.copy()\n",
    "\t\tw_p[i] += eps \n",
    "\t\tw_n[i] -= eps\n",
    "\t\tg[i] = (cost(w_p) - cost(w_n))/(2*eps)\n",
    "\treturn g \n",
    "\n",
    "def check_grad(w, cost, grad):\n",
    "\tw = np.random.rand(w.shape[0], w.shape[1])\n",
    "\tgrad1 = grad(w)\n",
    "\tgrad2 = numerical_grad(w, cost)\n",
    "\treturn True if np.linalg.norm(grad1 - grad2) < 1e-6 else False \n",
    "\n",
    "\n",
    "print( 'Checking gradient...', check_grad(np.random.rand(2, 1), cost, grad))\n",
    "\n",
    "\n",
    "def myGD(w_init, grad, eta):\n",
    "\tw = [w_init]\n",
    "\tfor it in range(1000):\n",
    "\t\tw_new = w[-1] - eta*grad(w[-1])\n",
    "\n",
    "\t\tif np.linalg.norm(w_new - w[-1]) < 1e-5:\n",
    "\t\t\tbreak \n",
    "\t\tw.append(w_new)\n",
    "\t\t# print('iter %d: ' % it, w[-1].T)\n",
    "\treturn (w, it) \n",
    "\n",
    "w_init = np.random.randn(2, 1)\n",
    "(w1, it1) = myGD(w_init, grad, 0.05)\n",
    "(w2, it2) = myGD(w_init, grad, 0.5)\n",
    "(w3, it3) = myGD(w_init, grad, 1)\n",
    "\n",
    "print(it1, it2, it3)"
   ]
  },
  {
   "cell_type": "markdown",
   "metadata": {},
   "source": [
    "### Momentum\n",
    "\n"
   ]
  },
  {
   "cell_type": "markdown",
   "metadata": {},
   "source": [
    "## Thảo luận\n",
    "### Newton's method\n",
    "<div class=\"imgcap\">\n",
    " <img src =\"https://upload.wikimedia.org/wikipedia/commons/thumb/e/e0/NewtonIteration_Ani.gif/300px-NewtonIteration_Ani.gif\" align = \"center\" width = \"500\">\n",
    "</div>\n",
    "\n",
    "### Line search\n",
    "\n",
    "### Stochastic Gradient Descent \n",
    "\n",
    "### Mini-batch Gradient Descent\n",
    "\n",
    "## Tài liệu tham khảo\n",
    "1. http://sebastianruder.com/optimizing-gradient-descent/"
   ]
  }
 ],
 "metadata": {
  "kernelspec": {
   "display_name": "Python 2",
   "language": "python",
   "name": "python2"
  },
  "language_info": {
   "codemirror_mode": {
    "name": "ipython",
    "version": 2
   },
   "file_extension": ".py",
   "mimetype": "text/x-python",
   "name": "python",
   "nbconvert_exporter": "python",
   "pygments_lexer": "ipython2",
   "version": "2.7.12"
  }
 },
 "nbformat": 4,
 "nbformat_minor": 2
}
