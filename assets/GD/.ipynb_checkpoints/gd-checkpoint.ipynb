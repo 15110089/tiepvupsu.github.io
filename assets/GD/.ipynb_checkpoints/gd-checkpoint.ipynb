{
 "cells": [
  {
   "cell_type": "markdown",
   "metadata": {},
   "source": [
    "<div class=\"imgcap\">\n",
    " <img src =\"https://github.com/tiepvupsu/tiepvupsu.github.io/blob/master/assets/GD/gradient_descent.png?raw=true\" align = \"center\" width = \"600\">\n",
    "</div>"
   ]
  },
  {
   "cell_type": "code",
   "execution_count": 46,
   "metadata": {
    "collapsed": true
   },
   "outputs": [],
   "source": [
    "# To support both python 2 and python 3\n",
    "from __future__ import division, print_function, unicode_literals\n",
    "import math\n",
    "import numpy as np \n",
    "\n",
    "import matplotlib.pyplot as plt"
   ]
  },
  {
   "cell_type": "code",
   "execution_count": 47,
   "metadata": {
    "collapsed": false
   },
   "outputs": [],
   "source": [
    "c_sin = 5"
   ]
  },
  {
   "cell_type": "code",
   "execution_count": 48,
   "metadata": {
    "collapsed": false
   },
   "outputs": [
    {
     "name": "stdout",
     "output_type": "stream",
     "text": [
      "-1.25252365698 5\n"
     ]
    }
   ],
   "source": [
    "def grad(x):\n",
    "    return 2*x+ c_sin*np.cos(x)\n",
    "\n",
    "def cost(x):\n",
    "    return x**2 + c_sin*np.sin(x)\n",
    "\n",
    "def myGD1(eta, x0):\n",
    "    x = [x0]\n",
    "    for it in range(100):\n",
    "        x_new = x[-1] - eta*grad(x[-1])\n",
    "        if abs(grad(x_new)) < 1e-3:\n",
    "            break\n",
    "        x.append(x_new)\n",
    "    return (x, it)\n",
    "\n",
    "(w, it) = myGD1(.1, -5)\n",
    "print(w[-1], it)"
   ]
  },
  {
   "cell_type": "markdown",
   "metadata": {},
   "source": [
    "Minh họa thuật toán"
   ]
  },
  {
   "cell_type": "code",
   "execution_count": null,
   "metadata": {
    "collapsed": false
   },
   "outputs": [],
   "source": [
    "import matplotlib.animation as animation\n",
    "from matplotlib.animation import FuncAnimation \n",
    "def save_gif(eta, x0):\n",
    "    (x, it) = myGD1(eta, x0)\n",
    "    xx = np.linspace(-4.5, 5.5, 1000)\n",
    "    yy = cost(xx)\n",
    "    x = np.asarray(x)\n",
    "    y = cost(x)\n",
    "    g = grad(x)\n",
    "    fig, ax = plt.subplots(figsize=(4, 4))\n",
    "    \n",
    "    title = '$f(x) = x^2 + %d\\sin(x)$; ' %c_sin\n",
    "    title += '$x_0 =  %f$; ' %x0\n",
    "    title += r'$\\alpha = %f$ ' % eta\n",
    "    \n",
    "    def update(ii):\n",
    "        label2 = 'iter %d/%d: ' %(ii, it) + 'cost = %.2f' % y[ii] + ', grad = %.4f' %g[ii]\n",
    "\n",
    "        animlist = plt.cla()        \n",
    "        animlist = plt.axis([-6, 6, -8, 30])\n",
    "        animlist = plt.plot(xx, yy)\n",
    "        animlist = plt.title(title)\n",
    "        if ii == 0:\n",
    "            animlist = plt.plot(x[ii], y[ii], 'ro', markersize = 7)\n",
    "        else:\n",
    "            animlist = plt.plot(x[ii-1], y[ii-1], 'ko', markersize = 7)\n",
    "            animlist = plt.plot([x[ii-1], x[ii]], [y[ii-1], y[ii]], 'k-')\n",
    "            animlist = plt.plot(x[ii], y[ii], 'ro', markersize = 7)\n",
    "\n",
    "        ax.set_xlabel(label2)\n",
    "        return animlist, ax\n",
    "    \n",
    "    file_name = '1dimg_' + str(c_sin) + '_' \\\n",
    "        + str(eta) + '_'+ str(x0) + '.gif'\n",
    "    anim = FuncAnimation(fig, update, \n",
    "                frames=np.arange(0, it), interval=500)\n",
    "    anim.save(file_name, dpi=100, writer='imagemagick')\n",
    "\n",
    "save_gif(.01, -5)\n",
    "save_gif(.1, -5)\n",
    "save_gif(.5, -5)"
   ]
  },
  {
   "cell_type": "markdown",
   "metadata": {},
   "source": [
    "\n",
    "### GD cho bài toán Linear Regression \n",
    "\n"
   ]
  },
  {
   "cell_type": "markdown",
   "metadata": {},
   "source": [
    "### Momentum\n",
    "\n"
   ]
  },
  {
   "cell_type": "markdown",
   "metadata": {},
   "source": [
    "## Thảo luận\n",
    "### Newton's method\n",
    "<div class=\"imgcap\">\n",
    " <img src =\"https://upload.wikimedia.org/wikipedia/commons/thumb/e/e0/NewtonIteration_Ani.gif/300px-NewtonIteration_Ani.gif\" align = \"center\" width = \"500\">\n",
    "</div>\n",
    "\n",
    "### Line search\n",
    "\n",
    "### Stochastic Gradient Descent \n",
    "\n",
    "### Mini-batch Gradient Descent\n",
    "\n",
    "## Tài liệu tham khảo\n",
    "1. http://sebastianruder.com/optimizing-gradient-descent/"
   ]
  }
 ],
 "metadata": {
  "kernelspec": {
   "display_name": "Python 2",
   "language": "python",
   "name": "python2"
  },
  "language_info": {
   "codemirror_mode": {
    "name": "ipython",
    "version": 2
   },
   "file_extension": ".py",
   "mimetype": "text/x-python",
   "name": "python",
   "nbconvert_exporter": "python",
   "pygments_lexer": "ipython2",
   "version": "2.7.12"
  }
 },
 "nbformat": 4,
 "nbformat_minor": 2
}
