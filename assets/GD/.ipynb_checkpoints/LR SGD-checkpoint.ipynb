{
 "cells": [
  {
   "cell_type": "code",
   "execution_count": 2,
   "metadata": {
    "collapsed": false
   },
   "outputs": [
    {
     "name": "stdout",
     "output_type": "stream",
     "text": [
      "Checking gradient... True\n"
     ]
    }
   ],
   "source": [
    "# To support both python 2 and python 3\n",
    "from __future__ import division, print_function, unicode_literals\n",
    "import numpy as np \n",
    "import matplotlib\n",
    "import matplotlib.pyplot as plt\n",
    "# import matplotlib.cm as cm\n",
    "# import matplotlib.mlab as mlab\n",
    "np.random.seed(2)\n",
    "\n",
    "X = np.random.rand(1000, 1)\n",
    "y = 4 + 3 * X + .2*np.random.randn(1000, 1)\n",
    "\n",
    "# Building Xbar \n",
    "one = np.ones((X.shape[0],1))\n",
    "Xbar = np.concatenate((one, X), axis = 1)\n",
    "\n",
    "A = np.dot(Xbar.T, Xbar)\n",
    "b = np.dot(Xbar.T, y)\n",
    "w_exact = np.dot(np.linalg.pinv(A), b)\n",
    "\n",
    "\n",
    "def cost(w):\n",
    "\treturn .5/Xbar.shape[0]*np.linalg.norm(y - Xbar.dot(w), 2)**2;\n",
    "\n",
    "def grad(w):\n",
    "\treturn 1/Xbar.shape[0] * Xbar.T.dot(Xbar.dot(w) - y)\n",
    "\n",
    "\n",
    "def numerical_grad(w, cost):\n",
    "\teps = 1e-4\n",
    "\tg = np.zeros_like(w)\n",
    "\tfor i in range(len(w)):\n",
    "\t\tw_p = w.copy()\n",
    "\t\tw_n = w.copy()\n",
    "\t\tw_p[i] += eps \n",
    "\t\tw_n[i] -= eps\n",
    "\t\tg[i] = (cost(w_p) - cost(w_n))/(2*eps)\n",
    "\treturn g \n",
    "\n",
    "def check_grad(w, cost, grad):\n",
    "\tw = np.random.rand(w.shape[0], w.shape[1])\n",
    "\tgrad1 = grad(w)\n",
    "\tgrad2 = numerical_grad(w, cost)\n",
    "\treturn True if np.linalg.norm(grad1 - grad2) < 1e-6 else False \n",
    "\n",
    "\n",
    "print( 'Checking gradient...', check_grad(np.random.rand(2, 1), cost, grad))\n"
   ]
  },
  {
   "cell_type": "code",
   "execution_count": 74,
   "metadata": {
    "collapsed": false
   },
   "outputs": [
    {
     "name": "stdout",
     "output_type": "stream",
     "text": [
      "2911 [[ 4.05246225]\n",
      " [ 3.00796823]]\n"
     ]
    }
   ],
   "source": [
    "# single point gradient\n",
    "def sgrad(w, i, rd_id):\n",
    "    true_i = rd_id[i]\n",
    "    xi = Xbar[true_i, :]\n",
    "    yi = y[true_i]\n",
    "    a = np.dot(xi, w) - yi\n",
    "    return (xi*a).reshape(2, 1)\n",
    "\n",
    "def SGD(w_init, grad, eta):\n",
    "    w = [w_init]\n",
    "    w_last_check = w_init\n",
    "    iter_check_w = 10\n",
    "    N = X.shape[0]\n",
    "    count = 0\n",
    "    for it in range(10):\n",
    "        # shuffle data \n",
    "        rd_id = np.random.permutation(N)\n",
    "        for i in range(N):\n",
    "            count += 1 \n",
    "            g = sgrad(w[-1], i, rd_id)\n",
    "            w_new = w[-1] - eta*g\n",
    "            w.append(w_new)\n",
    "            if count%iter_check_w == 0:\n",
    "                w_this_check = w_new                 \n",
    "                if np.linalg.norm(w_this_check - w_last_check)/len(w_init) < 1e-3:                                    \n",
    "                    return w\n",
    "                w_last_check = w_this_check\n",
    "    return w\n",
    "\n",
    "w_init = np.array([[2], [1]])\n",
    "w = SGD(w_init, grad, .1)\n",
    "\n",
    "print(len(w), w[-1])"
   ]
  },
  {
   "cell_type": "markdown",
   "metadata": {},
   "source": [
    "LR Momentum with contours"
   ]
  },
  {
   "cell_type": "code",
   "execution_count": 48,
   "metadata": {
    "collapsed": true
   },
   "outputs": [],
   "source": [
    "N = X.shape[0]\n",
    "a1 = np.linalg.norm(y, 2)**2/N\n",
    "b1 = 2*np.sum(X)/N\n",
    "c1 = np.linalg.norm(X, 2)**2/N\n",
    "d1 = -2*np.sum(y)/N \n",
    "e1 = -2*X.T.dot(y)/N\n",
    "\n",
    "matplotlib.rcParams['xtick.direction'] = 'out'\n",
    "matplotlib.rcParams['ytick.direction'] = 'out'\n",
    "\n",
    "delta = 0.025\n",
    "xg = np.arange(1.5, 7.0, delta)\n",
    "yg = np.arange(0.5, 4.5, delta)\n",
    "Xg, Yg = np.meshgrid(xg, yg)\n",
    "Z = a1 + Xg**2 +b1*Xg*Yg + c1*Yg**2 + d1*Xg + e1*Yg"
   ]
  },
  {
   "cell_type": "code",
   "execution_count": 76,
   "metadata": {
    "collapsed": false
   },
   "outputs": [
    {
     "name": "stdout",
     "output_type": "stream",
     "text": [
      "2911\n"
     ]
    }
   ],
   "source": [
    "print(len(w))"
   ]
  },
  {
   "cell_type": "code",
   "execution_count": 77,
   "metadata": {
    "collapsed": false
   },
   "outputs": [],
   "source": [
    "import matplotlib.animation as animation\n",
    "from matplotlib.animation import FuncAnimation\n",
    "def save_gif3(eta):\n",
    "#     (w, it) = GD_momentum(w_init, grad, eta, gamma)\n",
    "    batch_it = 30\n",
    "#     w = SGD(w_init, grad, eta)\n",
    "    it = len(w)\n",
    "    fig, ax = plt.subplots(figsize=(4,4))    \n",
    "    plt.cla()\n",
    "    plt.axis([1.5, 7, 0.5, 4.5])\n",
    "#     x0 = np.linspace(0, 1, 2, endpoint=True)\n",
    "    \n",
    "    def update(ii):\n",
    "        if ii == 0:\n",
    "            plt.cla()\n",
    "            CS = plt.contour(Xg, Yg, Z, 100)\n",
    "            manual_locations = [(4.5, 3.5), (4.2, 3), (4.3, 3.3)]\n",
    "            animlist = plt.clabel(CS, inline=.1, \n",
    "                                  fontsize=10, manual=manual_locations)\n",
    "#             animlist = plt.title('labels at selected locations')\n",
    "            plt.plot(w_exact[0], w_exact[1], 'go')\n",
    "        else:\n",
    "            animlist = plt.plot([w[(ii-1)*batch_it][0], w[ii*batch_it][0]], \n",
    "                                [w[(ii-1)*batch_it][1], w[ii*batch_it][1]], 'r-')\n",
    "        animlist = plt.plot(w[ii*batch_it][0], w[ii*batch_it][1], 'ro', markersize = 4) \n",
    "        xlabel = '$\\eta =$ ' + str(eta) + '; iter = %d/%d' %(ii*batch_it, it)\n",
    "        xlabel += '; ||grad||_2 = %.3f' % np.linalg.norm(grad(w[ii*batch_it]))\n",
    "        ax.set_xlabel(xlabel)\n",
    "        return animlist, ax\n",
    "       \n",
    "    anim1 = FuncAnimation(fig, update, \n",
    "                          frames=np.arange(0, it//batch_it), interval=200)\n",
    "#     fn = 'img2_' + str(eta) + '.gif'\n",
    "    fn = 'LR_SGD_contours.gif'\n",
    "    anim1.save(fn, dpi=100, writer='imagemagick')\n",
    "\n",
    "eta = .1 \n",
    "\n",
    "save_gif3(eta)\n",
    "# save_gif2(.1)\n",
    "# save_gif2(2)"
   ]
  }
 ],
 "metadata": {
  "kernelspec": {
   "display_name": "Python 2",
   "language": "python",
   "name": "python2"
  },
  "language_info": {
   "codemirror_mode": {
    "name": "ipython",
    "version": 2
   },
   "file_extension": ".py",
   "mimetype": "text/x-python",
   "name": "python",
   "nbconvert_exporter": "python",
   "pygments_lexer": "ipython2",
   "version": "2.7.12"
  }
 },
 "nbformat": 4,
 "nbformat_minor": 2
}
