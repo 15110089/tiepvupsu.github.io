{
 "cells": [
  {
   "cell_type": "markdown",
   "metadata": {},
   "source": [
    "## MNIST\n",
    "\n",
    "Download:\n"
   ]
  },
  {
   "cell_type": "code",
   "execution_count": 17,
   "metadata": {
    "collapsed": false
   },
   "outputs": [
    {
     "name": "stdout",
     "output_type": "stream",
     "text": [
      "<type 'numpy.ndarray'> (10000, 784)\n",
      "done\n"
     ]
    }
   ],
   "source": [
    "import numpy as np \n",
    "from mnist import MNIST\n",
    "import matplotlib.pyplot as plt\n",
    "from sklearn.cluster import KMeans\n",
    "from display_network import *\n",
    "\n",
    "mndata = MNIST('../MNIST/')\n",
    "# mndata.load_training()\n",
    "mndata.load_testing()\n",
    "l = dir(mndata)\n",
    "X = mndata.test_images\n",
    "\n",
    "X = np.asarray(X)\n",
    "\n",
    "print type(X), X.shape\n",
    "# kmeans = KMeans(n_clusters=10, random_state=0).fit(X)\n",
    "\n",
    "X2 = X.T \n",
    "A = display_network(X[:100, :])\n",
    "print 'done'\n",
    "plt.show(A)\n"
   ]
  },
  {
   "cell_type": "markdown",
   "metadata": {},
   "source": [
    "Document clustering\n"
   ]
  }
 ],
 "metadata": {
  "kernelspec": {
   "display_name": "Python 2",
   "language": "python",
   "name": "python2"
  },
  "language_info": {
   "codemirror_mode": {
    "name": "ipython",
    "version": 2
   },
   "file_extension": ".py",
   "mimetype": "text/x-python",
   "name": "python",
   "nbconvert_exporter": "python",
   "pygments_lexer": "ipython2",
   "version": "2.7.12"
  }
 },
 "nbformat": 4,
 "nbformat_minor": 2
}
