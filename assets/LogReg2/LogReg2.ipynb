{
 "cells": [
  {
   "cell_type": "code",
   "execution_count": 20,
   "metadata": {
    "collapsed": false
   },
   "outputs": [
    {
     "name": "stdout",
     "output_type": "stream",
     "text": [
      "((11841, 784), <type 'numpy.ndarray'>)\n",
      "Accuracy: 98.66 %\n",
      "(26, 784)\n"
     ]
    }
   ],
   "source": [
    "# %reset\n",
    "import numpy as np \n",
    "from mnist import MNIST\n",
    "import matplotlib.pyplot as plt\n",
    "from sklearn.preprocessing import normalize\n",
    "\n",
    "from display_network import *\n",
    "\n",
    "mndata = MNIST('../MNIST/')\n",
    "mndata.load_training()\n",
    "X = np.asarray(mndata.train_images)\n",
    "y = np.array(mndata.train_labels.tolist())\n",
    "\n",
    "\n",
    "def extract_data(X, y, classes):\n",
    "    \"\"\"\n",
    "    X: numpy array, matrix of size (N, d), d is data dim\n",
    "    y: numpy array, size (N, )\n",
    "    cls: two lists of labels. For example: \n",
    "        cls = [[1, 4, 7], [5, 6, 8]]\n",
    "    return:\n",
    "        X: extracted data\n",
    "        y: extracted label \n",
    "            (0 and 1, corresponding to two lists in cls)\n",
    "    \"\"\"\n",
    "    y_res_id = np.array([])\n",
    "    for i in cls[0]:\n",
    "        y_res_id = np.hstack((y_res_id, np.where(y == i)[0]))\n",
    "    n0 = len(y_res_id)\n",
    "\n",
    "    for i in cls[1]:\n",
    "        y_res_id = np.hstack((y_res_id, np.where(y == i)[0]))\n",
    "    n1 = len(y_res_id) - n0 \n",
    "    y_res_id = y_res_id.astype(int)\n",
    "    X_res = X[y_res_id, :]\n",
    "    y_res = np.asarray([0]*n0 + [1]*n1)\n",
    "    return (X_res, y_res)\n",
    "\n",
    "cls = [[0], [6]]\n",
    "(X_train, y_train) = extract_data(X, y, cls)\n",
    "\n",
    "\n",
    "print(X_train.shape, type(X_train))\n",
    "\n",
    "from sklearn import linear_model\n",
    "\n",
    "logreg = linear_model.LogisticRegression(C=1e5)\n",
    "logreg.fit(X_train, y_train)\n",
    "\n",
    "mndata.load_testing()\n",
    "Xtest_all = np.asarray(mndata.test_images)\n",
    "ytest_all = np.array(mndata.test_labels.tolist())\n",
    "(X_test, y_test) = extract_data(Xtest_all, ytest_all, cls)\n",
    "\n",
    "y_pred = logreg.predict(X_test)\n",
    "\n",
    "from sklearn.metrics import accuracy_score\n",
    "print \"Accuracy: %.2f %%\" %(100*accuracy_score(y_test, y_pred.tolist()))\n",
    "\n",
    "mis = np.where((y_pred - y_test) != 0)[0]\n",
    "Xmis = X_test[mis, :]\n",
    "print(Xmis.shape)\n",
    "\n"
   ]
  },
  {
   "cell_type": "code",
   "execution_count": 21,
   "metadata": {
    "collapsed": false
   },
   "outputs": [
    {
     "data": {
      "image/png": "[encoded data removed]",
      "text/plain": [
       "<matplotlib.figure.Figure at 0x7feaf86547d0>"
      ]
     },
     "metadata": {},
     "output_type": "display_data"
    }
   ],
   "source": [
    "plt.axis('off')\n",
    "A = display_network(Xmis.T)\n",
    "f2 = plt.imshow(A, interpolation='nearest' )\n",
    "plt.gray()\n",
    "plt.show()"
   ]
  },
  {
   "cell_type": "code",
   "execution_count": 16,
   "metadata": {
    "collapsed": false
   },
   "outputs": [
    {
     "name": "stdout",
     "output_type": "stream",
     "text": [
      "[[  1.12468670e-05   9.99988753e-01]\n",
      " [  7.33055210e-08   9.99999927e-01]\n",
      " [  2.53644643e-01   7.46355357e-01]\n",
      " [  9.99976153e-01   2.38470532e-05]\n",
      " [  9.91519985e-01   8.48001460e-03]\n",
      " [  9.84886524e-01   1.51134762e-02]\n",
      " [  7.28444682e-01   2.71555318e-01]\n",
      " [  5.50593340e-01   4.49406660e-01]\n",
      " [  5.64877520e-01   4.35122480e-01]\n",
      " [  5.29309456e-01   4.70690544e-01]\n",
      " [  9.98779568e-01   1.22043154e-03]\n",
      " [  7.54343017e-01   2.45656983e-01]\n",
      " [  9.99998718e-01   1.28185821e-06]]\n",
      "[0 0 0 0 0 0 0 0 0 0]\n"
     ]
    }
   ],
   "source": [
    "# prob \n",
    "print(logreg.predict_proba(Xmis))\n",
    "print(y_test[:10])"
   ]
  }
 ],
 "metadata": {
  "kernelspec": {
   "display_name": "Python 2",
   "language": "python",
   "name": "python2"
  },
  "language_info": {
   "codemirror_mode": {
    "name": "ipython",
    "version": 2
   },
   "file_extension": ".py",
   "mimetype": "text/x-python",
   "name": "python",
   "nbconvert_exporter": "python",
   "pygments_lexer": "ipython2",
   "version": "2.7.12"
  }
 },
 "nbformat": 4,
 "nbformat_minor": 2
}
