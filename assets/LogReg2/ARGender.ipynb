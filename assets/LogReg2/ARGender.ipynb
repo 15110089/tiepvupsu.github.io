{
 "cells": [
  {
   "cell_type": "markdown",
   "metadata": {},
   "source": [
    "Khai báo thư viện"
   ]
  },
  {
   "cell_type": "code",
   "execution_count": 12,
   "metadata": {
    "collapsed": true
   },
   "outputs": [],
   "source": [
    "import numpy as np \n",
    "import matplotlib.pyplot as plt\n",
    "from sklearn import linear_model \n",
    "from sklearn.metrics import accuracy_score\n",
    "from scipy import misc      # for \n",
    "from sklearn import preprocessing\n",
    "np.random.seed(1)\n",
    "path = '../data/AR/' # path to the database \n",
    "\n",
    "train_ids = np.arange(1, 26)\n",
    "test_ids = np.arange(26, 50)\n",
    "view_ids = np.hstack((np.arange(1, 8), np.arange(14, 21)))\n",
    "\n",
    "D = 165*120 # original dimension \n",
    "d = 500 # new dimension \n",
    "\n",
    "# generate the projection matrix \n",
    "ProjectionMatrix = np.random.randn(D, d) "
   ]
  },
  {
   "cell_type": "code",
   "execution_count": 14,
   "metadata": {
    "collapsed": true
   },
   "outputs": [],
   "source": [
    "def build_list_fn(pre, img_ids, view_ids):\n",
    "    \"\"\"\n",
    "    pre = 'M-' or 'W-'\n",
    "    img_ids: indexes of images\n",
    "    view_ids: indexes of views\n",
    "    \"\"\"\n",
    "    list_fn = []\n",
    "    for im_id in img_ids:\n",
    "        for v_id in view_ids:\n",
    "            fn = path + pre + str(im_id).zfill(3) + '-' + \\\n",
    "                str(v_id).zfill(2) + '.bmp'\n",
    "            list_fn.append(fn)\n",
    "    return list_fn "
   ]
  },
  {
   "cell_type": "code",
   "execution_count": 15,
   "metadata": {
    "collapsed": true
   },
   "outputs": [],
   "source": [
    "def rgb2gray(rgb):\n",
    "#     Y' = 0.299 R + 0.587 G + 0.114 B \n",
    "    return rgb[:,:,0]*.299 + rgb[:, :, 1]*.587 + rgb[:, :, 2]*.114\n",
    "\n",
    "# feature extraction \n",
    "def vectorize_img(filename):    \n",
    "    # load image \n",
    "    rgb = misc.imread(filename)\n",
    "    # convert to gray scale \n",
    "    gray = rgb2gray(rgb)\n",
    "    # vectorization each row is a data point \n",
    "    im_vec = gray.reshape(1, D)\n",
    "    return im_vec \n",
    "\n",
    "def build_data_matrix(img_ids, view_ids):\n",
    "    total_imgs = img_ids.shape[0]*view_ids.shape[0]*2 \n",
    "        \n",
    "    X_full = np.zeros((total_imgs, D))\n",
    "    y = np.hstack((np.zeros((total_imgs/2, )), np.ones((total_imgs/2, ))))\n",
    "    \n",
    "    list_fn_m = build_list_fn('M-', img_ids, view_ids)\n",
    "    list_fn_w = build_list_fn('W-', img_ids, view_ids)\n",
    "    list_fn = list_fn_m + list_fn_w \n",
    "    \n",
    "    for i in range(len(list_fn)):\n",
    "        X_full[i, :] = vectorize_img(list_fn[i])\n",
    "\n",
    "    X = np.dot(X_full, ProjectionMatrix)\n",
    "    # scale to mean 0 and standard deviation 1 \n",
    "    X_scaled = preprocessing.scale(X)\n",
    "    return (X_scaled, y)\n",
    "                \n",
    "(X_train, y_train) = build_data_matrix(train_ids, view_ids)\n",
    "(X_test, y_test) = build_data_matrix(test_ids, view_ids)"
   ]
  },
  {
   "cell_type": "code",
   "execution_count": 16,
   "metadata": {
    "collapsed": false
   },
   "outputs": [
    {
     "name": "stdout",
     "output_type": "stream",
     "text": [
      "Accuracy: 91.37 %\n"
     ]
    }
   ],
   "source": [
    "logreg = linear_model.LogisticRegression(C=1e5) # just a big number \n",
    "logreg.fit(X_train, y_train)\n",
    "\n",
    "\n",
    "y_pred = logreg.predict(X_test)\n",
    "print \"Accuracy: %.2f %%\" %(100*accuracy_score(y_test, y_pred))"
   ]
  },
  {
   "cell_type": "code",
   "execution_count": null,
   "metadata": {
    "collapsed": true
   },
   "outputs": [],
   "source": [
    "# load an img \n",
    "fn1 = 'M-026-01.bmp'\n"
   ]
  }
 ],
 "metadata": {
  "kernelspec": {
   "display_name": "Python 2",
   "language": "python",
   "name": "python2"
  },
  "language_info": {
   "codemirror_mode": {
    "name": "ipython",
    "version": 2
   },
   "file_extension": ".py",
   "mimetype": "text/x-python",
   "name": "python",
   "nbconvert_exporter": "python",
   "pygments_lexer": "ipython2",
   "version": "2.7.12"
  }
 },
 "nbformat": 4,
 "nbformat_minor": 2
}
