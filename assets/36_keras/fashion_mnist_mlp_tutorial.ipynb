{
 "cells": [
  {
   "cell_type": "markdown",
   "metadata": {},
   "source": [
    "<h3>Làm quen với mạng MLP với dữ liệu Fashion-MNIST</h3> <br>\n",
    "&copy; DeepAI-Solutions <br>\n",
    "Trước tiên chúng ta làm quen với việc sử dụng Keras xây dựng một mạng mlp. <br>\n",
    "Mạng mlp (multilayer perceptrons) là mạng được tạo bởi các layer xếp chồng lên nhau <br> \n",
    "Một layer có các neurons (perceptrons) kết nối với từng neurons (perceptrons) ở layer phía trước <br> \n",
    "Mỗi layer như vậy thường được gọi là Dense Layer hoặc Fully Connected Layer (kết nối đầy đủ). <br> "
   ]
  },
  {
   "cell_type": "markdown",
   "metadata": {},
   "source": [
    "<img src='figs/neural_network.png' width=600 height=400/>"
   ]
  },
  {
   "cell_type": "markdown",
   "metadata": {},
   "source": [
    "Hãy thử nghiệm trên dữ liệu Fashion-MNIST để phân loại ảnh đầu vào là đồ thời trang (quần áo, giày dép, túi xách). (xem hình dưới) <br> \n",
    "Tập dữ liệu Fashion-MNIST gồm có 60,000 mẫu dữ liệu dùng để huấn luyện (training set) và 10,000 mẫu dữ liệu dùng để kiểm tra độ chính xác (test set). <br> \n",
    "Mỗi mẫu dữ liệu đầu vào là một ma trận có kích thước 28x28 (tương ứng với ảnh đầu vào dạng gray scale có chiều rộng 28 và chiều cao 28). Đầu ra của mỗi mẫu dữ liệu là một nhãn (label) tương ứng với một loại đồ thời trang, cụ thể:\n",
    "0 T-shirt/top \n",
    "1 Trouser \n",
    "2 Pullover \n",
    "3 Dress \n",
    "4 Coat \n",
    "5 Sandal \n",
    "6 Shirt \n",
    "7 Sneaker \n",
    "8 Bag \n",
    "9 Ankle boot <br>\n",
    "Như vậy trung bình cứ mỗi một loại nhãn sẽ có 6000 ảnh dữ liệu để huấn luyện (training) và 1000 ảnh dữ liệu để kiểm tra (test).<br>\n",
    "Xem thêm tại: https://github.com/zalandoresearch/fashion-mnist"
   ]
  },
  {
   "cell_type": "markdown",
   "metadata": {},
   "source": [
    "<img src='figs/pullover-example.png' width=300 height=300/>"
   ]
  },
  {
   "cell_type": "markdown",
   "metadata": {},
   "source": [
    "<h4>I. Tải và xử lý dữ liệu </h4> <br>\n",
    "Ở đây chúng ta sử dụng module build sẵn trong Keras để tải và đọc dữ liệu vào. <br>\n",
    "Chúng ta cũng có thể download dữ liệu từ các nguồn khác. <br> \n",
    "Nhưng dù bằng cách nào thì mục tiêu là đọc vào được dữ liệu là các mảng X - đầu vào, y - nhãn <br>\n",
    "Sau đó chúng ta chia thành các tập dữ liệu train và test <br> \n",
    "(Reference: https://github.com/keras-team/keras)"
   ]
  },
  {
   "cell_type": "markdown",
   "metadata": {},
   "source": [
    "1 - Import các thư viện cần thiết"
   ]
  },
  {
   "cell_type": "code",
   "execution_count": 1,
   "metadata": {},
   "outputs": [
    {
     "name": "stderr",
     "output_type": "stream",
     "text": [
      "/Users/admin/anaconda3/lib/python3.6/site-packages/h5py/__init__.py:36: FutureWarning: Conversion of the second argument of issubdtype from `float` to `np.floating` is deprecated. In future, it will be treated as `np.float64 == np.dtype(float).type`.\n",
      "  from ._conv import register_converters as _register_converters\n",
      "Using TensorFlow backend.\n"
     ]
    }
   ],
   "source": [
    "from __future__ import print_function\n",
    "import keras\n",
    "from keras.datasets import fashion_mnist\n",
    "from keras import backend as K\n",
    "import numpy as np\n",
    "import random\n",
    "random.seed(123)"
   ]
  },
  {
   "cell_type": "markdown",
   "metadata": {},
   "source": [
    "2 - Load dữ liệu <br>\n",
    "Trước tiên định nghĩa một số tham số cơ bản, batch_size là kích thước một mẻ dữ liệu, num_classes là số loại nhãn, epochs là số vòng lặp huấn luyện, img_rows là số hàng, img_cols là số cột"
   ]
  },
  {
   "cell_type": "code",
   "execution_count": 2,
   "metadata": {
    "collapsed": true
   },
   "outputs": [],
   "source": [
    "batch_size = 128\n",
    "num_classes = 10\n",
    "epochs = 12\n",
    "\n",
    "# input image dimensions\n",
    "img_rows, img_cols = 28, 28"
   ]
  },
  {
   "cell_type": "markdown",
   "metadata": {},
   "source": [
    "Nếu quan sát đoạn code dưới đây bạn sẽ thấy các bước như sau: <br>\n",
    "- Trước tiên chúng ta load ra dữ liệu bằng câu lệnh fashion_mnist.load_data()\n",
    "- Tiếp theo chúng ta đưa mỗi dữ liệu đầu vào thứ $X_i$ về dạng mảng (chiều cao, chiều rộng, số kênh) với câu lệnh: <br>\n",
    "x_train.reshape\n",
    "Lưu ý: Ở đây có thể chọn việc đặt chiều channel (kênh) lên trước hoặc ra sau, xem input_shape được khởi tạo\n",
    "- Dữ liệu đầu vào được đưa về kiểu float32 và chuẩn hoá theo từng pixel bằng cách chia cho 255\n",
    "- Dữ liệu nhãn được chuyển từ dạng integer về dạng one-hot-vector. Ví dụ: 2 => [0 0 1 0 0 0 0 0 0 0]"
   ]
  },
  {
   "cell_type": "code",
   "execution_count": 3,
   "metadata": {},
   "outputs": [
    {
     "name": "stdout",
     "output_type": "stream",
     "text": [
      "Downloading data from http://fashion-mnist.s3-website.eu-central-1.amazonaws.com/train-labels-idx1-ubyte.gz\n",
      "32768/29515 [=================================] - 0s 14us/step\n",
      "Downloading data from http://fashion-mnist.s3-website.eu-central-1.amazonaws.com/train-images-idx3-ubyte.gz\n",
      "26427392/26421880 [==============================] - 31s 1us/step\n",
      "Downloading data from http://fashion-mnist.s3-website.eu-central-1.amazonaws.com/t10k-labels-idx1-ubyte.gz\n",
      "8192/5148 [===============================================] - 0s 0us/step\n",
      "Downloading data from http://fashion-mnist.s3-website.eu-central-1.amazonaws.com/t10k-images-idx3-ubyte.gz\n",
      "4423680/4422102 [==============================] - 11s 2us/step\n",
      "x_train shape: (60000, 28, 28, 1)\n",
      "60000 train samples\n",
      "10000 test samples\n"
     ]
    }
   ],
   "source": [
    "\n",
    "# the data, split between train and test sets\n",
    "(x_train, y_train), (x_test, y_test) = fashion_mnist.load_data()\n",
    "\n",
    "x_train = x_train.astype('float32')\n",
    "x_test = x_test.astype('float32')\n",
    "x_train /= 255\n",
    "x_test /= 255\n",
    "print('x_train shape:', x_train.shape)\n",
    "print(x_train.shape[0], 'train samples')\n",
    "print(x_test.shape[0], 'test samples')\n",
    "y_train_org = np.copy(y_train)\n",
    "y_test_org = np.copy(y_test)\n",
    "# convert class vectors to binary class matrices\n",
    "y_train = keras.utils.to_categorical(y_train, num_classes)\n",
    "y_test = keras.utils.to_categorical(y_test, num_classes)"
   ]
  },
  {
   "cell_type": "code",
   "execution_count": null,
   "metadata": {
    "collapsed": true
   },
   "outputs": [],
   "source": [
    "print(y_train)"
   ]
  },
  {
   "cell_type": "markdown",
   "metadata": {},
   "source": [
    "Như vậy chúng ta đã có dữ liệu để huấn luyện x_train, y_train và dữ liệu để kiểm tra x_test và y_test. Dưới đây ta vẽ một mẫu dữ liệu dưới dạng ảnh để có cái nhìn trực quan <br>"
   ]
  },
  {
   "cell_type": "code",
   "execution_count": 29,
   "metadata": {},
   "outputs": [
    {
     "name": "stdout",
     "output_type": "stream",
     "text": [
      "(28, 28, 1)\n",
      "[0. 0. 1. 0. 0. 0. 0. 0. 0. 0.]\n"
     ]
    },
    {
     "data": {
      "text/plain": [
       "<matplotlib.image.AxesImage at 0x10d490ac8>"
      ]
     },
     "execution_count": 29,
     "metadata": {},
     "output_type": "execute_result"
    },
    {
     "data": {
      "image/png": "[encoded data removed]",
      "text/plain": [
       "<matplotlib.figure.Figure at 0x10d1faa90>"
      ]
     },
     "metadata": {},
     "output_type": "display_data"
    }
   ],
   "source": [
    "import matplotlib.pyplot as plt\n",
    "# Show one of the images from the training dataset\n",
    "# plt.figure(figsize = (1.0,1.0))\n",
    "img_index = 5\n",
    "print(x_train[img_index].shape)\n",
    "print(y_train[img_index])\n",
    "plt.imshow(x_train[img_index][:,:,0], cmap='gray', aspect=1.0)"
   ]
  },
  {
   "cell_type": "markdown",
   "metadata": {},
   "source": [
    "<h4>II. Xây dựng mạng MLP </h4><br>\n",
    "Chúng ta sẽ sử dụng các API của Keras để xây dựng mạng MLP <br>\n"
   ]
  },
  {
   "cell_type": "markdown",
   "metadata": {},
   "source": [
    "1 - Import các thư viện cần thiết"
   ]
  },
  {
   "cell_type": "code",
   "execution_count": 14,
   "metadata": {
    "collapsed": true
   },
   "outputs": [],
   "source": [
    "from keras.models import Sequential\n",
    "from keras.layers import Dense, Flatten"
   ]
  },
  {
   "cell_type": "markdown",
   "metadata": {},
   "source": [
    "2 - Xây dựng mạng MLP <br>\n",
    "Các bước xây dựng mô hình deep learning với Keras khá đơn giản. <br> \n",
    "Hãy quan sát đoạn code dưới đây và chú ý các bước sau:\n",
    "- Tạo kiểu model, ở đây chúng ta dùng model đơn giản dạng layer-by-layer (lớp sau kết nối với lớp trước) bằng cách sử dụng Sequential()\n",
    "- Thêm vào model lần lượt từng layer bằng câu lệnh model.add(some_layer). Ví dụ:<br> \n",
    "model.add(Dense(128, activation='relu')) <br> \n",
    "Để ý các loại layer được sử dụng bao gồm: <br> \n",
    "Flatten là flatten layer để \"duỗi\" ma trận về dạng 1 chiều. Do ảnh đầu vào là 3 chiều nên ta cần duỗi về dạng 1 chiều <br>\n",
    "Dense chính là fully connected layer. Ở đây chúng ta dùng làm các layer ẩn với tham số đầu vào đầu tiên chính là số neurons (perceptrons) trên layer đó. Đồng thời Dense layer cũng được dùng để làm output layer với activation là softmax, số lượng neurons tương ứng với số loại nhãn <br>\n",
    "- Khai báo phương pháp training: loss, optimizer (thuật toán tối ưu), metrics (các ma trận cần tính)"
   ]
  },
  {
   "cell_type": "code",
   "execution_count": 15,
   "metadata": {
    "collapsed": true
   },
   "outputs": [],
   "source": [
    "model = Sequential()\n",
    "model.add(Flatten(input_shape=input_shape))\n",
    "model.add(Dense(128, activation='relu'))\n",
    "model.add(Dense(256, activation='relu'))\n",
    "model.add(Dense(512, activation='relu'))\n",
    "model.add(Dense(num_classes, activation='softmax'))\n",
    "\n",
    "model.compile(loss=keras.losses.categorical_crossentropy,\n",
    "              optimizer=keras.optimizers.Adadelta(),\n",
    "              metrics=['accuracy'])"
   ]
  },
  {
   "cell_type": "markdown",
   "metadata": {},
   "source": [
    "<h4>III. Training và test </h4> <br> \n",
    "1 - Training (huấn luyện) <br> \n",
    "Với Keras, bước training có thể sử dụng phương thức đơn giản nhất là model.fit(x_train, y_train) <br> \n",
    "Chúng ta có thể điều chỉnh batch_size, epochs, verbose (log output trong quá trình training), validation_data (dữ liệu validate trong quá trình training) <br> \n"
   ]
  },
  {
   "cell_type": "code",
   "execution_count": 16,
   "metadata": {},
   "outputs": [
    {
     "name": "stdout",
     "output_type": "stream",
     "text": [
      "Train on 60000 samples, validate on 10000 samples\n",
      "Epoch 1/12\n",
      "60000/60000 [==============================] - 5s 84us/step - loss: 0.5878 - acc: 0.7836 - val_loss: 0.4460 - val_acc: 0.8305\n",
      "Epoch 2/12\n",
      "60000/60000 [==============================] - 5s 76us/step - loss: 0.3899 - acc: 0.8555 - val_loss: 0.4611 - val_acc: 0.8283\n",
      "Epoch 3/12\n",
      "60000/60000 [==============================] - 4s 71us/step - loss: 0.3467 - acc: 0.8707 - val_loss: 0.4145 - val_acc: 0.8495\n",
      "Epoch 4/12\n",
      "60000/60000 [==============================] - 5s 76us/step - loss: 0.3223 - acc: 0.8805 - val_loss: 0.4245 - val_acc: 0.8408\n",
      "Epoch 5/12\n",
      "60000/60000 [==============================] - 4s 71us/step - loss: 0.3024 - acc: 0.8868 - val_loss: 0.3619 - val_acc: 0.8714\n",
      "Epoch 6/12\n",
      "60000/60000 [==============================] - 6s 103us/step - loss: 0.2850 - acc: 0.8928 - val_loss: 0.3859 - val_acc: 0.8557\n",
      "Epoch 7/12\n",
      "60000/60000 [==============================] - 5s 79us/step - loss: 0.2732 - acc: 0.8973 - val_loss: 0.3528 - val_acc: 0.8731\n",
      "Epoch 8/12\n",
      "60000/60000 [==============================] - 4s 75us/step - loss: 0.2603 - acc: 0.9024 - val_loss: 0.3594 - val_acc: 0.8687\n",
      "Epoch 9/12\n",
      "60000/60000 [==============================] - 4s 71us/step - loss: 0.2483 - acc: 0.9052 - val_loss: 0.3451 - val_acc: 0.8746\n",
      "Epoch 10/12\n",
      "60000/60000 [==============================] - 4s 70us/step - loss: 0.2385 - acc: 0.9087 - val_loss: 0.3697 - val_acc: 0.8655\n",
      "Epoch 11/12\n",
      "60000/60000 [==============================] - 4s 74us/step - loss: 0.2295 - acc: 0.9123 - val_loss: 0.3119 - val_acc: 0.8879\n",
      "Epoch 12/12\n",
      "60000/60000 [==============================] - 4s 70us/step - loss: 0.2199 - acc: 0.9161 - val_loss: 0.3636 - val_acc: 0.8740\n"
     ]
    },
    {
     "data": {
      "text/plain": [
       "<keras.callbacks.History at 0x18390ba588>"
      ]
     },
     "execution_count": 16,
     "metadata": {},
     "output_type": "execute_result"
    }
   ],
   "source": [
    "model.fit(x_train, y_train,\n",
    "          batch_size=batch_size,\n",
    "          epochs=epochs,\n",
    "          verbose=1,\n",
    "          validation_data=(x_test, y_test))"
   ]
  },
  {
   "cell_type": "markdown",
   "metadata": {},
   "source": [
    "2 - Test (kiểm tra)<br>\n",
    "Ở đây chúng ta kiểm tra đơn giản bằng cách tính loss và accuracy (độ chính xác) trên tập test <br> "
   ]
  },
  {
   "cell_type": "code",
   "execution_count": 20,
   "metadata": {},
   "outputs": [
    {
     "name": "stdout",
     "output_type": "stream",
     "text": [
      "Test loss: 0.3636222218751907\n",
      "Test accuracy: 0.874\n"
     ]
    }
   ],
   "source": [
    "score = model.evaluate(x_test, y_test, verbose=0)\n",
    "print('Test loss:', score[0])\n",
    "print('Test accuracy:', score[1])"
   ]
  },
  {
   "cell_type": "markdown",
   "metadata": {},
   "source": [
    "<h4>IV. Mở rộng</h4> \n",
    "- Bạn có thể thấy độ chính xác của mô hình MLP mà chúng ta xây dựng cho dữ liệu Fashion-MNIST là 87.4%. Chúng ta nhận ra rằng mô hình deep learning rất hiệu quả cho bài toán phân loại ảnh và đương nhiên mở rộng ra với các loại dữ liệu khác.<br> \n",
    "- Nhưng chúng ta cũng nên chú ý tới 2 điểm: Thứ nhất, dữ liệu đầu vào của chúng ta chỉ là 28x28 = 784 chiều và đặc trưng cho dữ liệu thời trang cũng không quá phức tạp trên nền là một màu đen. Thứ hai, số lượng dữ liệu trên một nhãn là 6000 mẫu và điều này đặc biệt quan trọng đối với các mô hình deep learning.<br> \n",
    "- Con số 87.4% tuy khá cao nếu so sánh với các mô hình khác hoặc so sánh với các bài toán machine learning nói chung. <br> \n",
    "Nhưng đối với dữ liệu ảnh MLP không phải là mô hình hiệu quả, chúng ta sẽ khám phá hoặc có thể đã biết mạng <span style='color:blue'>CNN</span> (convolutional neural network). Chúng ta sẽ học ở những bài tiếp theo và thấy rằng khi chúng ta thay phần model ở trên bằng CNN model thì độ chính xác trên tập validate là 92.2% (cũng sau 12 epochs). <br> \n",
    "Nếu chúng ta thử nghiệm với bài toán phân loại ảnh phức tạp hơn (như phân loại hoa ở các bài sau) thì càng thấy rõ sự khác biệt về performance. <br> \n",
    "- Khi xây dựng mạng MLP chúng ta chưa dùng nhiều kĩ thuật của deep learning. Khi sử dụng thêm những kĩ thuật như vậy sẽ giúp tăng độ chính xác của mô hình lên, tăng tốc quá trình training và giảm thiểu overfitting. Những kỹ thuật này sẽ được trình bài và thử nghiệm ở một bài học sau. <br> \n",
    "- Một chú ý nhỏ nữa là bạn có thể tinh chỉnh các mô hình chúng ta thử nghiệm để được những độ chính xác cao hơn. Nhưng hãy hiểu rằng chúng ta đang tiếp cận tất cả các mô hình theo một cách đơn giản nhất (không tuỳ chỉnh gì nhiều các tham số)."
   ]
  },
  {
   "cell_type": "markdown",
   "metadata": {},
   "source": [
    "Hãy thử sử dụng SVM với dữ liệu Fashion-MNIST để thấy rõ sự vượt trội của mạng deep learning <br> \n",
    "Bạn hãy để ý về tốc độ training cũng như độ chính xác trên tập test<br> \n",
    "+ Training với SVM, hãy đưa mỗi điểm dữ liệu X về dạng 1 chiều, đồng thời y ở dạng integer. <br> \n",
    "+ Sử dụng score để tính độ chính xác trên tập test (kết quả là khoảng 84.6%)"
   ]
  },
  {
   "cell_type": "code",
   "execution_count": 21,
   "metadata": {},
   "outputs": [
    {
     "name": "stdout",
     "output_type": "stream",
     "text": [
      "(60000, 784)\n"
     ]
    },
    {
     "data": {
      "text/plain": [
       "SVC(C=1.0, cache_size=200, class_weight=None, coef0=0.0,\n",
       "  decision_function_shape='ovr', degree=3, gamma='auto', kernel='rbf',\n",
       "  max_iter=-1, probability=False, random_state=None, shrinking=True,\n",
       "  tol=0.001, verbose=False)"
      ]
     },
     "execution_count": 21,
     "metadata": {},
     "output_type": "execute_result"
    }
   ],
   "source": [
    "from sklearn.svm import SVC\n",
    "clf = SVC()\n",
    "n_train_samples = x_train.shape[0]\n",
    "x_train_org = x_train.reshape(n_train_samples, -1)\n",
    "print(x_train_org.shape)\n",
    "clf.fit(x_train_org, y_train_org)"
   ]
  },
  {
   "cell_type": "code",
   "execution_count": 23,
   "metadata": {},
   "outputs": [
    {
     "name": "stdout",
     "output_type": "stream",
     "text": [
      "Test SVM accuracy: 0.8461\n"
     ]
    }
   ],
   "source": [
    "n_test_samples = x_test.shape[0]\n",
    "x_test_org = x_test.reshape(n_test_samples, -1)\n",
    "svm_score = clf.score(x_test_org, y_test_org)\n",
    "print('Test SVM accuracy:', svm_score)"
   ]
  },
  {
   "cell_type": "markdown",
   "metadata": {},
   "source": [
    "Khi chạy đoạn code trên bạn sẽ thấy khá là mất thời gian. Hãy sử dụng module time để đo lường nếu bạn thực sự quan tâm về tốc độ training và test. Với SVM, chúng ta có thể cải thiện độ chính xác bằng cách kết hợp với thuật toán HOG nhưng đó là một câu chuyện khác. "
   ]
  },
  {
   "cell_type": "code",
   "execution_count": null,
   "metadata": {
    "collapsed": true
   },
   "outputs": [],
   "source": []
  }
 ],
 "metadata": {
  "kernelspec": {
   "display_name": "Python 3",
   "language": "python",
   "name": "python3"
  },
  "language_info": {
   "codemirror_mode": {
    "name": "ipython",
    "version": 3
   },
   "file_extension": ".py",
   "mimetype": "text/x-python",
   "name": "python",
   "nbconvert_exporter": "python",
   "pygments_lexer": "ipython3",
   "version": "3.6.4"
  },
  "latex_envs": {
   "LaTeX_envs_menu_present": true,
   "autoclose": false,
   "autocomplete": true,
   "bibliofile": "biblio.bib",
   "cite_by": "apalike",
   "current_citInitial": 1,
   "eqLabelWithNumbers": true,
   "eqNumInitial": 1,
   "hotkeys": {
    "equation": "Ctrl-E",
    "itemize": "Ctrl-I"
   },
   "labels_anchors": false,
   "latex_user_defs": false,
   "report_style_numbering": false,
   "user_envs_cfg": false
  },
  "toc": {
   "nav_menu": {},
   "number_sections": true,
   "sideBar": true,
   "skip_h1_title": false,
   "title_cell": "Table of Contents",
   "title_sidebar": "Contents",
   "toc_cell": false,
   "toc_position": {},
   "toc_section_display": true,
   "toc_window_display": true
  }
 },
 "nbformat": 4,
 "nbformat_minor": 2
}
