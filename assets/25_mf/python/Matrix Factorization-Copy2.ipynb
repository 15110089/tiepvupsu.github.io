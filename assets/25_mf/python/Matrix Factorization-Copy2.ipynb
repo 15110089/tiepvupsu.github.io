{
 "cells": [
  {
   "cell_type": "markdown",
   "metadata": {
    "collapsed": true
   },
   "source": [
    "# Matrix Factorization"
   ]
  },
  {
   "cell_type": "code",
   "execution_count": 2,
   "metadata": {},
   "outputs": [
    {
     "name": "stdout",
     "output_type": "stream",
     "text": [
      "iter = 1000 , loss = 0.316681549148\n",
      "iter = 2000 , loss = 0.13563610798\n",
      "iter = 3000 , loss = 0.098945941908\n",
      "iter = 4000 , loss = 0.0869023843657\n",
      "iter = 5000 , loss = 0.0822775131126\n",
      "iter = 6000 , loss = 0.0807994848759\n",
      "iter = 7000 , loss = 0.0802245607348\n",
      "iter = 8000 , loss = 0.0799599023531\n",
      "iter = 9000 , loss = 0.0798188919094\n",
      "iter = 10000 , loss = 0.0797320256677\n"
     ]
    },
    {
     "data": {
      "text/plain": [
       "1.2282500452670797"
      ]
     },
     "execution_count": 2,
     "metadata": {},
     "output_type": "execute_result"
    }
   ],
   "source": [
    "import pandas as pd \n",
    "import numpy as np\n",
    "from sklearn.metrics.pairwise import cosine_similarity\n",
    "from scipy import sparse \n",
    "\n",
    "class MF(object):\n",
    "    \"\"\"docstring for CF\"\"\"\n",
    "    def __init__(self, Y_data, K, lam = 0.01, Xinit = None, Winit = None, \n",
    "                 learning_rate = 0.01, max_iter = 1000, print_every = 100, user_based = 1, NN = 0):\n",
    "        self.Y_raw_data = Y_data\n",
    "        self.K = K\n",
    "        self.lam = lam\n",
    "        self.learning_rate = learning_rate\n",
    "        self.max_iter = max_iter\n",
    "        self.print_every = print_every\n",
    "        self.user_based = user_based\n",
    "        self.NN = NN \n",
    "        # number of users and items. Remember to add 1 since id starts from 0\n",
    "        self.n_users = int(np.max(Y_data[:, 0])) + 1 \n",
    "        self.n_items = int(np.max(Y_data[:, 1])) + 1\n",
    "        \n",
    "        if Xinit is None: \n",
    "            if self.NN:\n",
    "                self.X = np.random.rand(self.n_items, K)\n",
    "            else:\n",
    "                self.X = np.random.randn(self.n_items, K)\n",
    "        else:\n",
    "            self.X = Xinit \n",
    "        \n",
    "        if Winit is None: \n",
    "            if self.NN:\n",
    "                self.W = np.random.rand(K, self.n_users)\n",
    "            else:\n",
    "                self.W = np.random.randn(K, self.n_users)\n",
    "        else: \n",
    "            self.W = Winit\n",
    "            \n",
    "        #self.all_users = self.Y_data[:,0] # all users (may be duplicated)\n",
    "        self.n_ratings = Y_data.shape[0]\n",
    "        # normalized data\n",
    "        self.Y_data_n = self.Y_raw_data.copy()\n",
    "\n",
    "    def normalize_Y(self):\n",
    "        if self.user_based:\n",
    "            user_col = 0\n",
    "            item_col = 1\n",
    "            n_objects = self.n_users\n",
    "        else:\n",
    "            user_col = 1\n",
    "            item_col = 0 \n",
    "            n_objects = self.n_items\n",
    "\n",
    "        users = self.Y_raw_data[:, user_col] \n",
    "        self.mu = np.zeros((n_objects,))\n",
    "        for n in xrange(n_objects):\n",
    "            # row indices of rating done by user n\n",
    "            # since indices need to be integers, we need to convert\n",
    "            ids = np.where(users == n)[0].astype(np.int32)\n",
    "            # indices of all ratings associated with user n\n",
    "            item_ids = self.Y_data_n[ids, item_col] \n",
    "            # and the corresponding ratings \n",
    "            ratings = self.Y_data_n[ids, 2]\n",
    "            # take mean\n",
    "            m = np.mean(ratings) \n",
    "            if np.isnan(m):\n",
    "                m = 0 # to avoid empty array and nan value\n",
    "            self.mu[n] = m\n",
    "            # normalize\n",
    "            self.Y_data_n[ids, 2] = ratings - self.mu[n]\n",
    "            \n",
    "    \n",
    "    def loss(self):\n",
    "        L = 0 \n",
    "        for i in xrange(self.Y_data_n.shape[0]):\n",
    "            # user, item, rating\n",
    "            n, m, rate = int(self.Y_data_n[i, 0]), int(self.Y_data_n[i, 1]), self.Y_data_n[i, 2]\n",
    "            L += 0.5*(rate - self.X[m, :].dot(self.W[:, n]))**2\n",
    "            \n",
    "        # regularization, don't ever forget this \n",
    "        L /= self.n_ratings\n",
    "        L += 0.5*self.lam*(np.linalg.norm(self.X, 'fro') + np.linalg.norm(self.W, 'fro'))\n",
    "        return L \n",
    "\n",
    "    \n",
    "    def get_items_rated_by_user(self, user_id):\n",
    "        \"\"\"\n",
    "        get all items which are rated by user n, and the corresponding ratings\n",
    "        \"\"\"\n",
    "        # y = self.Y_data_n[:,0] # all users (may be duplicated)\n",
    "        # item indices rated by user_id\n",
    "        # we need to +1 to user_id since in the rate_matrix, id starts from 1 \n",
    "        # while index in python starts from 0\n",
    "        ids = np.where(self.Y_data_n[:,0] == user_id)[0] \n",
    "        item_ids = self.Y_data_n[ids, 1].astype(np.int32) # index starts from 0 \n",
    "        ratings = self.Y_data_n[ids, 2]\n",
    "        return (item_ids, ratings)\n",
    "        \n",
    "        \n",
    "    def get_users_who_rate_item(self, item_id):\n",
    "        \"\"\"\n",
    "        get all users who rated item m and get the corresponding ratings\n",
    "        \"\"\"\n",
    "        ids = np.where(self.Y_data_n[:,1] == item_id)[0] \n",
    "        user_ids = self.Y_data_n[ids, 0].astype(np.int32)\n",
    "        ratings = self.Y_data_n[ids, 2]\n",
    "        return (user_ids, ratings)\n",
    "    \n",
    "    \n",
    "    def updateX(self):\n",
    "        for m in xrange(self.n_items):\n",
    "            user_ids, ratings = self.get_users_who_rate_item(m)\n",
    "            Wm = self.W[:, user_ids]\n",
    "            grad_xm = -(ratings - self.X[m, :].dot(Wm)).dot(Wm.T)/self.n_ratings + \\\n",
    "                                               self.lam*self.X[m, :]\n",
    "            self.X[m, :] -= self.learning_rate*grad_xm.reshape((self.K,))\n",
    "        self.X = np.maximum(0, self.X)\n",
    "    \n",
    "    \n",
    "    def updateW(self):\n",
    "        for n in xrange(self.n_users):\n",
    "            item_ids, ratings = self.get_items_rated_by_user(n)\n",
    "            Xn = self.X[item_ids, :]\n",
    "            grad_wn = -Xn.T.dot(ratings- Xn.dot(self.W[:, n]))/self.n_ratings + \\\n",
    "                        self.lam*self.W[:, n]\n",
    "            self.W[:, n] -= self.learning_rate*grad_wn.reshape((self.K,))\n",
    "        self.W = np.maximum(0, self.W)\n",
    "    \n",
    "    \n",
    "    def fit(self):\n",
    "#         self.normalize_Y()\n",
    "        self.Y_data_n = self.Y_raw_data\n",
    "        for it in xrange(self.max_iter):\n",
    "            self.updateX()\n",
    "            self.updateW()\n",
    "            if (it + 1) % self.print_every == 0:\n",
    "                print 'iter =', it + 1, ', loss =', self.loss()\n",
    "    \n",
    "    \n",
    "    def pred(self, u, i):\n",
    "        \"\"\" \n",
    "        predict the rating of user u for item i \n",
    "        if you need the un\n",
    "        \"\"\"\n",
    "        return self.X[i, :].dot(self.W[:, u])\n",
    "    \n",
    "        if self.user_based:\n",
    "            return self.X[i, :].dot(self.W[:, u]) + self.mu[u]\n",
    "        return self.X[i, :].dot(self.W[:, u]) + self.mu[i]\n",
    "        \n",
    "    \n",
    "    def pred_for_user(self, user_id):\n",
    "        ids = np.where(self.Y_data_n[:, 0] == user_id)[0]\n",
    "        items_rated_by_u = self.Y_data_n[ids, 1].tolist()              \n",
    "        \n",
    "        y_pred = self.X.dot(self.W[:, user_id]) + self.mu[user_id]\n",
    "        predicted_ratings= []\n",
    "        for i in xrange(self.n_items):\n",
    "            if i not in items_rated_by_u:\n",
    "                predicted_ratings.append((i, y_pred[i]))\n",
    "        \n",
    "        return predicted_ratings\n",
    "        \n",
    "r_cols = ['user_id', 'item_id', 'rating']\n",
    "ratings = pd.read_csv('ex.dat', sep = ' ', names = r_cols, encoding='latin-1')\n",
    "Y_data = ratings.as_matrix()\n",
    "\n",
    "\n",
    "rs = MF(Y_data, K = 2, max_iter = 10000, print_every = 1000, NN = 1)\n",
    "\n",
    "rs.fit()\n",
    "rs.pred(6, 1)"
   ]
  },
  {
   "cell_type": "code",
   "execution_count": 7,
   "metadata": {},
   "outputs": [
    {
     "name": "stdout",
     "output_type": "stream",
     "text": [
      "[[  2.41234576e-06   1.22989011e-06   9.97186671e-07 ...,   1.48579090e-06\n",
      "    1.45113626e-06   1.96613214e-06]\n",
      " [  1.50790372e-06   7.96783139e-07   4.95255795e-07 ...,   9.24645494e-07\n",
      "    8.63795236e-07   1.17765914e-06]\n",
      " [  1.03992612e-06   5.87427985e-07   3.51906682e-07 ...,   5.74799363e-07\n",
      "    6.27326546e-07   7.75386864e-07]\n",
      " ..., \n",
      " [  8.40426204e-07   4.49956981e-07   3.06062187e-07 ...,   4.79609329e-07\n",
      "    4.52604384e-07   6.96525451e-07]\n",
      " [  7.36206050e-07   4.00145408e-07   2.66860658e-07 ...,   4.84409569e-07\n",
      "    5.01604590e-07   6.47818003e-07]\n",
      " [  1.05994714e-06   4.94480203e-07   3.94747937e-07 ...,   6.79916872e-07\n",
      "    6.33373150e-07   9.03335090e-07]]\n",
      "[[        0         0         5 874965758]\n",
      " [        0         1         3 876893171]\n",
      " [        0         2         4 878542960]\n",
      " ..., \n",
      " [      942      1187         3 888640250]\n",
      " [      942      1227         3 888640275]\n",
      " [      942      1329         3 888692465]]\n"
     ]
    }
   ],
   "source": [
    "print rs.X.dot(rs.W)\n",
    "print rs.Y_data_n"
   ]
  },
  {
   "cell_type": "markdown",
   "metadata": {},
   "source": [
    "# Áp dụng lên MovieLens 100k"
   ]
  },
  {
   "cell_type": "code",
   "execution_count": 4,
   "metadata": {
    "collapsed": true
   },
   "outputs": [],
   "source": [
    "r_cols = ['user_id', 'movie_id', 'rating', 'unix_timestamp']\n",
    "\n",
    "ratings_base = pd.read_csv('ml-100k/ub.base', sep='\\t', names=r_cols, encoding='latin-1')\n",
    "ratings_test = pd.read_csv('ml-100k/ub.test', sep='\\t', names=r_cols, encoding='latin-1')\n",
    "\n",
    "rate_train = ratings_base.as_matrix()\n",
    "rate_test = ratings_test.as_matrix()\n",
    "\n",
    "# indices start from 0\n",
    "rate_train[:, :2] -= 1\n",
    "rate_test[:, :2] -= 1"
   ]
  },
  {
   "cell_type": "code",
   "execution_count": 5,
   "metadata": {},
   "outputs": [
    {
     "name": "stdout",
     "output_type": "stream",
     "text": [
      "iter = 10 , loss = 8.05259737799\n",
      "iter = 20 , loss = 7.80140862387\n",
      "iter = 30 , loss = 7.39417946825\n",
      "iter = 40 , loss = 7.12528097703\n",
      "iter = 50 , loss = 6.98049452199\n",
      "iter = 60 , loss = 6.90820896212\n",
      "iter = 70 , loss = 6.87326760762\n",
      "iter = 80 , loss = 6.85661964607\n",
      "iter = 90 , loss = 6.84873730732\n",
      "iter = 100 , loss = 6.84501414989\n",
      "Item-item CF, RMSE = 3.76118952705\n"
     ]
    }
   ],
   "source": [
    "rs = MF(rate_train, K = 10, lam = .1, print_every = 10, learning_rate = 0.75, \n",
    "        max_iter = 100, user_based = 1,NN = 1)\n",
    "rs.fit()\n",
    "# evaluate on test data\n",
    "n_tests = rate_test.shape[0]\n",
    "SE = 0 # squared error\n",
    "for n in xrange(n_tests):\n",
    "    pred = rs.pred(rate_test[n, 0], rate_test[n, 1])\n",
    "    SE += (pred - rate_test[n, 2])**2 \n",
    "\n",
    "RMSE = np.sqrt(SE/n_tests)\n",
    "print 'Item-item CF, RMSE =', RMSE"
   ]
  },
  {
   "cell_type": "code",
   "execution_count": 19,
   "metadata": {},
   "outputs": [
    {
     "name": "stdout",
     "output_type": "stream",
     "text": [
      "iter = 10 , loss = 31.3256353273\n",
      "iter = 20 , loss = 9.99306647393\n",
      "iter = 30 , loss = 3.6224860534\n",
      "iter = 40 , loss = 1.41663815287\n",
      "iter = 50 , loss = 0.647698286083\n",
      "iter = 60 , loss = 0.379580945089\n",
      "iter = 70 , loss = 0.286092692681\n",
      "iter = 80 , loss = 0.253495008616\n",
      "iter = 90 , loss = 0.242128803778\n",
      "iter = 100 , loss = 0.238165621765\n",
      "Item-item CF, RMSE = 1.04980475284\n"
     ]
    }
   ],
   "source": [
    "# rs = MF(rate_train, K = 2, lam = 0, print_every = 10, learning_rate = 0.95, \n",
    "#         max_iter = 100, user_based = 0, Xinit = rs.X, Winit = rs.W)\n",
    "rs = MF(rate_train, K = 500, lam = 0.1, print_every = 10, learning_rate = 1, \n",
    "        max_iter = 100, user_based = 0)\n",
    "rs.fit()\n",
    "# evaluate on test data\n",
    "n_tests = rate_test.shape[0]\n",
    "SE = 0 # squared error\n",
    "for n in xrange(n_tests):\n",
    "    pred = rs.pred(rate_test[n, 0], rate_test[n, 1])\n",
    "    SE += (pred - rate_test[n, 2])**2 \n",
    "\n",
    "RMSE = np.sqrt(SE/n_tests)\n",
    "print 'Item-item CF, RMSE =', RMSE"
   ]
  },
  {
   "cell_type": "markdown",
   "metadata": {},
   "source": [
    "# above\n"
   ]
  },
  {
   "cell_type": "code",
   "execution_count": 35,
   "metadata": {},
   "outputs": [
    {
     "name": "stdout",
     "output_type": "stream",
     "text": [
      "iter = 0 , loss = 0.25313267107\n",
      "Item-item CF, RMSE = 1.06037990574\n"
     ]
    }
   ],
   "source": [
    "rs = MF(rate_train, K = 100, lam = 0.01, print_every = 50, learning_rate = 1, max_iter = 2, Xinit = rs.X, \n",
    "       Winit = rs.W)\n",
    "rs.fit()\n",
    "\n",
    "n_tests = rate_test.shape[0]\n",
    "SE = 0 # squared error\n",
    "for n in xrange(n_tests):\n",
    "    pred = rs.pred(rate_test[n, 0], rate_test[n, 1])\n",
    "    SE += (pred - rate_test[n, 2])**2 \n",
    "\n",
    "RMSE = np.sqrt(SE/n_tests)\n",
    "print 'Item-item CF, RMSE =', RMSE"
   ]
  },
  {
   "cell_type": "code",
   "execution_count": 12,
   "metadata": {},
   "outputs": [
    {
     "name": "stdout",
     "output_type": "stream",
     "text": [
      "6.68991073761\n"
     ]
    }
   ],
   "source": [
    "print rs.pred(1, 1)"
   ]
  },
  {
   "cell_type": "code",
   "execution_count": 102,
   "metadata": {},
   "outputs": [
    {
     "name": "stdout",
     "output_type": "stream",
     "text": [
      "iter = 0 , loss = 834968.255442\n",
      "iter = 20 , loss = 63485.6626282\n",
      "iter = 40 , loss = 42930.3071275\n",
      "iter = 60 , loss = 37754.5380156\n",
      "iter = 80 , loss = 35325.5213646\n",
      "iter = 100 , loss = 33808.7359909\n",
      "iter = 120 , loss = 32706.0820541\n",
      "iter = 140 , loss = 31837.7213261\n",
      "iter = 160 , loss = 31122.6640069\n",
      "iter = 180 , loss = 30516.7608351\n"
     ]
    }
   ],
   "source": [
    "rs2 = MF(rate_train, K = 10, lam = 0.01, print_every = 20, learning_rate = 0.001, max_iter = 200)\n",
    "rs2.fit()"
   ]
  },
  {
   "cell_type": "code",
   "execution_count": 118,
   "metadata": {},
   "outputs": [
    {
     "name": "stdout",
     "output_type": "stream",
     "text": [
      "iter = 0 , loss = 18.2010515741\n",
      "iter = 20 , loss = 17.2590357114\n",
      "iter = 40 , loss = 16.4078277213\n",
      "iter = 60 , loss = 15.6376045135\n",
      "iter = 80 , loss = 14.9397357522\n",
      "iter = 100 , loss = 14.3066209185\n",
      "iter = 120 , loss = 13.7315513198\n",
      "iter = 140 , loss = 13.2085928015\n",
      "iter = 160 , loss = 12.7324857114\n",
      "iter = 180 , loss = 12.2985592988\n",
      "iter = 200 , loss = 11.9026582371\n",
      "iter = 220 , loss = 11.5410793644\n",
      "iter = 240 , loss = 11.2105170678\n",
      "iter = 260 , loss = 10.9080160016\n",
      "iter = 280 , loss = 10.6309300501\n",
      "iter = 300 , loss = 10.3768866208\n",
      "iter = 320 , loss = 10.1437555037\n",
      "iter = 340 , loss = 9.92962165041\n",
      "iter = 360 , loss = 9.73276132892\n",
      "iter = 380 , loss = 9.55162119195\n",
      "iter = 400 , loss = 9.38479986624\n",
      "iter = 420 , loss = 9.23103172866\n",
      "iter = 440 , loss = 9.08917258323\n",
      "iter = 460 , loss = 8.95818699414\n",
      "iter = 480 , loss = 8.83713706458\n",
      "Item-item CF, RMSE = 4.05810732794\n"
     ]
    }
   ],
   "source": [
    "rs3 = MF(rate_train, K = 20, lam = 0.01, print_every = 20, \\\n",
    "         learning_rate = 0.1, max_iter = 500)\n",
    "rs3.fit()\n",
    "\n",
    "n_tests = rate_test.shape[0]\n",
    "SE = 0 # squared error\n",
    "for n in xrange(n_tests):\n",
    "    pred = rs3.pred(rate_test[n, 0], rate_test[n, 1])\n",
    "    SE += (pred - rate_test[n, 2])**2 \n",
    "\n",
    "RMSE = np.sqrt(SE/n_tests)\n",
    "print 'Item-item CF, RMSE =', RMSE"
   ]
  },
  {
   "cell_type": "code",
   "execution_count": 129,
   "metadata": {},
   "outputs": [
    {
     "ename": "AttributeError",
     "evalue": "'MF' object has no attribute 'Y_data'",
     "output_type": "error",
     "traceback": [
      "\u001b[0;31m---------------------------------------------------------------------------\u001b[0m",
      "\u001b[0;31mAttributeError\u001b[0m                            Traceback (most recent call last)",
      "\u001b[0;32m<ipython-input-129-76db48b7cf75>\u001b[0m in \u001b[0;36m<module>\u001b[0;34m()\u001b[0m\n\u001b[0;32m----> 1\u001b[0;31m \u001b[0mrs4\u001b[0m \u001b[0;34m=\u001b[0m \u001b[0mMF\u001b[0m\u001b[0;34m(\u001b[0m\u001b[0mrate_train\u001b[0m\u001b[0;34m,\u001b[0m \u001b[0mK\u001b[0m \u001b[0;34m=\u001b[0m \u001b[0;36m2\u001b[0m\u001b[0;34m,\u001b[0m \u001b[0mlam\u001b[0m \u001b[0;34m=\u001b[0m \u001b[0;36m0.01\u001b[0m\u001b[0;34m,\u001b[0m \u001b[0mprint_every\u001b[0m \u001b[0;34m=\u001b[0m \u001b[0;36m20\u001b[0m\u001b[0;34m,\u001b[0m          \u001b[0mlearning_rate\u001b[0m \u001b[0;34m=\u001b[0m \u001b[0;36m0.5\u001b[0m\u001b[0;34m,\u001b[0m \u001b[0mmax_iter\u001b[0m \u001b[0;34m=\u001b[0m \u001b[0;36m500\u001b[0m\u001b[0;34m)\u001b[0m\u001b[0;34m\u001b[0m\u001b[0m\n\u001b[0m\u001b[1;32m      2\u001b[0m \u001b[0mrs4\u001b[0m\u001b[0;34m.\u001b[0m\u001b[0mfit\u001b[0m\u001b[0;34m(\u001b[0m\u001b[0;34m)\u001b[0m\u001b[0;34m\u001b[0m\u001b[0m\n\u001b[1;32m      3\u001b[0m \u001b[0;34m\u001b[0m\u001b[0m\n\u001b[1;32m      4\u001b[0m \u001b[0mn_tests\u001b[0m \u001b[0;34m=\u001b[0m \u001b[0mrate_test\u001b[0m\u001b[0;34m.\u001b[0m\u001b[0mshape\u001b[0m\u001b[0;34m[\u001b[0m\u001b[0;36m0\u001b[0m\u001b[0;34m]\u001b[0m\u001b[0;34m\u001b[0m\u001b[0m\n\u001b[1;32m      5\u001b[0m \u001b[0mSE\u001b[0m \u001b[0;34m=\u001b[0m \u001b[0;36m0\u001b[0m \u001b[0;31m# squared error\u001b[0m\u001b[0;34m\u001b[0m\u001b[0m\n",
      "\u001b[0;32m<ipython-input-123-6603bd928a0a>\u001b[0m in \u001b[0;36m__init__\u001b[0;34m(self, Y_raw_data, K, lam, Xinit, Winit, learning_rate, max_iter, print_every)\u001b[0m\n\u001b[1;32m     15\u001b[0m         \u001b[0mself\u001b[0m\u001b[0;34m.\u001b[0m\u001b[0mprint_every\u001b[0m \u001b[0;34m=\u001b[0m \u001b[0mprint_every\u001b[0m\u001b[0;34m\u001b[0m\u001b[0m\n\u001b[1;32m     16\u001b[0m         \u001b[0;31m# number of users and items. Remember to add 1 since id starts from 0\u001b[0m\u001b[0;34m\u001b[0m\u001b[0;34m\u001b[0m\u001b[0m\n\u001b[0;32m---> 17\u001b[0;31m         \u001b[0mself\u001b[0m\u001b[0;34m.\u001b[0m\u001b[0mn_users\u001b[0m \u001b[0;34m=\u001b[0m \u001b[0mint\u001b[0m\u001b[0;34m(\u001b[0m\u001b[0mnp\u001b[0m\u001b[0;34m.\u001b[0m\u001b[0mmax\u001b[0m\u001b[0;34m(\u001b[0m\u001b[0mself\u001b[0m\u001b[0;34m.\u001b[0m\u001b[0mY_data\u001b[0m\u001b[0;34m[\u001b[0m\u001b[0;34m:\u001b[0m\u001b[0;34m,\u001b[0m \u001b[0;36m0\u001b[0m\u001b[0;34m]\u001b[0m\u001b[0;34m)\u001b[0m\u001b[0;34m)\u001b[0m \u001b[0;34m+\u001b[0m \u001b[0;36m1\u001b[0m\u001b[0;34m\u001b[0m\u001b[0m\n\u001b[0m\u001b[1;32m     18\u001b[0m         \u001b[0mself\u001b[0m\u001b[0;34m.\u001b[0m\u001b[0mn_items\u001b[0m \u001b[0;34m=\u001b[0m \u001b[0mint\u001b[0m\u001b[0;34m(\u001b[0m\u001b[0mnp\u001b[0m\u001b[0;34m.\u001b[0m\u001b[0mmax\u001b[0m\u001b[0;34m(\u001b[0m\u001b[0mself\u001b[0m\u001b[0;34m.\u001b[0m\u001b[0mY_data\u001b[0m\u001b[0;34m[\u001b[0m\u001b[0;34m:\u001b[0m\u001b[0;34m,\u001b[0m \u001b[0;36m1\u001b[0m\u001b[0;34m]\u001b[0m\u001b[0;34m)\u001b[0m\u001b[0;34m)\u001b[0m \u001b[0;34m+\u001b[0m \u001b[0;36m1\u001b[0m\u001b[0;34m\u001b[0m\u001b[0m\n\u001b[1;32m     19\u001b[0m \u001b[0;34m\u001b[0m\u001b[0m\n",
      "\u001b[0;31mAttributeError\u001b[0m: 'MF' object has no attribute 'Y_data'"
     ]
    }
   ],
   "source": [
    "rs4 = MF(rate_train, K = 2, lam = 0.01, print_every = 20, \\\n",
    "         learning_rate = 0.5, max_iter = 500)\n",
    "rs4.fit()\n",
    "\n",
    "n_tests = rate_test.shape[0]\n",
    "SE = 0 # squared error\n",
    "for n in xrange(n_tests):\n",
    "    pred = rs4.pred(rate_test[n, 0], rate_test[n, 1])\n",
    "    SE += (pred - rate_test[n, 2])**2 \n",
    "\n",
    "RMSE = np.sqrt(SE/n_tests)\n",
    "print 'Item-item CF, RMSE =', RMSE"
   ]
  },
  {
   "cell_type": "markdown",
   "metadata": {
    "collapsed": true
   },
   "source": [
    "\\\\[\n",
    "\\mathbf{w}_n = \\mathbf{w}_n - \\eta \\left(-\\frac{1}{s}\\hat{\\mathbf{X}}_n^T (\\hat{\\mathbf{y}}_n - \\hat{\\mathbf{X}}_n\\mathbf{w}_n) + \\lambda \\mathbf{w}_n\\right) ~~~~~(7)\n",
    "\\\\]"
   ]
  },
  {
   "cell_type": "code",
   "execution_count": null,
   "metadata": {
    "collapsed": true
   },
   "outputs": [],
   "source": []
  }
 ],
 "metadata": {
  "kernelspec": {
   "display_name": "Python 2",
   "language": "python",
   "name": "python2"
  },
  "language_info": {
   "codemirror_mode": {
    "name": "ipython",
    "version": 2
   },
   "file_extension": ".py",
   "mimetype": "text/x-python",
   "name": "python",
   "nbconvert_exporter": "python",
   "pygments_lexer": "ipython2",
   "version": "2.7.13"
  }
 },
 "nbformat": 4,
 "nbformat_minor": 2
}
