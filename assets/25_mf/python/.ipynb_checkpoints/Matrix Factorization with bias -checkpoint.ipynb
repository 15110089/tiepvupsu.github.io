{
 "cells": [
  {
   "cell_type": "markdown",
   "metadata": {
    "collapsed": true
   },
   "source": [
    "# Matrix Factorization"
   ]
  },
  {
   "cell_type": "code",
   "execution_count": 16,
   "metadata": {},
   "outputs": [
    {
     "name": "stdout",
     "output_type": "stream",
     "text": [
      " iter = 10 , loss = 1.10536226142 , RMSE train = 1.2299702911\n",
      "1.2299702911\n"
     ]
    }
   ],
   "source": [
    "import pandas as pd \n",
    "import numpy as np\n",
    "from sklearn.metrics.pairwise import cosine_similarity\n",
    "from scipy import sparse \n",
    "\n",
    "class MF(object):\n",
    "    \"\"\"docstring for CF\"\"\"\n",
    "    def __init__(self, Y_data, K, lam = 0.1, Xinit = None, Winit = None, \n",
    "                 learning_rate = 0.5, max_iter = 1000, print_every = 100, user_based = 0):\n",
    "        self.Y_raw = Y_data.copy()\n",
    "        self.Y_data = Y_data.copy()\n",
    "        self.K = K\n",
    "        self.lam = lam\n",
    "        self.learning_rate = learning_rate\n",
    "        self.max_iter = max_iter\n",
    "        self.print_every = print_every\n",
    "        self.user_based = user_based\n",
    "        # number of users and items. Remember to add 1 since id starts from 0\n",
    "        self.n_users = int(np.max(Y_data[:, 0])) + 1 \n",
    "        self.n_items = int(np.max(Y_data[:, 1])) + 1\n",
    "        \n",
    "        if Xinit is None: \n",
    "            self.X = np.random.randn(self.n_items, K)\n",
    "        else:\n",
    "            self.X = Xinit \n",
    "        \n",
    "        if Winit is None: \n",
    "            self.W = np.random.randn(K, self.n_users)\n",
    "        else: \n",
    "            self.W = Winit\n",
    "        \n",
    "        # item biases\n",
    "        self.b = np.random.randn(self.n_items)\n",
    "        self.d = np.random.randn(self.n_users)\n",
    "        #self.all_users = self.Y_data[:,0] # all users (may be duplicated)\n",
    "        self.n_ratings = Y_data.shape[0]\n",
    "#         self.mu = np.mean(Y_data[:, 2])\n",
    "        self.mu = 0\n",
    " \n",
    "\n",
    "    def normalize_Y(self):\n",
    "        if self.user_based:\n",
    "            user_col = 0\n",
    "            item_col = 1\n",
    "            n_objects = self.n_users\n",
    "        else:\n",
    "            user_col = 1\n",
    "            item_col = 0 \n",
    "            n_objects = self.n_items\n",
    "\n",
    "        users = self.Y_data[:, user_col] \n",
    "        self.muu = np.zeros((n_objects,))\n",
    "        for n in xrange(n_objects):\n",
    "            # row indices of rating done by user n\n",
    "            # since indices need to be integers, we need to convert\n",
    "            ids = np.where(users == n)[0].astype(np.int32)\n",
    "            # indices of all ratings associated with user n\n",
    "            item_ids = self.Y_data[ids, item_col] \n",
    "            # and the corresponding ratings \n",
    "            ratings = self.Y_data[ids, 2]\n",
    "            # take mean\n",
    "            m = np.mean(ratings) \n",
    "#             print m\n",
    "            if np.isnan(m):\n",
    "                m = 0 # to avoid empty array and nan value\n",
    "            self.muu[n] = m\n",
    "            # normalize\n",
    "            self.Y_data[ids, 2] = ratings - m\n",
    "            \n",
    "            \n",
    "    def loss(self):\n",
    "        L = 0 \n",
    "        for i in xrange(self.n_ratings):\n",
    "            # user, item, rating\n",
    "            n, m, rate = int(self.Y_data[i, 0]), int(self.Y_data[i, 1]), self.Y_data[i, 2]\n",
    "            L += 0.5*(self.X[m, :].dot(self.W[:, n]) + self.b[m] + self.d[n] + self.mu - rate)**2\n",
    "            \n",
    "        # regularization, don't ever forget this \n",
    "        L /= self.n_ratings\n",
    "        L += 0.5*self.lam*(np.linalg.norm(self.X, 'fro') + np.linalg.norm(self.W, 'fro') + \\\n",
    "                          np.linalg.norm(self.b) + np.linalg.norm(self.d))\n",
    "        return L \n",
    "\n",
    "    \n",
    "    def get_items_rated_by_user(self, user_id):\n",
    "        \"\"\"\n",
    "        get all items which are rated by user n, and the corresponding ratings\n",
    "        \"\"\"\n",
    "        # y = self.Y_data_n[:,0] # all users (may be duplicated)\n",
    "        # item indices rated by user_id\n",
    "        # we need to +1 to user_id since in the rate_matrix, id starts from 1 \n",
    "        # while index in python starts from 0\n",
    "        ids = np.where(self.Y_data[:,0] == user_id)[0] \n",
    "        item_ids = self.Y_data[ids, 1].astype(np.int32) # index starts from 0 \n",
    "        ratings = self.Y_data[ids, 2]\n",
    "        return (item_ids, ratings)\n",
    "        \n",
    "        \n",
    "    def get_users_who_rate_item(self, item_id):\n",
    "        \"\"\"\n",
    "        get all users who rated item m and get the corresponding ratings\n",
    "        \"\"\"\n",
    "        ids = np.where(self.Y_data[:,1] == item_id)[0] \n",
    "        user_ids = self.Y_data[ids, 0].astype(np.int32)\n",
    "        ratings = self.Y_data[ids, 2]\n",
    "        return (user_ids, ratings)\n",
    "        \n",
    "    def updateX(self):\n",
    "        for m in xrange(self.n_items):\n",
    "            user_ids, ratings = self.get_users_who_rate_item(m)\n",
    "            \n",
    "            Wm = self.W[:, user_ids]\n",
    "            dm = self.d[user_ids]\n",
    "            xm = self.X[m, :]\n",
    "            \n",
    "            error = xm.dot(Wm) + self.b[m] + dm + self.mu - ratings \n",
    "            \n",
    "            grad_xm = error.dot(Wm.T)/self.n_ratings + self.lam*xm\n",
    "            grad_bm = np.sum(error)/self.n_ratings + self.lam*self.b[m]\n",
    "            self.X[m, :] -= self.learning_rate*grad_xm.reshape((self.K,))\n",
    "            self.b[m]    -= self.learning_rate*grad_bm\n",
    "    \n",
    "    def updateW(self):\n",
    "        for n in xrange(self.n_users):\n",
    "            item_ids, ratings = self.get_items_rated_by_user(n)\n",
    "            Xn = self.X[item_ids, :]\n",
    "            bn = self.b[item_ids]\n",
    "            wn = self.W[:, n]\n",
    "            \n",
    "            error = Xn.dot(wn) + bn + self.mu + self.d[n] - ratings\n",
    "            grad_wn = Xn.T.dot(error)/self.n_ratings + self.lam*wn\n",
    "            grad_dn = np.sum(error)/self.n_ratings + self.lam*self.d[n]\n",
    "            self.W[:, n] -= self.learning_rate*grad_wn.reshape((self.K,))\n",
    "            self.d[n]    -= self.learning_rate*grad_dn\n",
    "    \n",
    "    def fit(self):\n",
    "        self.normalize_Y()\n",
    "        for it in xrange(self.max_iter):\n",
    "            self.updateX()\n",
    "            self.updateW()\n",
    "            if (it + 1) % self.print_every == 0:\n",
    "                rmse_train = self.evaluate_RMSE(self.Y_raw)\n",
    "                print 'iter =', it + 1, ', loss =', self.loss(), ', RMSE train =', rmse_train\n",
    "    \n",
    "    \n",
    "    def pred(self, u, i):\n",
    "        \"\"\" \n",
    "        predict the rating of user u for item i \n",
    "        if you need the un\n",
    "        \"\"\"\n",
    "        u = int(u)\n",
    "        i = int(i)\n",
    "        if self.user_based == 1:\n",
    "            bias = self.muu[u]\n",
    "        else:\n",
    "            bias = self.muu[i]\n",
    "        \n",
    "        pred = self.X[i, :].dot(self.W[:, u]) + self.b[i] + self.d[u] + bias\n",
    "#         if pred < 0:\n",
    "#             return 0 \n",
    "#         if pred > 5: \n",
    "#             return 5 \n",
    "#         return pred \n",
    "        return max(0, min(5, pred))\n",
    "        \n",
    "    \n",
    "    def pred_for_user(self, user_id):\n",
    "        ids = np.where(self.Y_data_n[:, 0] == user_id)[0]\n",
    "        items_rated_by_u = self.Y_data_n[ids, 1].tolist()              \n",
    "        \n",
    "        y_pred = self.X.dot(self.W[:, user_id])\n",
    "        predicted_ratings= []\n",
    "        for i in xrange(self.n_items):\n",
    "            if i not in items_rated_by_u:\n",
    "                predicted_ratings.append((i, y_pred[i]))\n",
    "        \n",
    "        return predicted_ratings\n",
    "    \n",
    "    def evaluate_RMSE(self, rate_test):\n",
    "        n_tests = rate_test.shape[0]\n",
    "        SE = 0 # squared error\n",
    "        for n in xrange(n_tests):\n",
    "            pred = self.pred(rate_test[n, 0], rate_test[n, 1])\n",
    "#             print pred, rate_test[n, 2]\n",
    "            SE += (pred - rate_test[n, 2])**2 \n",
    "\n",
    "        RMSE = np.sqrt(SE/n_tests)\n",
    "        return RMSE\n",
    "        \n",
    "r_cols = ['user_id', 'item_id', 'rating']\n",
    "ratings = pd.read_csv('ex.dat', sep = ' ', names = r_cols, encoding='latin-1')\n",
    "Y_data = ratings.as_matrix()\n",
    "\n",
    "\n",
    "rs = MF(Y_data, K = 3, max_iter = 10, print_every = 10, lam = 0.1)\n",
    "\n",
    "rs.fit()\n",
    "rs.pred(6, 1)\n",
    "print rs.evaluate_RMSE(Y_data)"
   ]
  },
  {
   "cell_type": "code",
   "execution_count": 17,
   "metadata": {},
   "outputs": [
    {
     "name": "stdout",
     "output_type": "stream",
     "text": [
      "3.10824397307\n"
     ]
    }
   ],
   "source": [
    "print rs.pred(5, 0)"
   ]
  },
  {
   "cell_type": "markdown",
   "metadata": {},
   "source": [
    "# Áp dụng lên MovieLens 100k"
   ]
  },
  {
   "cell_type": "code",
   "execution_count": 18,
   "metadata": {
    "collapsed": true
   },
   "outputs": [],
   "source": [
    "r_cols = ['user_id', 'movie_id', 'rating', 'unix_timestamp']\n",
    "\n",
    "ratings_base = pd.read_csv('ml-100k/ub.base', sep='\\t', names=r_cols, encoding='latin-1')\n",
    "ratings_test = pd.read_csv('ml-100k/ub.test', sep='\\t', names=r_cols, encoding='latin-1')\n",
    "\n",
    "rate_train = ratings_base.as_matrix()\n",
    "rate_test = ratings_test.as_matrix()\n",
    "\n",
    "# indices start from 0\n",
    "rate_train[:, :2] -= 1\n",
    "rate_test[:, :2] -= 1"
   ]
  },
  {
   "cell_type": "code",
   "execution_count": 19,
   "metadata": {},
   "outputs": [
    {
     "name": "stdout",
     "output_type": "stream",
     "text": [
      "iter = 20 , loss = 10.3829771712 , RMSE train = 2.29269220078\n",
      "iter = 40 , loss = 3.32709504055 , RMSE train = 1.67746019655\n",
      "iter = 60 , loss = 1.64381055559 , RMSE train = 1.21546208511\n",
      "iter = 80 , loss = 1.04174708053 , RMSE train = 1.04060706166\n",
      "iter = 100 , loss = 0.741210424208 , RMSE train = 0.994309618723\n",
      "iter = 120 , loss = 0.562179043534 , RMSE train = 0.983239263623\n",
      "iter = 140 , loss = 0.447920082302 , RMSE train = 0.98050364954\n",
      "iter = 160 , loss = 0.373313076475 , RMSE train = 0.979809379969\n",
      "iter = 180 , loss = 0.324289583182 , RMSE train = 0.979641238821\n",
      "iter = 200 , loss = 0.29204083297 , RMSE train = 0.979610753484\n",
      "\n",
      "User-based MF, RMSE = 1.0434145232\n"
     ]
    }
   ],
   "source": [
    "rs = MF(rate_train, K = 100, lam = .01, print_every = 20, learning_rate = 2, max_iter = 200)\n",
    "rs.fit()\n",
    "# evaluate on test data\n",
    "RMSE = rs.evaluate_RMSE(rate_test)\n",
    "print '\\nUser-based MF, RMSE =', RMSE"
   ]
  },
  {
   "cell_type": "code",
   "execution_count": 20,
   "metadata": {},
   "outputs": [
    {
     "name": "stdout",
     "output_type": "stream",
     "text": [
      "iter = 20 , loss = 0.769235084078 , RMSE train = 1.13894722426\n",
      "iter = 40 , loss = 0.405859626303 , RMSE train = 1.00326223014\n",
      "iter = 60 , loss = 0.29591842174 , RMSE train = 0.983324695452\n",
      "iter = 80 , loss = 0.254945000106 , RMSE train = 0.980257178736\n",
      "iter = 100 , loss = 0.239197708431 , RMSE train = 0.979754247526\n",
      "iter = 120 , loss = 0.233242001484 , RMSE train = 0.979666185881\n",
      "iter = 140 , loss = 0.230923998862 , RMSE train = 0.979649051927\n",
      "iter = 160 , loss = 0.229968699959 , RMSE train = 0.979645052722\n",
      "iter = 180 , loss = 0.229559638112 , RMSE train = 0.979643857398\n",
      "iter = 200 , loss = 0.229381235896 , RMSE train = 0.97964341046\n",
      "\n",
      "User-based MF, RMSE = 1.04337939844\n"
     ]
    }
   ],
   "source": [
    "rs = MF(rate_train, K = 2, lam = .01, print_every = 20, learning_rate = 4, max_iter = 200)\n",
    "rs.fit()\n",
    "# evaluate on test data\n",
    "RMSE = rs.evaluate_RMSE(rate_test)\n",
    "print '\\nUser-based MF, RMSE =', RMSE"
   ]
  },
  {
   "cell_type": "code",
   "execution_count": 21,
   "metadata": {},
   "outputs": [
    {
     "name": "stdout",
     "output_type": "stream",
     "text": [
      "iter = 20 , loss = 1.29015504517 , RMSE train = 1.00553004903\n",
      "iter = 40 , loss = 0.361215751766 , RMSE train = 0.993682009715\n",
      "iter = 60 , loss = 0.254891363796 , RMSE train = 0.993680986056\n",
      "iter = 80 , loss = 0.24500660867 , RMSE train = 0.993698390749\n",
      "iter = 100 , loss = 0.24400673266 , RMSE train = 0.993700543104\n",
      "iter = 120 , loss = 0.243888642742 , RMSE train = 0.993700783286\n",
      "iter = 140 , loss = 0.243874343361 , RMSE train = 0.9937008098\n",
      "iter = 160 , loss = 0.243872606514 , RMSE train = 0.993700812726\n",
      "iter = 180 , loss = 0.243872395463 , RMSE train = 0.993700813048\n",
      "iter = 200 , loss = 0.243872369814 , RMSE train = 0.993700813084\n",
      "\n",
      "User-based MF, RMSE = 1.04893593879\n"
     ]
    }
   ],
   "source": [
    "rs = MF(rate_train, K = 2, lam = .1, print_every = 20, learning_rate = 1, max_iter = 200)\n",
    "rs.fit()\n",
    "# evaluate on test data\n",
    "RMSE = rs.evaluate_RMSE(rate_test)\n",
    "print '\\nUser-based MF, RMSE =', RMSE"
   ]
  },
  {
   "cell_type": "code",
   "execution_count": 15,
   "metadata": {},
   "outputs": [
    {
     "name": "stdout",
     "output_type": "stream",
     "text": [
      "3.52366125649\n"
     ]
    }
   ],
   "source": [
    "print rs.mu"
   ]
  },
  {
   "cell_type": "code",
   "execution_count": 16,
   "metadata": {},
   "outputs": [
    {
     "name": "stdout",
     "output_type": "stream",
     "text": [
      "[  1.51624720e-02  -4.10699274e-03  -4.19287653e-03 ...,  -2.86158044e-04\n",
      "   2.21988265e-04  -4.92006167e-05]\n"
     ]
    }
   ],
   "source": [
    "print rs.b"
   ]
  },
  {
   "cell_type": "code",
   "execution_count": 76,
   "metadata": {},
   "outputs": [
    {
     "name": "stdout",
     "output_type": "stream",
     "text": [
      "iter = 10 , loss = 5.62978100103 , RMSE train = 1.18231933756\n",
      "iter = 20 , loss = 2.61820113008 , RMSE train = 1.00601013825\n",
      "iter = 30 , loss = 1.32429630221 , RMSE train = 0.996672160644\n",
      "iter = 40 , loss = 0.734890958031 , RMSE train = 0.99621264651\n",
      "iter = 50 , loss = 0.464793412146 , RMSE train = 0.996184081495\n",
      "iter = 60 , loss = 0.340943058213 , RMSE train = 0.996181347407\n",
      "iter = 70 , loss = 0.284148579208 , RMSE train = 0.996180972472\n",
      "iter = 80 , loss = 0.258103818785 , RMSE train = 0.996180914097\n",
      "iter = 90 , loss = 0.246160195903 , RMSE train = 0.996180905172\n",
      "iter = 100 , loss = 0.240683073898 , RMSE train = 0.996180903957\n",
      "\n",
      "Item-based MF, RMSE = 1.04980475198\n"
     ]
    }
   ],
   "source": [
    "rs = MF(rate_train, K = 10, lam = .1, print_every = 10, learning_rate = 0.75, max_iter = 100, user_based = 0)\n",
    "rs.fit()\n",
    "# evaluate on test data\n",
    "RMSE = rs.evaluate_RMSE(rate_test)\n",
    "print '\\nItem-based MF, RMSE =', RMSE"
   ]
  },
  {
   "cell_type": "code",
   "execution_count": 54,
   "metadata": {},
   "outputs": [
    {
     "name": "stdout",
     "output_type": "stream",
     "text": [
      "iter = 10 , loss = 1.17651126822 , RMSE train = 1.6930165132\n",
      "iter = 20 , loss = 1.10979101182 , RMSE train = 1.653174829\n",
      "iter = 30 , loss = 1.05052963421 , RMSE train = 1.61696628995\n",
      "iter = 40 , loss = 0.997617918269 , RMSE train = 1.58393999724\n",
      "iter = 50 , loss = 0.950149094733 , RMSE train = 1.55371546764\n",
      "iter = 60 , loss = 0.907375557358 , RMSE train = 1.52596943774\n",
      "iter = 70 , loss = 0.868676093487 , RMSE train = 1.50042553833\n",
      "iter = 80 , loss = 0.833530789583 , RMSE train = 1.47684613248\n",
      "iter = 90 , loss = 0.801501610758 , RMSE train = 1.45502580368\n",
      "iter = 100 , loss = 0.772217224719 , RMSE train = 1.43478611596\n",
      "\n",
      "Item-based MF, RMSE = 1.54014628929\n"
     ]
    }
   ],
   "source": [
    "rs = MF(rate_train, K = 2, lam = 0, print_every = 10, learning_rate = 1, max_iter = 100, user_based = 0)\n",
    "rs.fit()\n",
    "# evaluate on test data\n",
    "RMSE = rs.evaluate_RMSE(rate_test)\n",
    "print '\\nItem-based MF, RMSE =', RMSE"
   ]
  },
  {
   "cell_type": "code",
   "execution_count": 55,
   "metadata": {
    "collapsed": true
   },
   "outputs": [],
   "source": [
    "RMSE = rs.evaluate_RMSE(rate_train)"
   ]
  },
  {
   "cell_type": "code",
   "execution_count": 56,
   "metadata": {},
   "outputs": [
    {
     "name": "stdout",
     "output_type": "stream",
     "text": [
      "1.43478611596\n"
     ]
    }
   ],
   "source": [
    "print RMSE"
   ]
  },
  {
   "cell_type": "markdown",
   "metadata": {},
   "source": [
    "# MovieLens 1M"
   ]
  },
  {
   "cell_type": "code",
   "execution_count": 77,
   "metadata": {},
   "outputs": [
    {
     "name": "stderr",
     "output_type": "stream",
     "text": [
      "/Library/Frameworks/Python.framework/Versions/2.7/lib/python2.7/site-packages/ipykernel_launcher.py:3: ParserWarning: Falling back to the 'python' engine because the 'c' engine does not support regex separators (separators > 1 char and different from '\\s+' are interpreted as regex); you can avoid this warning by specifying engine='python'.\n",
      "  This is separate from the ipykernel package so we can avoid doing imports until\n"
     ]
    }
   ],
   "source": [
    "r_cols = ['user_id', 'movie_id', 'rating', 'unix_timestamp']\n",
    "\n",
    "ratings_base = pd.read_csv('ml-1m/ratings.dat', sep='::', names=r_cols, encoding='latin-1')\n"
   ]
  },
  {
   "cell_type": "code",
   "execution_count": null,
   "metadata": {
    "collapsed": true
   },
   "outputs": [],
   "source": [
    "ratings = ratings_base.as_matrix()\n",
    "ratings[:, :2] -= 1\n",
    "\n",
    "from sklearn.model_selection import train_test_split\n",
    "\n",
    "rate_train, rate_test = train_test_split(ratings, test_size=0.33, random_state=42)\n",
    "print X_train.shape, X_test.shape\n",
    "\n",
    "rs = MF(rate_train, K = 2, lam = 0.1, print_every = 2, learning_rate = 2, max_iter = 10, user_based = 0)\n",
    "rs.fit()\n",
    "# evaluate on test data\n",
    "RMSE = rs.evaluate_RMSE(rate_test)\n",
    "print '\\nItem-based MF, RMSE =', RMSE"
   ]
  },
  {
   "cell_type": "code",
   "execution_count": null,
   "metadata": {
    "collapsed": true
   },
   "outputs": [],
   "source": []
  }
 ],
 "metadata": {
  "kernelspec": {
   "display_name": "Python 2",
   "language": "python",
   "name": "python2"
  },
  "language_info": {
   "codemirror_mode": {
    "name": "ipython",
    "version": 2
   },
   "file_extension": ".py",
   "mimetype": "text/x-python",
   "name": "python",
   "nbconvert_exporter": "python",
   "pygments_lexer": "ipython2",
   "version": "2.7.13"
  }
 },
 "nbformat": 4,
 "nbformat_minor": 2
}
