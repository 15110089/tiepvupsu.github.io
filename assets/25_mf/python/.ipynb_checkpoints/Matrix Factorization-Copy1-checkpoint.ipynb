{
 "cells": [
  {
   "cell_type": "markdown",
   "metadata": {
    "collapsed": true
   },
   "source": [
    "# Matrix Factorization"
   ]
  },
  {
   "cell_type": "code",
   "execution_count": 46,
   "metadata": {},
   "outputs": [
    {
     "name": "stdout",
     "output_type": "stream",
     "text": [
      "iter = 1000 , loss = 0.508432372012 , RMSE train = 0.758096712594\n"
     ]
    },
    {
     "data": {
      "text/plain": [
       "2.938304032959945"
      ]
     },
     "execution_count": 46,
     "metadata": {},
     "output_type": "execute_result"
    }
   ],
   "source": [
    "import pandas as pd \n",
    "import numpy as np\n",
    "from sklearn.metrics.pairwise import cosine_similarity\n",
    "from scipy import sparse \n",
    "\n",
    "class MF(object):\n",
    "    \"\"\"docstring for CF\"\"\"\n",
    "    def __init__(self, Y_data, K, lam = 0.1, Xinit = None, Winit = None, \n",
    "                 learning_rate = 0.5, max_iter = 1000, print_every = 100, user_based = 1):\n",
    "        self.Y_raw_data = Y_data\n",
    "        self.K = K\n",
    "        self.lam = lam\n",
    "        self.learning_rate = learning_rate\n",
    "        self.max_iter = max_iter\n",
    "        self.print_every = print_every\n",
    "        self.user_based = user_based\n",
    "        # number of users and items. Remember to add 1 since id starts from 0\n",
    "        self.n_users = int(np.max(Y_data[:, 0])) + 1 \n",
    "        self.n_items = int(np.max(Y_data[:, 1])) + 1\n",
    "        \n",
    "        if Xinit is None: \n",
    "            self.X = np.random.randn(self.n_items, K)\n",
    "        else:\n",
    "            self.X = Xinit \n",
    "        \n",
    "        if Winit is None: \n",
    "            self.W = np.random.randn(K, self.n_users)\n",
    "        else: \n",
    "            self.W = Winit\n",
    "            \n",
    "        #self.all_users = self.Y_data[:,0] # all users (may be duplicated)\n",
    "        self.n_ratings = Y_data.shape[0]\n",
    "        # normalized data\n",
    "        self.Y_data_n = self.Y_raw_data.copy()\n",
    "\n",
    "    def normalize_Y(self):\n",
    "        if self.user_based:\n",
    "            user_col = 0\n",
    "            item_col = 1\n",
    "            n_objects = self.n_users\n",
    "        else:\n",
    "            user_col = 1\n",
    "            item_col = 0 \n",
    "            n_objects = self.n_items\n",
    "\n",
    "        users = self.Y_raw_data[:, user_col] \n",
    "        self.mu = np.zeros((n_objects,))\n",
    "        for n in xrange(n_objects):\n",
    "            # row indices of rating done by user n\n",
    "            # since indices need to be integers, we need to convert\n",
    "            ids = np.where(users == n)[0].astype(np.int32)\n",
    "            # indices of all ratings associated with user n\n",
    "            item_ids = self.Y_data_n[ids, item_col] \n",
    "            # and the corresponding ratings \n",
    "            ratings = self.Y_data_n[ids, 2]\n",
    "            # take mean\n",
    "            m = np.mean(ratings) \n",
    "            if np.isnan(m):\n",
    "                m = 0 # to avoid empty array and nan value\n",
    "            self.mu[n] = m\n",
    "            # normalize\n",
    "            self.Y_data_n[ids, 2] = ratings - self.mu[n]\n",
    "            \n",
    "    \n",
    "    def loss(self):\n",
    "        L = 0 \n",
    "        for i in xrange(self.Y_data_n.shape[0]):\n",
    "            # user, item, rating\n",
    "            n, m, rate = int(self.Y_data_n[i, 0]), int(self.Y_data_n[i, 1]), self.Y_data_n[i, 2]\n",
    "            L += 0.5*(rate - self.X[m, :].dot(self.W[:, n]))**2\n",
    "            \n",
    "        # regularization, don't ever forget this \n",
    "        L /= self.n_ratings\n",
    "        L += 0.5*self.lam*(np.linalg.norm(self.X, 'fro') + np.linalg.norm(self.W, 'fro'))\n",
    "        return L \n",
    "\n",
    "    \n",
    "    def get_items_rated_by_user(self, user_id):\n",
    "        \"\"\"\n",
    "        get all items which are rated by user n, and the corresponding ratings\n",
    "        \"\"\"\n",
    "        # y = self.Y_data_n[:,0] # all users (may be duplicated)\n",
    "        # item indices rated by user_id\n",
    "        # we need to +1 to user_id since in the rate_matrix, id starts from 1 \n",
    "        # while index in python starts from 0\n",
    "        ids = np.where(self.Y_data_n[:,0] == user_id)[0] \n",
    "        item_ids = self.Y_data_n[ids, 1].astype(np.int32) # index starts from 0 \n",
    "        ratings = self.Y_data_n[ids, 2]\n",
    "        return (item_ids, ratings)\n",
    "        \n",
    "        \n",
    "    def get_users_who_rate_item(self, item_id):\n",
    "        \"\"\"\n",
    "        get all users who rated item m and get the corresponding ratings\n",
    "        \"\"\"\n",
    "        ids = np.where(self.Y_data_n[:,1] == item_id)[0] \n",
    "        user_ids = self.Y_data_n[ids, 0].astype(np.int32)\n",
    "        ratings = self.Y_data_n[ids, 2]\n",
    "        return (user_ids, ratings)\n",
    "        \n",
    "    def updateX(self):\n",
    "        for m in xrange(self.n_items):\n",
    "            user_ids, ratings = self.get_users_who_rate_item(m)\n",
    "            Wm = self.W[:, user_ids]\n",
    "            grad_xm = -(ratings - self.X[m, :].dot(Wm)).dot(Wm.T)/self.n_ratings + \\\n",
    "                                               self.lam*self.X[m, :]\n",
    "            self.X[m, :] -= self.learning_rate*grad_xm.reshape((self.K,))\n",
    "    \n",
    "    def updateW(self):\n",
    "        for n in xrange(self.n_users):\n",
    "            item_ids, ratings = self.get_items_rated_by_user(n)\n",
    "            Xn = self.X[item_ids, :]\n",
    "            grad_wn = -Xn.T.dot(ratings - Xn.dot(self.W[:, n]))/self.n_ratings + \\\n",
    "                        self.lam*self.W[:, n]\n",
    "            self.W[:, n] -= self.learning_rate*grad_wn.reshape((self.K,))\n",
    "    \n",
    "    def fit(self):\n",
    "        self.normalize_Y()\n",
    "        for it in xrange(self.max_iter):\n",
    "            self.updateX()\n",
    "            self.updateW()\n",
    "            if (it + 1) % self.print_every == 0:\n",
    "                rmse_train = self.evaluate_RMSE(self.Y_raw_data)\n",
    "                print 'iter =', it + 1, ', loss =', self.loss(), ', RMSE train =', rmse_train\n",
    "    \n",
    "    \n",
    "    def pred(self, u, i):\n",
    "        \"\"\" \n",
    "        predict the rating of user u for item i \n",
    "        if you need the un\n",
    "        \"\"\"\n",
    "        u = int(u)\n",
    "        i = int(i)\n",
    "        \n",
    "        if self.user_based:\n",
    "            bias = self.mu[u]\n",
    "        else: \n",
    "            bias = self.mu[i]\n",
    "        pred = self.X[i, :].dot(self.W[:, u]) + bias \n",
    "        if pred < 0:\n",
    "            return 0 \n",
    "        if pred > 5: \n",
    "            return 5 \n",
    "        return pred \n",
    "        \n",
    "    \n",
    "    def pred_for_user(self, user_id):\n",
    "        ids = np.where(self.Y_data_n[:, 0] == user_id)[0]\n",
    "        items_rated_by_u = self.Y_data_n[ids, 1].tolist()              \n",
    "        \n",
    "        y_pred = self.X.dot(self.W[:, user_id]) + self.mu[user_id]\n",
    "        predicted_ratings= []\n",
    "        for i in xrange(self.n_items):\n",
    "            if i not in items_rated_by_u:\n",
    "                predicted_ratings.append((i, y_pred[i]))\n",
    "        \n",
    "        return predicted_ratings\n",
    "    \n",
    "    def evaluate_RMSE(self, rate_test):\n",
    "        n_tests = rate_test.shape[0]\n",
    "        SE = 0 # squared error\n",
    "        for n in xrange(n_tests):\n",
    "            pred = self.pred(rate_test[n, 0], rate_test[n, 1])\n",
    "            SE += (pred - rate_test[n, 2])**2 \n",
    "\n",
    "        RMSE = np.sqrt(SE/n_tests)\n",
    "        return RMSE\n",
    "        \n",
    "r_cols = ['user_id', 'item_id', 'rating']\n",
    "ratings = pd.read_csv('ex.dat', sep = ' ', names = r_cols, encoding='latin-1')\n",
    "Y_data = ratings.as_matrix()\n",
    "\n",
    "\n",
    "rs = MF(Y_data, K = 2, max_iter = 1000, print_every = 1000)\n",
    "\n",
    "rs.fit()\n",
    "rs.pred(6, 1)"
   ]
  },
  {
   "cell_type": "code",
   "execution_count": 47,
   "metadata": {},
   "outputs": [
    {
     "name": "stdout",
     "output_type": "stream",
     "text": [
      "[[ 4.16629535  4.01678963  1.8074039   0.22167739  1.71832032  1.43299844\n",
      "   2.37174282]\n",
      " [ 3.65911299  3.28631916  2.21627037  0.81557865  2.14422323  1.47955528\n",
      "   2.93830403]\n",
      " [ 3.99827122  3.85488251  1.87310438  0.47700069  1.87792654  1.42252142\n",
      "   2.46561193]\n",
      " [ 2.44206389  1.7008018   3.05165655  2.36309739  3.20490483  1.53715718\n",
      "   4.10179879]\n",
      " [ 2.26012212  1.32026265  3.30153193  2.48949045  3.33030404  1.59218006\n",
      "   4.44386269]]\n"
     ]
    }
   ],
   "source": [
    "print rs.X.dot(rs.W) + rs.mu"
   ]
  },
  {
   "cell_type": "markdown",
   "metadata": {},
   "source": [
    "# Áp dụng lên MovieLens 100k"
   ]
  },
  {
   "cell_type": "code",
   "execution_count": 48,
   "metadata": {
    "collapsed": true
   },
   "outputs": [],
   "source": [
    "r_cols = ['user_id', 'movie_id', 'rating', 'unix_timestamp']\n",
    "\n",
    "ratings_base = pd.read_csv('ml-100k/ub.base', sep='\\t', names=r_cols, encoding='latin-1')\n",
    "ratings_test = pd.read_csv('ml-100k/ub.test', sep='\\t', names=r_cols, encoding='latin-1')\n",
    "\n",
    "rate_train = ratings_base.as_matrix()\n",
    "rate_test = ratings_test.as_matrix()\n",
    "\n",
    "# indices start from 0\n",
    "rate_train[:, :2] -= 1\n",
    "rate_test[:, :2] -= 1"
   ]
  },
  {
   "cell_type": "code",
   "execution_count": 49,
   "metadata": {},
   "outputs": [
    {
     "name": "stdout",
     "output_type": "stream",
     "text": [
      "iter = 10 , loss = 5.63540758999 , RMSE train = 1.21343532557\n",
      "iter = 20 , loss = 2.6336945474 , RMSE train = 1.03779009714\n",
      "iter = 30 , loss = 1.34083558067 , RMSE train = 1.02954430835\n",
      "iter = 40 , loss = 0.751690767822 , RMSE train = 1.02921682088\n",
      "iter = 50 , loss = 0.481688496562 , RMSE train = 1.0292115742\n",
      "iter = 60 , loss = 0.357877396499 , RMSE train = 1.02921353843\n",
      "iter = 70 , loss = 0.301099861402 , RMSE train = 1.02921414066\n",
      "iter = 80 , loss = 0.275062572276 , RMSE train = 1.02921428692\n",
      "iter = 90 , loss = 0.263122276674 , RMSE train = 1.02921432092\n",
      "iter = 100 , loss = 0.257646643103 , RMSE train = 1.02921432871\n",
      "\n",
      "User-based MF, RMSE = 1.06037990353\n"
     ]
    }
   ],
   "source": [
    "rs = MF(rate_train, K = 10, lam = .1, print_every = 10, learning_rate = 0.75, max_iter = 100, user_based = 1)\n",
    "rs.fit()\n",
    "# evaluate on test data\n",
    "RMSE = rs.evaluate_RMSE(rate_test)\n",
    "print '\\nUser-based MF, RMSE =', RMSE"
   ]
  },
  {
   "cell_type": "code",
   "execution_count": 50,
   "metadata": {},
   "outputs": [
    {
     "name": "stdout",
     "output_type": "stream",
     "text": [
      "iter = 10 , loss = 5.62864641327 , RMSE train = 1.19525604194\n",
      "iter = 20 , loss = 2.6174511364 , RMSE train = 1.0060599203\n",
      "iter = 30 , loss = 1.32395525352 , RMSE train = 0.996676734707\n",
      "iter = 40 , loss = 0.734737803721 , RMSE train = 0.996213297763\n",
      "iter = 50 , loss = 0.464724106763 , RMSE train = 0.996184195358\n",
      "iter = 60 , loss = 0.340911537859 , RMSE train = 0.996181368377\n",
      "iter = 70 , loss = 0.284134207792 , RMSE train = 0.996180976339\n",
      "iter = 80 , loss = 0.258097258721 , RMSE train = 0.9961809148\n",
      "iter = 90 , loss = 0.246157199963 , RMSE train = 0.996180905297\n",
      "iter = 100 , loss = 0.240681705415 , RMSE train = 0.996180903978\n",
      "\n",
      "Item-based MF, RMSE = 1.04980474145\n"
     ]
    }
   ],
   "source": [
    "rs = MF(rate_train, K = 10, lam = .1, print_every = 10, learning_rate = 0.75, max_iter = 100, user_based = 0)\n",
    "rs.fit()\n",
    "# evaluate on test data\n",
    "RMSE = rs.evaluate_RMSE(rate_test)\n",
    "print '\\nItem-based MF, RMSE =', RMSE"
   ]
  },
  {
   "cell_type": "code",
   "execution_count": 54,
   "metadata": {},
   "outputs": [
    {
     "name": "stdout",
     "output_type": "stream",
     "text": [
      "iter = 10 , loss = 1.17651126822 , RMSE train = 1.6930165132\n",
      "iter = 20 , loss = 1.10979101182 , RMSE train = 1.653174829\n",
      "iter = 30 , loss = 1.05052963421 , RMSE train = 1.61696628995\n",
      "iter = 40 , loss = 0.997617918269 , RMSE train = 1.58393999724\n",
      "iter = 50 , loss = 0.950149094733 , RMSE train = 1.55371546764\n",
      "iter = 60 , loss = 0.907375557358 , RMSE train = 1.52596943774\n",
      "iter = 70 , loss = 0.868676093487 , RMSE train = 1.50042553833\n",
      "iter = 80 , loss = 0.833530789583 , RMSE train = 1.47684613248\n",
      "iter = 90 , loss = 0.801501610758 , RMSE train = 1.45502580368\n",
      "iter = 100 , loss = 0.772217224719 , RMSE train = 1.43478611596\n",
      "\n",
      "Item-based MF, RMSE = 1.54014628929\n"
     ]
    }
   ],
   "source": [
    "rs = MF(rate_train, K = 2, lam = 0, print_every = 10, learning_rate = 1, max_iter = 100, user_based = 0)\n",
    "rs.fit()\n",
    "# evaluate on test data\n",
    "RMSE = rs.evaluate_RMSE(rate_test)\n",
    "print '\\nItem-based MF, RMSE =', RMSE"
   ]
  },
  {
   "cell_type": "code",
   "execution_count": 55,
   "metadata": {
    "collapsed": true
   },
   "outputs": [],
   "source": [
    "RMSE = rs.evaluate_RMSE(rate_train)"
   ]
  },
  {
   "cell_type": "code",
   "execution_count": 56,
   "metadata": {},
   "outputs": [
    {
     "name": "stdout",
     "output_type": "stream",
     "text": [
      "1.43478611596\n"
     ]
    }
   ],
   "source": [
    "print RMSE"
   ]
  },
  {
   "cell_type": "markdown",
   "metadata": {},
   "source": [
    "# MovieLens 1M"
   ]
  },
  {
   "cell_type": "code",
   "execution_count": 58,
   "metadata": {},
   "outputs": [
    {
     "name": "stderr",
     "output_type": "stream",
     "text": [
      "/Library/Frameworks/Python.framework/Versions/2.7/lib/python2.7/site-packages/ipykernel_launcher.py:3: ParserWarning: Falling back to the 'python' engine because the 'c' engine does not support regex separators (separators > 1 char and different from '\\s+' are interpreted as regex); you can avoid this warning by specifying engine='python'.\n",
      "  This is separate from the ipykernel package so we can avoid doing imports until\n"
     ]
    }
   ],
   "source": [
    "r_cols = ['user_id', 'movie_id', 'rating', 'unix_timestamp']\n",
    "\n",
    "ratings_base = pd.read_csv('ml-1m/ratings.dat', sep='::', names=r_cols, encoding='latin-1')\n"
   ]
  },
  {
   "cell_type": "code",
   "execution_count": 61,
   "metadata": {
    "collapsed": true
   },
   "outputs": [],
   "source": [
    "ratings = ratings_base.as_matrix()\n",
    "ratings[:, :2] -= 1"
   ]
  },
  {
   "cell_type": "code",
   "execution_count": 64,
   "metadata": {},
   "outputs": [],
   "source": [
    "from sklearn.model_selection import train_test_split\n",
    "\n",
    "rate_train, rate_test = train_test_split(ratings, test_size=0.33, random_state=42)\n",
    "\n",
    "print X_train.shape, X_test.shape"
   ]
  },
  {
   "cell_type": "code",
   "execution_count": 71,
   "metadata": {},
   "outputs": [
    {
     "name": "stdout",
     "output_type": "stream",
     "text": [
      "iter = 2 , loss = 6.76920739892 , RMSE train = 1.13045962196\n",
      "iter = 4 , loss = 4.33242998809 , RMSE train = 1.00137984382\n",
      "iter = 6 , loss = 2.83874328385 , RMSE train = 0.978079099948\n",
      "iter = 8 , loss = 1.89387722955 , RMSE train = 0.974092906449\n",
      "iter = 10 , loss = 1.29104896035 , RMSE train = 0.973411317807\n",
      "\n",
      "Item-based MF, RMSE = 0.981641582272\n"
     ]
    }
   ],
   "source": [
    "rs = MF(rate_train, K = 2, lam = 0.1, print_every = 2, learning_rate = 2, max_iter = 10, user_based = 0)\n",
    "rs.fit()\n",
    "# evaluate on test data\n",
    "RMSE = rs.evaluate_RMSE(rate_test)\n",
    "print '\\nItem-based MF, RMSE =', RMSE"
   ]
  },
  {
   "cell_type": "code",
   "execution_count": null,
   "metadata": {
    "collapsed": true
   },
   "outputs": [],
   "source": []
  },
  {
   "cell_type": "code",
   "execution_count": null,
   "metadata": {
    "collapsed": true
   },
   "outputs": [],
   "source": []
  }
 ],
 "metadata": {
  "kernelspec": {
   "display_name": "Python 2",
   "language": "python",
   "name": "python2"
  },
  "language_info": {
   "codemirror_mode": {
    "name": "ipython",
    "version": 2
   },
   "file_extension": ".py",
   "mimetype": "text/x-python",
   "name": "python",
   "nbconvert_exporter": "python",
   "pygments_lexer": "ipython2",
   "version": "2.7.13"
  }
 },
 "nbformat": 4,
 "nbformat_minor": 2
}
