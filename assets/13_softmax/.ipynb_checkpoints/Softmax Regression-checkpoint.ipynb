{
 "cells": [
  {
   "cell_type": "code",
   "execution_count": 41,
   "metadata": {
    "collapsed": true
   },
   "outputs": [],
   "source": [
    "import numpy as np \n",
    "\n",
    "np.random.seed(1)                          # for fixing random values\n",
    "\n",
    "# randomly generate data \n",
    "N = 2 # number of training sample \n",
    "d = 2 # data dimension \n",
    "C = 3 # number of classes \n",
    "\n",
    "X = np.random.randn(d, N)\n",
    "y = np.random.randint(0, 3, (N,))"
   ]
  },
  {
   "cell_type": "code",
   "execution_count": 47,
   "metadata": {
    "collapsed": false
   },
   "outputs": [
    {
     "name": "stdout",
     "output_type": "stream",
     "text": [
      "[2 1]\n",
      "[[0 0]\n",
      " [0 1]\n",
      " [1 0]]\n"
     ]
    }
   ],
   "source": [
    "from scipy import sparse \n",
    "def convert_labels(y, C = C):\n",
    "    \"\"\"\n",
    "    convert 1d label to a matrix label: each column of this \n",
    "    matrix coresponding to 1 element in y. In i-th column of Y, \n",
    "    only one non-zeros element located in the y[i]-th position, \n",
    "    and = 1 ex: y = [0, 2, 1, 0], and 3 classes then return\n",
    "\n",
    "            [[1, 0, 0, 1],\n",
    "             [0, 0, 1, 0],\n",
    "             [0, 1, 0, 0]]\n",
    "    \"\"\"\n",
    "    Y = sparse.coo_matrix((np.ones_like(y), \n",
    "        (y, np.arange(len(y)))), shape = (C, len(y))).toarray()\n",
    "    return Y \n",
    "\n",
    "Y = convert_labels(y, C)\n",
    "print(y)\n",
    "print(Y)"
   ]
  },
  {
   "cell_type": "code",
   "execution_count": 48,
   "metadata": {
    "collapsed": false
   },
   "outputs": [
    {
     "name": "stdout",
     "output_type": "stream",
     "text": [
      "2.70479295591e-10\n"
     ]
    }
   ],
   "source": [
    "\n",
    "\n",
    "def softmax(V):\n",
    "    \"\"\"\n",
    "    Compute softmax values for each sets of scores in V.\n",
    "    each column of V is a set of score.    \n",
    "    \"\"\"\n",
    "    e_V = np.exp(V)\n",
    "    Z = e_V / e_V.sum(axis = 0)\n",
    "    return Z\n",
    "\n",
    "def softmax_stable(V):\n",
    "    \"\"\"\n",
    "    Compute softmax values for each sets of scores in V.\n",
    "    each column of V is a set of score.    \n",
    "    \"\"\"\n",
    "    e_V = np.exp(V - np.max(V, axis = 0, keepdims = True))\n",
    "    Z = e_V / e_V.sum(axis = 0)\n",
    "    return Z\n",
    "\n",
    "# cost or loss function  \n",
    "def cost(X, Y, W):\n",
    "    Z = softmax(W.T.dot(X))\n",
    "    return -np.sum(Y*np.log(Z))\n",
    "\n",
    "W_init = np.random.randn(d, C)\n",
    "\n",
    "def grad(X, Y, W):\n",
    "    Z = softmax((W.T.dot(X)))\n",
    "    U = Z - Y\n",
    "    return X.dot(U.T)\n",
    "    \n",
    "def numerical_grad(X, Y, W, cost):\n",
    "    eps = 1e-6\n",
    "    g = np.zeros_like(W)\n",
    "    for i in range(W.shape[0]):\n",
    "        for j in range(W.shape[1]):\n",
    "            W_p = W.copy()\n",
    "            W_n = W.copy()\n",
    "            W_p[i, j] += eps \n",
    "            W_n[i, j] -= eps\n",
    "            g[i,j] = (cost(X, Y, W_p) - cost(X, Y, W_n))/(2*eps)\n",
    "    return g \n",
    "\n",
    "g1 = grad(X, Y, W_init)\n",
    "g2 = numerical_grad(X, Y, W_init, cost)\n",
    "\n",
    "print(np.linalg.norm(g1 - g2))\n"
   ]
  },
  {
   "cell_type": "code",
   "execution_count": 55,
   "metadata": {
    "collapsed": false
   },
   "outputs": [
    {
     "name": "stdout",
     "output_type": "stream",
     "text": [
      "[[-0.34653936 -2.71954153  3.60034171]\n",
      " [ 2.06851307 -2.97138589  0.23302984]]\n"
     ]
    }
   ],
   "source": [
    "def softmax_regression(X, Y, W_init, eta, tol = 1e-4, max_count = 10000):\n",
    "    W = [W_init]    \n",
    "    it = 0\n",
    "    N = X.shape[1]\n",
    "    d = X.shape[0]\n",
    "    C = Y.shape[0]\n",
    "    count = 0\n",
    "    check_w_after = 20\n",
    "    while count < max_count:\n",
    "        # mix data \n",
    "        mix_id = np.random.permutation(N)\n",
    "        for i in mix_id:\n",
    "            xi = X[:, i].reshape(d, 1)\n",
    "            yi = Y[:, i].reshape(C, 1)\n",
    "            zi = softmax(np.dot(W[-1].T, xi))\n",
    "            W_new = W[-1] + eta*xi.dot((yi - zi).T)\n",
    "            count += 1\n",
    "            # stopping criteria\n",
    "            if count%check_w_after == 0:                \n",
    "                if np.linalg.norm(W_new - W[-check_w_after]) < tol:\n",
    "                    return W\n",
    "            W.append(W_new)\n",
    "    return W\n",
    "eta = .05 \n",
    "d = X.shape[0]\n",
    "W_init = np.random.randn(d, C)\n",
    "\n",
    "W = softmax_regression(X, Y, W_init, eta)\n",
    "print(W[-1])"
   ]
  },
  {
   "cell_type": "code",
   "execution_count": null,
   "metadata": {
    "collapsed": true
   },
   "outputs": [],
   "source": [
    "def pred(W, X):\n",
    "    \"\"\"\n",
    "    predict output of each columns of X\n",
    "    Class of each x_i is determined by location of max probability\n",
    "    Note that class are indexed by [0, 1, 2, ...., C-1]\n",
    "    \"\"\"\n",
    "    Z = softmax_stable(W.T.dot(X))\n",
    "    return np.amax(Z, axis = 0)"
   ]
  },
  {
   "cell_type": "code",
   "execution_count": 4,
   "metadata": {
    "collapsed": false
   },
   "outputs": [
    {
     "name": "stdout",
     "output_type": "stream",
     "text": [
      "[[ 0.51175343  0.33333333  0.50648039  0.48661251]\n",
      " [ 0.41898827  0.33333333  0.30719589  0.48661251]\n",
      " [ 0.0692583   0.33333333  0.18632372  0.02677499]]\n"
     ]
    }
   ],
   "source": [
    "a = np.array([[2, 1, -1, 3], [1.8, 1, -1.5, 3], [0, 1, -2, .1]])\n",
    "am = softmax_stable(a)\n",
    "print(am)"
   ]
  }
 ],
 "metadata": {
  "kernelspec": {
   "display_name": "Python 2",
   "language": "python",
   "name": "python2"
  },
  "language_info": {
   "codemirror_mode": {
    "name": "ipython",
    "version": 2
   },
   "file_extension": ".py",
   "mimetype": "text/x-python",
   "name": "python",
   "nbconvert_exporter": "python",
   "pygments_lexer": "ipython2",
   "version": "2.7.12"
  }
 },
 "nbformat": 4,
 "nbformat_minor": 2
}
