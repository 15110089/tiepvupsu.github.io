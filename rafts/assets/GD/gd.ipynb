{
 "cells": [
  {
   "cell_type": "markdown",
   "metadata": {},
   "source": [
    "Các bạn hẳn thấy hình vẽ dưới đây quen thuộc:\n",
    "\n",
    "<div class=\"imgcap\">\n",
    " <img src =\"https://github.com/tiepvupsu/tiepvupsu.github.io/blob/master/assets/GD/gradient_descent.png?raw=true\" align = \"center\" width = \"600\">\n",
    "</div>\n",
    "\n",
    "Điểm màu xanh lục là điểm local minimum (cực tiểu), và cũng là điểm _global minimum_, của hàm số \\\\(f(x) = \\frac{1}{2}(x-1)^2 - 2\\\\). Từ đây trở đi, tôi sẽ dùng _local minimum_ để thay cho _điểm cực tiểu_, _global minimum_ để thay cho _điểm mà tại đó hàm số đạt giá trị nhỏ nhất_. \n",
    "\n",
    "Giả sử chúng ta đang quan tâm đến một hàm số một biến có đạo hàm mọi nơi. Xin cho tôi được nhắc lại vài điều đã quá quen thuộc:\n",
    "\n",
    "1. Điểm cực tiểu \\\\(x^\\*\\\\) của hàm số là điểm có đạo hàm \\\\(f'(x(t))\\\\) bằng 0. Hơn thế nữa, trong lân cận của nó, đạo hàm của các điểm phía bên trái \\\\(x^*\\\\) là không dương, đạo hàm của các điểm phía bên phải \\\\(x^*\\\\) là không âm.\n",
    "2. Đường tiếp tuyến với đồ thị hàm số đó tại 1 điểm bất kỳ có hệ số góc chính bằng đạo hàm của hàm số tại điểm đó. \n",
    "\n",
    "Trong hình phía trên, các điểm bên trái của điểm cực tiểu màu xanh lục có đạo hàm âm, các điểm bên phải có đạo hàm âm. Và đối với hàm số này, càng xa về phía trái của điểm cực tiểu thì đạo hàm càng âm, càng xa về phía phải thì đạo hàm càng âm. \n",
    "\n",
    "### Gradient Descent\n",
    "Trong Machine Learning nói riêng và Toán Tối Ưu nói chung, chúng ta thường xuyên phải tìm giá trị nhỏ nhất (hoặc đôi khi là lớn nhất) của một hàm số nào đó. Ví dụ như các hàm mất mát trong hai bài [Linear Regression](/2016/12/28/linearregression/) và [K-means Clustering](/2017/01/01/kmeans/). Nhìn chung, việc tìm giá trị nhỏ nhất (global minimum) của hàm số là không khả thi trong các bài toán này. Thay vào đó, người ta thường cố gắng tìm các điểm cực tiểu (local minimum), và ở một mức độ nào đó, coi đó là nghiệm cần tìm của bài toán. Các điểm cực tiểu là nghiệm của phương trình đạo hàm bằng 0. Nếu bằng một cách nào đó có thể tìm được toàn bộ (hữu hạn) các điểm cực tiểu, ta chỉ cần thay từng điểm cực tiểu đó vào hàm số rồi tìm điểm làm cho hàm có giá trị nhỏ nhất (_đoạn này nghe rất quen thuộc, đúng không?_). Tuy nhiên, trong hầu hết các trường hợp, việc giải phương trình đạo hàm bằng 0 trong thực tế vẫn là bất khả thi. Nguyên nhân có thể đến từ sự phức tạp của dạng của đạo hàm, từ việc các điểm dữ liệu có số chiều lớn, hoặc từ việc có quá nhiều điểm dữ liệu. \n",
    "\n",
    "Hướng tiếp cận phổ biến nhất là xuất phát từ một điểm mà chúng ta coi là _gần_ với nghiệm của bài toán, sau đó dùng một phép toán lặp để tiến dần đến điểm cần tìm, tức đến khi đạo hàm gần với 0. (Đây cũng chính là lý do phương pháp này được gọi là Gradient Descent - tức giảm đạo hàm). Gradient Descent (viết gọn là GD) và các biến thể của nó là một phương pháp được dùng nhiều nhất. \n",
    "\n",
    "## Gradient Descent cho hàm 1 biến\n",
    "Quay trở lại hình vẽ ban đầu và một vài quan sát tôi đã nêu. Giả sử  \\\\(x^\\*\\\\) là điểm global minimum màu xanh lục, \\\\(x(t)\\\\) là điểm ta tìm được sau vòng lặp thứ \\\\(t\\\\). Ta cần tìm một thuật toán để đưa \\\\(x(t)\\\\) về càng gần \\\\(x^\\*\\\\) càng tốt. \n",
    "\n",
    "Chúng ta lại có thêm hai quan sát nữa:\n",
    "\n",
    "1. Nếu đạo hàm của hàm số tại \\\\(x(t)\\\\): \\\\(f'(x(t)) > 0\\\\) thì \\\\(x(t)\\\\) nằm về bên phải so với \\\\(x^*\\\\) (và ngược lại). Để điểm tiếp theo \\\\(x(t+1)\\\\) gần với \\\\(x^\\*\\\\) hơn, chúng ta cần di chuyển \\\\(x(t)\\\\) về phía bên trái, tức về phía _âm_. Nói các khác, __chúng ta cần di chuyển ngược dấu với đạo hàm__:\n",
    "\\\\[\n",
    "x(t+1) = x(t) + \\delta\n",
    "\\\\]\n",
    "Trong đó \\\\(\\delta\\\\) ngược dấu với đạo hàm.\n",
    "\n",
    "2. \\\\(f'(x(t))\\\\) càng lớn hơn 0 thì \\\\(x(t)\\\\) càng xa \\\\(x^*\\\\) về phía bên phải (và ngược lại). Vậy, lượng di chuyển \\delta, một cách trực quan nhất, là tỉ lệ thuận với \\\\(-f'(x(t))\\\\). \n",
    "\n",
    "Hai nhận xét phía trên cho chúng ta một các cập nhật đơn giản là:\n",
    "\\\\[\n",
    "x(t+1) = x(t) - \\eta f'(x(t))\n",
    "\\\\]\n",
    "\n",
    "Trong đó \\\\(\\eta\\\\) (đọc là _eta_) là một số dương được gọi là _learning rate_ (tốc độ học). Dấu trừ thể hiện việc chúng ta phải đi ngược với đạo hàm. \n",
    "\n",
    "### Ví dụ đơn giản với Python\n",
    "\n",
    "Xét hàm số \\\\(f(x) = x^2 + 5\\sin(x)\\\\) với đạo hàm \\\\(f'(x) = 2x + 5\\cos(x)\\\\) (tôi chọn hàm này vì nó không dễ tìm nghiệm của đạo hàm bằng 0 như hàm phía trên). Giả sử bắt đầu từ một điểm \\\\(x(0)\\\\) nào đó, tại vòng lặp thứ \\\\(t\\\\), chúng ta sẽ cập nhật như sau:\n",
    "\\\\[\n",
    "x(t+1) = x(t) - \\eta(2x + 5\\cos(x))\n",
    "\\\\]\n",
    "\n",
    "Như thường lệ, tôi khai báo vài thư viện quen thuộc"
   ]
  },
  {
   "cell_type": "code",
   "execution_count": 46,
   "metadata": {
    "collapsed": true
   },
   "outputs": [],
   "source": [
    "# To support both python 2 and python 3\n",
    "from __future__ import division, print_function, unicode_literals\n",
    "import math\n",
    "import numpy as np \n",
    "import matplotlib.pyplot as plt"
   ]
  },
  {
   "cell_type": "markdown",
   "metadata": {},
   "source": [
    "Tiếp theo, tôi viết các hàm số :\n",
    "\n",
    "1. `grad` để tính đạo hàm\n",
    "2. `cost` để tính giá trị của hàm số. Hàm này không sử dụng trong thuật toán nhưng thường được dùng để kiểm tra việc tính đạo hàm của đúng không hoặc để xem giá trị của hàm số có giảm theo mỗi vòng lặp hay không.\n",
    "3. `myGD1` là phần chính thực hiện thuật toán Gradient Desent nêu phía trên. Thuật toán dừng lại khi đạo hàm đủ nhỏ."
   ]
  },
  {
   "cell_type": "code",
   "execution_count": 73,
   "metadata": {
    "collapsed": false
   },
   "outputs": [],
   "source": [
    "def grad(x):\n",
    "    return 2*x+ 5*np.cos(x)\n",
    "\n",
    "def cost(x):\n",
    "    return x**2 + 5*np.sin(x)\n",
    "\n",
    "def myGD1(eta, x0):\n",
    "    x = [x0]\n",
    "    for it in range(100):\n",
    "        x_new = x[-1] - eta*grad(x[-1])\n",
    "        if abs(grad(x_new)) < 1e-3:\n",
    "            break\n",
    "        x.append(x_new)\n",
    "    return (x, it)"
   ]
  },
  {
   "cell_type": "markdown",
   "metadata": {},
   "source": [
    "Sau khi có các hàm cần thiết, tôi thử tìm nghiệm với các điểm ban đầu khác nhau là \\\\(x(0) = -5\\\\) và \\\\(x(0) = 5\\\\)."
   ]
  },
  {
   "cell_type": "code",
   "execution_count": 75,
   "metadata": {
    "collapsed": false
   },
   "outputs": [
    {
     "name": "stdout",
     "output_type": "stream",
     "text": [
      "Solution x1 = -1.110667, cost = -3.246394, obtained after 11 iterations\n",
      "Solution x2 = -1.110341, cost = -3.246394, obtained after 29 iterations\n"
     ]
    }
   ],
   "source": [
    "(x1, it1) = myGD1(.1, -5)\n",
    "(x2, it2) = myGD1(.1, 5)\n",
    "print('Solution x1 = %f, cost = %f, obtained after %d iterations'%(x1[-1], cost(x1[-1]), it1))\n",
    "print('Solution x2 = %f, cost = %f, obtained after %d iterations'%(x2[-1], cost(x2[-1]), it2))"
   ]
  },
  {
   "cell_type": "markdown",
   "metadata": {},
   "source": [
    "Vậy là với các điểm ban đầu khác nhau, thuật toán của chúng ta tìm được nghiệm giống nhau, mặc dù với tốc độ hội tụ khác nhau. Dưới đây là hình ảnh minh họa thuật toán GD cho bài toán này.\n",
    "\n",
    "\n",
    "<table width = \"100%\" style = \"border: 0px solid white\">\n",
    "   <tr >\n",
    "        <td width=\"50%\" style = \"border: 0px solid white\"> \n",
    "            <img src = \"/assets/GD/1dimg_5_0.1_-5.gif\">\n",
    "        </td>\n",
    "        <td width=\"50%\" style = \"border: 0px solid white\">\n",
    "            <img src = \"/assets/GD/1dimg_5_0.1_5.gif\">\n",
    "        </td>\n",
    "    </tr>\n",
    "</table> \n",
    "\n",
    "\n",
    "\n",
    "\n",
    "Từ hình minh họa trên ta thấy rằng bên trái hội tụ nhanh hơn (\\\\(x(0) = -5\\\\) vì nó gần với nghiệm hơn. Hơn nữa, khi (\\\\(x(0) = -5 \\\\), _đường đi_ của nó phải đi qua một điểm có hoành độ gần bằng 2, điểm này có đạo hàm khá nhỏ (nhưng khác 0), khiến cho thuật toán _la cà_ ở đây khá lâu. Khi vượt qua được điểm này thì mọi việc diễn ra rất tốt đẹp. \n",
    "\n",
    "Tốc độ hội tụ của GD không những phụ thuộc vào điểm khởi tạo ban đầu mà còn phụ thuộc vào _learning rate_. Dưới đây là một ví dụ với cùng điểm khởi tạo \\\\(x(0) = -5\\\\) nhưng tốc độ học khác nhau:\n",
    "\n",
    "Ta quan sát thấy hai điều:\n",
    "\n",
    "1. Với _learning rate_ nhỏ \\\\(x(0) = 0.01\\\\), tốc độ hội tụ rất chậm. Trong ví dụ này tôi chọn tối đa 100 vòng lặp nên thuật toán dừng lại trước khi tới _đích_, mặc dù đã rất gần. Trong thực tế, khi việc tính toán trở nên phức tạp, _learning rate_ quá thấp sẽ ảnh hưởng tới tốc độ của thuật toán rất nhiều, thậm chí không bao giờ tới được đích. \n",
    "2. Với _learning rate_ lớn \\\\(x(0) = 0.5\\\\), thuật toán tiến rất nhanh tới _gần đích_. Tuy nhiên, thuật toán không hội tụ được vì _bước nhảy_ quá lớn, khiến nó cứ _quẩn quanh_ ở đích. \n",
    "\n",
    "Việc lựa chọn _learning rate_ rất quan trọng trong các bài toán thực tế. Việc lựa chọn giá trị này phụ thuộc nhiều vào từng bài toán và phải làm một vài thí nghiệm để chọn ra giá trị tốt nhất. Ngoài ra, có một vài phương pháp lựa chọn _learning rate_, hoặc _learning rate_ khác nhau sau mỗi vòng lặp. Tôi sẽ quay lại vấn đề này ở phần sau. \n",
    "\n",
    "Trong ví dụ vừa rồi, điểm _local minimum_ cũng chính là điểm _global minimum_ nên GD vẫn trong vùng an toàn. Xét một ví dụ khác mà hàm số có nhiều hơn 1 điểm local minimum. "
   ]
  },
  {
   "cell_type": "code",
   "execution_count": null,
   "metadata": {
    "collapsed": true
   },
   "outputs": [],
   "source": []
  },
  {
   "cell_type": "code",
   "execution_count": 69,
   "metadata": {
    "collapsed": true
   },
   "outputs": [],
   "source": [
    "# To support both python 2 and python 3\n",
    "from __future__ import division, print_function, unicode_literals\n",
    "import math\n",
    "import numpy as np \n",
    "import matplotlib.pyplot as plt"
   ]
  },
  {
   "cell_type": "code",
   "execution_count": 70,
   "metadata": {
    "collapsed": false
   },
   "outputs": [],
   "source": [
    "c_sin = 5"
   ]
  },
  {
   "cell_type": "code",
   "execution_count": 71,
   "metadata": {
    "collapsed": false
   },
   "outputs": [
    {
     "name": "stdout",
     "output_type": "stream",
     "text": [
      "-1.11066673653 11\n"
     ]
    }
   ],
   "source": [
    "def grad(x):\n",
    "    return 2*x+ c_sin*np.cos(x)\n",
    "\n",
    "def cost(x):\n",
    "    return x**2 + c_sin*np.sin(x)\n",
    "\n",
    "def myGD1(eta, x0):\n",
    "    x = [x0]\n",
    "    for it in range(100):\n",
    "        x_new = x[-1] - eta*grad(x[-1])\n",
    "        if abs(grad(x_new)) < 1e-3:\n",
    "            break\n",
    "        x.append(x_new)\n",
    "    return (x, it)\n",
    "\n",
    "(w, it) = myGD1(.1, -5)\n",
    "print(w[-1], it)"
   ]
  },
  {
   "cell_type": "markdown",
   "metadata": {},
   "source": [
    "Minh họa thuật toán"
   ]
  },
  {
   "cell_type": "code",
   "execution_count": 79,
   "metadata": {
    "collapsed": false
   },
   "outputs": [],
   "source": [
    "import matplotlib.animation as animation\n",
    "from matplotlib.animation import FuncAnimation \n",
    "def save_gif(eta, x0):\n",
    "    (x, it) = myGD1(eta, x0)\n",
    "    xx = np.linspace(-4.5, 5.5, 1000)\n",
    "    yy = cost(xx)\n",
    "    x = np.asarray(x)\n",
    "    y = cost(x)\n",
    "    g = grad(x)\n",
    "    fig, ax = plt.subplots(figsize=(4, 4))\n",
    "    \n",
    "    title = '$f(x) = x^2 + %d\\sin(x)$; ' %c_sin\n",
    "    title += '$x_0 =  %d$; ' %x0\n",
    "    title += r'$\\eta = %.2f$ ' % eta\n",
    "    \n",
    "    def update(ii):\n",
    "        label2 = 'iter %d/%d: ' %(ii, it) + 'cost = %.2f' % y[ii] + ', grad = %.4f' %g[ii]\n",
    "\n",
    "        animlist = plt.cla()        \n",
    "        animlist = plt.axis([-6, 6, -8, 30])\n",
    "        animlist = plt.plot(xx, yy)\n",
    "        animlist = plt.title(title)\n",
    "        if ii == 0:\n",
    "            animlist = plt.plot(x[ii], y[ii], 'ro', markersize = 7)\n",
    "        else:\n",
    "            animlist = plt.plot(x[ii-1], y[ii-1], 'ko', markersize = 7)\n",
    "            animlist = plt.plot([x[ii-1], x[ii]], [y[ii-1], y[ii]], 'k-')\n",
    "            animlist = plt.plot(x[ii], y[ii], 'ro', markersize = 7)\n",
    "\n",
    "        ax.set_xlabel(label2)\n",
    "        return animlist, ax\n",
    "    \n",
    "    file_name = '1dimg_' + str(c_sin) + '_' \\\n",
    "        + str(eta) + '_'+ str(x0) + '.gif'\n",
    "    anim = FuncAnimation(fig, update, \n",
    "                frames=np.arange(0, it), interval=500)\n",
    "    anim.save(file_name, dpi=100, writer='imagemagick')\n",
    "\n",
    "save_gif(.01, -5)\n",
    "save_gif(.1, 5)\n",
    "save_gif(.1, -5)\n",
    "save_gif(.5, -5)"
   ]
  },
  {
   "cell_type": "markdown",
   "metadata": {},
   "source": [
    "\n",
    "### GD cho bài toán Linear Regression \n",
    "\n"
   ]
  },
  {
   "cell_type": "markdown",
   "metadata": {},
   "source": [
    "### Momentum\n",
    "\n"
   ]
  },
  {
   "cell_type": "markdown",
   "metadata": {},
   "source": [
    "## Thảo luận\n",
    "### Newton's method\n",
    "<div class=\"imgcap\">\n",
    " <img src =\"https://upload.wikimedia.org/wikipedia/commons/thumb/e/e0/NewtonIteration_Ani.gif/300px-NewtonIteration_Ani.gif\" align = \"center\" width = \"500\">\n",
    "</div>\n",
    "\n",
    "### Line search\n",
    "\n",
    "### Stochastic Gradient Descent \n",
    "\n",
    "### Mini-batch Gradient Descent\n",
    "\n",
    "## Tài liệu tham khảo\n",
    "1. http://sebastianruder.com/optimizing-gradient-descent/"
   ]
  }
 ],
 "metadata": {
  "kernelspec": {
   "display_name": "Python 2",
   "language": "python",
   "name": "python2"
  },
  "language_info": {
   "codemirror_mode": {
    "name": "ipython",
    "version": 2
   },
   "file_extension": ".py",
   "mimetype": "text/x-python",
   "name": "python",
   "nbconvert_exporter": "python",
   "pygments_lexer": "ipython2",
   "version": "2.7.12"
  }
 },
 "nbformat": 4,
 "nbformat_minor": 2
}
